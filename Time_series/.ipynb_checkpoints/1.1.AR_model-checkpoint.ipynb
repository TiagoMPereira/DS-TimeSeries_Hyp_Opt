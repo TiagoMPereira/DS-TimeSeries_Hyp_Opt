{
 "cells": [
  {
   "cell_type": "markdown",
   "metadata": {},
   "source": [
    "# Autoregressive Models (AR)"
   ]
  },
  {
   "cell_type": "markdown",
   "metadata": {},
   "source": [
    "## O que são??"
   ]
  },
  {
   "cell_type": "markdown",
   "metadata": {},
   "source": [
    "Modelos autorregressivos predizem valores como uma função dos _p_ valores anteriores\n",
    "\n",
    "Por exemplo, o valor de y no instante t com base apenas em um valor passado: __AR(1)__\n",
    "\n",
    "$y_t = \\phi_0+\\phi_1*y_{t-1}+e_t$\n",
    "\n",
    "Já utilizando _p_ valores anteriores : __AR(_p_)__\n",
    "\n",
    "$y_t = \\mu + \\sum_{i=1}^p \\phi_1^i + e_{t-1}$"
   ]
  },
  {
   "cell_type": "markdown",
   "metadata": {},
   "source": [
    "## Aplicando AR no dataset de passageiros aéreos"
   ]
  },
  {
   "cell_type": "code",
   "execution_count": 43,
   "metadata": {},
   "outputs": [],
   "source": [
    "#Importando bibliotecas básicas\n",
    "\n",
    "import numpy as np\n",
    "import matplotlib\n",
    "import matplotlib.pyplot as plt\n",
    "import pandas as pd\n",
    "import pylab\n",
    "from datetime import datetime\n",
    "\n",
    "%matplotlib inline"
   ]
  },
  {
   "cell_type": "code",
   "execution_count": 41,
   "metadata": {},
   "outputs": [
    {
     "data": {
      "text/html": [
       "<div>\n",
       "<style scoped>\n",
       "    .dataframe tbody tr th:only-of-type {\n",
       "        vertical-align: middle;\n",
       "    }\n",
       "\n",
       "    .dataframe tbody tr th {\n",
       "        vertical-align: top;\n",
       "    }\n",
       "\n",
       "    .dataframe thead th {\n",
       "        text-align: right;\n",
       "    }\n",
       "</style>\n",
       "<table border=\"1\" class=\"dataframe\">\n",
       "  <thead>\n",
       "    <tr style=\"text-align: right;\">\n",
       "      <th></th>\n",
       "      <th>Passengers</th>\n",
       "    </tr>\n",
       "    <tr>\n",
       "      <th>Month</th>\n",
       "      <th></th>\n",
       "    </tr>\n",
       "  </thead>\n",
       "  <tbody>\n",
       "    <tr>\n",
       "      <th>1960-08-01</th>\n",
       "      <td>606</td>\n",
       "    </tr>\n",
       "    <tr>\n",
       "      <th>1960-09-01</th>\n",
       "      <td>508</td>\n",
       "    </tr>\n",
       "    <tr>\n",
       "      <th>1960-10-01</th>\n",
       "      <td>461</td>\n",
       "    </tr>\n",
       "    <tr>\n",
       "      <th>1960-11-01</th>\n",
       "      <td>390</td>\n",
       "    </tr>\n",
       "    <tr>\n",
       "      <th>1960-12-01</th>\n",
       "      <td>432</td>\n",
       "    </tr>\n",
       "  </tbody>\n",
       "</table>\n",
       "</div>"
      ],
      "text/plain": [
       "            Passengers\n",
       "Month                 \n",
       "1960-08-01         606\n",
       "1960-09-01         508\n",
       "1960-10-01         461\n",
       "1960-11-01         390\n",
       "1960-12-01         432"
      ]
     },
     "execution_count": 41,
     "metadata": {},
     "output_type": "execute_result"
    }
   ],
   "source": [
    "# Lendo arquivo CSV contendo data e número de passageiros no vôo\n",
    "df = pd.read_csv('Datasets/AirPassengers.csv')\n",
    "\n",
    "#Definindo as datas como índice\n",
    "df['Month'] = pd.to_datetime(df['Month'])\n",
    "df = df.set_index('Month')\n",
    "df = df.rename(columns={\"#Passengers\":\"Passengers\"})\n",
    "df.tail()"
   ]
  },
  {
   "cell_type": "markdown",
   "metadata": {},
   "source": [
    "### Separando os dados de treino e teste"
   ]
  },
  {
   "cell_type": "markdown",
   "metadata": {},
   "source": [
    "A seguinte função irá dividir oa quantidade de passageiros por mêm em 75% de registros de treino e 25% de teste"
   ]
  },
  {
   "cell_type": "code",
   "execution_count": 36,
   "metadata": {},
   "outputs": [],
   "source": [
    "def train_test(data):\n",
    "    last_train = int(len(df)*0.75) #última posição de treino\n",
    "    train, test = data[0:last_train], data[last_train:]\n",
    "    return train, test"
   ]
  },
  {
   "cell_type": "code",
   "execution_count": 5,
   "metadata": {},
   "outputs": [],
   "source": [
    "train, test = train_test(df)"
   ]
  },
  {
   "cell_type": "markdown",
   "metadata": {},
   "source": [
    "### Análise de correlação"
   ]
  },
  {
   "cell_type": "markdown",
   "metadata": {},
   "source": [
    "A autocorrelação se trata da relação entre um valor e outro, ao plotar a autocorrelação o eixo X informa o \"espaço\" entre os dados. O eixo Y é o valor da correlação que varia entre 1 (muito forte) e -1 (inversa), em Y = 0 a correlação é nula. Ou seja a correlação entre o conjunto de dados em um intervalo de X dados."
   ]
  },
  {
   "cell_type": "code",
   "execution_count": 6,
   "metadata": {},
   "outputs": [],
   "source": [
    "#importando bibliotecas para visualização da autocorrelação\n",
    "from statsmodels.graphics.tsaplots import plot_acf, plot_pacf"
   ]
  },
  {
   "cell_type": "code",
   "execution_count": 13,
   "metadata": {},
   "outputs": [
    {
     "data": {
      "image/png": "[encoded data removed]",
      "text/plain": [
       "<Figure size 432x288 with 1 Axes>"
      ]
     },
     "metadata": {
      "needs_background": "light"
     },
     "output_type": "display_data"
    },
    {
     "data": {
      "image/png": "[encoded data removed]",
      "text/plain": [
       "<Figure size 432x288 with 1 Axes>"
      ]
     },
     "metadata": {
      "needs_background": "light"
     },
     "output_type": "display_data"
    }
   ],
   "source": [
    "#Plotando função de autocorrelação\n",
    "plot_acf(df, title = 'ACF')\n",
    "plt.grid()\n",
    "\n",
    "#Plotando função de autocorrelação parcial\n",
    "plot_pacf(df, title = 'PACF')\n",
    "plt.grid()\n",
    "\n",
    "plt.show()"
   ]
  },
  {
   "cell_type": "markdown",
   "metadata": {},
   "source": [
    "### Walk Forward validation (validação subsequente)"
   ]
  },
  {
   "cell_type": "markdown",
   "metadata": {},
   "source": [
    "A validação subsequente utiliza as predições como entradas para as próximas predições."
   ]
  },
  {
   "cell_type": "markdown",
   "metadata": {},
   "source": [
    "### Criando modelo AR"
   ]
  },
  {
   "cell_type": "code",
   "execution_count": 72,
   "metadata": {},
   "outputs": [],
   "source": [
    "#Importando auto regressor\n",
    "from statsmodels.tsa.ar_model import AR\n",
    "\n",
    "#Criando modelo AR com os dados de df, frequência Mensal com as datas de df.index\n",
    "ar_model = AR(df, freq = 'MS', dates = df.index)\n",
    "\n",
    "#treinando o modelo com o número l de lags\n",
    "l = 1\n",
    "ar_fit = ar_model.fit(maxlag = l)\n",
    "\n",
    "predictions = ar_fit.predict(start=datetime(1958, 1, 1), end=datetime(1960, 12, 1))"
   ]
  },
  {
   "cell_type": "code",
   "execution_count": 81,
   "metadata": {},
   "outputs": [
    {
     "ename": "ValueError",
     "evalue": "too many values to unpack (expected 2)",
     "output_type": "error",
     "traceback": [
      "\u001b[1;31m---------------------------------------------------------------------------\u001b[0m",
      "\u001b[1;31mValueError\u001b[0m                                Traceback (most recent call last)",
      "\u001b[1;32m<ipython-input-81-56dcd15a96cc>\u001b[0m in \u001b[0;36m<module>\u001b[1;34m\u001b[0m\n\u001b[1;32m----> 1\u001b[1;33m \u001b[1;32mfor\u001b[0m \u001b[0mi\u001b[0m\u001b[1;33m,\u001b[0m \u001b[0mj\u001b[0m \u001b[1;32min\u001b[0m \u001b[0mpredictions\u001b[0m\u001b[1;33m,\u001b[0m \u001b[0mtest\u001b[0m\u001b[1;33m[\u001b[0m\u001b[1;34m'Passengers'\u001b[0m\u001b[1;33m]\u001b[0m\u001b[1;33m:\u001b[0m\u001b[1;33m\u001b[0m\u001b[1;33m\u001b[0m\u001b[0m\n\u001b[0m\u001b[0;32m      2\u001b[0m     \u001b[0mprint\u001b[0m\u001b[1;33m(\u001b[0m\u001b[0mi\u001b[0m\u001b[1;33m)\u001b[0m\u001b[1;33m\u001b[0m\u001b[1;33m\u001b[0m\u001b[0m\n\u001b[0;32m      3\u001b[0m     \u001b[0mprint\u001b[0m\u001b[1;33m(\u001b[0m\u001b[0mj\u001b[0m\u001b[1;33m)\u001b[0m\u001b[1;33m\u001b[0m\u001b[1;33m\u001b[0m\u001b[0m\n",
      "\u001b[1;31mValueError\u001b[0m: too many values to unpack (expected 2)"
     ]
    }
   ],
   "source": [
    "for i, j in predictions, test['Passengers']:\n",
    "    print(i)\n",
    "    print(j)"
   ]
  },
  {
   "cell_type": "code",
   "execution_count": 82,
   "metadata": {},
   "outputs": [
    {
     "data": {
      "text/plain": [
       "1958-01-01    335.906649\n",
       "1958-02-01    339.742377\n",
       "1958-03-01    318.645874\n",
       "1958-04-01    360.838881\n",
       "1958-05-01    347.413833\n",
       "1958-06-01    361.797813\n",
       "1958-07-01    430.840915\n",
       "1958-08-01    484.541106\n",
       "1958-09-01    497.966154\n",
       "1958-10-01    401.114024\n",
       "1958-11-01    357.962085\n",
       "1958-12-01    310.974418\n",
       "1959-01-01    336.865581\n",
       "1959-02-01    358.921017\n",
       "1959-03-01    341.660241\n",
       "1959-04-01    403.031888\n",
       "1959-05-01    393.442568\n",
       "1959-06-01    416.456935\n",
       "1959-07-01    466.321398\n",
       "1959-08-01    539.200229\n",
       "1959-09-01    549.748480\n",
       "1959-10-01    457.691010\n",
       "1959-11-01    403.990820\n",
       "1959-12-01    360.838881\n",
       "1960-01-01    402.072956\n",
       "1960-02-01    413.580140\n",
       "1960-03-01    388.647908\n",
       "1960-04-01    415.498003\n",
       "1960-05-01    455.773147\n",
       "1960-06-01    466.321398\n",
       "1960-07-01    526.734113\n",
       "1960-08-01    610.161195\n",
       "1960-09-01    594.818283\n",
       "1960-10-01    500.842949\n",
       "1960-11-01    455.773147\n",
       "1960-12-01    387.688976\n",
       "Freq: MS, dtype: float64"
      ]
     },
     "execution_count": 82,
     "metadata": {},
     "output_type": "execute_result"
    }
   ],
   "source": [
    "predictions"
   ]
  },
  {
   "cell_type": "code",
   "execution_count": 75,
   "metadata": {},
   "outputs": [
    {
     "data": {
      "text/plain": [
       "(36, 1)"
      ]
     },
     "execution_count": 75,
     "metadata": {},
     "output_type": "execute_result"
    }
   ],
   "source": [
    "test.shape"
   ]
  },
  {
   "cell_type": "code",
   "execution_count": 83,
   "metadata": {},
   "outputs": [],
   "source": [
    "test2 = test['Passengers']"
   ]
  },
  {
   "cell_type": "code",
   "execution_count": 80,
   "metadata": {},
   "outputs": [
    {
     "name": "stdout",
     "output_type": "stream",
     "text": [
      "340\n",
      "318\n",
      "362\n",
      "348\n",
      "363\n",
      "435\n",
      "491\n",
      "505\n",
      "404\n",
      "359\n",
      "310\n",
      "337\n",
      "360\n",
      "342\n",
      "406\n",
      "396\n",
      "420\n",
      "472\n",
      "548\n",
      "559\n",
      "463\n",
      "407\n",
      "362\n",
      "405\n",
      "417\n",
      "391\n",
      "419\n",
      "461\n",
      "472\n",
      "535\n",
      "622\n",
      "606\n",
      "508\n",
      "461\n",
      "390\n",
      "432\n"
     ]
    }
   ],
   "source": [
    "for i in test['Passengers']:\n",
    "    print (i)"
   ]
  },
  {
   "cell_type": "code",
   "execution_count": null,
   "metadata": {},
   "outputs": [],
   "source": []
  }
 ],
 "metadata": {
  "kernelspec": {
   "display_name": "Python 3",
   "language": "python",
   "name": "python3"
  },
  "language_info": {
   "codemirror_mode": {
    "name": "ipython",
    "version": 3
   },
   "file_extension": ".py",
   "mimetype": "text/x-python",
   "name": "python",
   "nbconvert_exporter": "python",
   "pygments_lexer": "ipython3",
   "version": "3.7.9"
  }
 },
 "nbformat": 4,
 "nbformat_minor": 4
}
