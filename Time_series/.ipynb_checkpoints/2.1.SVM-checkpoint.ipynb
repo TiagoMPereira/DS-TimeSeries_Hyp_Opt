{
 "cells": [
  {
   "cell_type": "markdown",
   "metadata": {
    "id": "ZlKRPzx6Y4fr"
   },
   "source": [
    "# Support Vector Machines"
   ]
  },
  {
   "cell_type": "markdown",
   "metadata": {
    "id": "PhUcN-8yZAVW"
   },
   "source": [
    "## O que são?\n",
    "\n",
    "Support Vector Machines são modelos de aprendizado de máquina utilizados em grande escala para problemas de classificação, contudo também podem ser aplicados em modelos de regressão.\n",
    "\n",
    "* Classificação:\n",
    "\n",
    "    Os modelos SVM buscam um limiar de classificação entre os dados, por exemplo, imaginemos um conjunto de dados dispostos ao longo de um gráfico 2D, onde metade das observações é de \"carros\" e a outra metade é de \"motos\". As máquinas de vetor de suporte tentam encontrar um hiperplano que separe estas duas classes. \n",
    "    Entre as duas classes deve haver uma margem de separação, quanto maior a margem mais pontos discrepantes são aceitos, quanto menor a margem, menos pontos discrepantes são aceitos\n",
    "\n",
    "* Regressão:\n",
    "\n",
    "    Para problemas de regressão, as máquinas de vetor de suporte tentam seguir um padrão de acordo com os dados, quanto maior sua margem mais pontos o vetor utiliza como referência."
   ]
  },
  {
   "cell_type": "markdown",
   "metadata": {
    "id": "GIpZ2KeObo_D"
   },
   "source": [
    "### Exemplo de classificação"
   ]
  },
  {
   "cell_type": "code",
   "execution_count": 1,
   "metadata": {
    "executionInfo": {
     "elapsed": 667,
     "status": "ok",
     "timestamp": 1603137444399,
     "user": {
      "displayName": "Tiago Pereira",
      "photoUrl": "https://lh3.googleusercontent.com/a-/AOh14Gj5c_Z7Pn9hQwhKLHAtBNt6aYtVjRYHC314l3KOJg=s64",
      "userId": "11097066381903126138"
     },
     "user_tz": 180
    },
    "id": "cHQnhbehXc_m"
   },
   "outputs": [],
   "source": [
    "import numpy as np\n",
    "import matplotlib.pyplot as plt\n",
    "import pandas as pd\n",
    "from sklearn.svm import SVR, SVC\n",
    "\n",
    "%matplotlib inline"
   ]
  },
  {
   "cell_type": "markdown",
   "metadata": {
    "id": "at-C7278fOQz"
   },
   "source": [
    "### Criando dataset com valores entre 0 e 19, onde 30% dos valores são da classe '1' e os outros são da classe '0'"
   ]
  },
  {
   "cell_type": "code",
   "execution_count": 19,
   "metadata": {
    "colab": {
     "base_uri": "https://localhost:8080/",
     "height": 359
    },
    "executionInfo": {
     "elapsed": 674,
     "status": "ok",
     "timestamp": 1603138067686,
     "user": {
      "displayName": "Tiago Pereira",
      "photoUrl": "https://lh3.googleusercontent.com/a-/AOh14Gj5c_Z7Pn9hQwhKLHAtBNt6aYtVjRYHC314l3KOJg=s64",
      "userId": "11097066381903126138"
     },
     "user_tz": 180
    },
    "id": "0heW8A_Bb2Pw",
    "outputId": "eb4c27da-41c8-4854-8e29-840ebe47c347"
   },
   "outputs": [
    {
     "data": {
      "text/html": [
       "<div>\n",
       "<style scoped>\n",
       "    .dataframe tbody tr th:only-of-type {\n",
       "        vertical-align: middle;\n",
       "    }\n",
       "\n",
       "    .dataframe tbody tr th {\n",
       "        vertical-align: top;\n",
       "    }\n",
       "\n",
       "    .dataframe thead th {\n",
       "        text-align: right;\n",
       "    }\n",
       "</style>\n",
       "<table border=\"1\" class=\"dataframe\">\n",
       "  <thead>\n",
       "    <tr style=\"text-align: right;\">\n",
       "      <th></th>\n",
       "      <th>X</th>\n",
       "      <th>Y</th>\n",
       "    </tr>\n",
       "  </thead>\n",
       "  <tbody>\n",
       "    <tr>\n",
       "      <th>0</th>\n",
       "      <td>0</td>\n",
       "      <td>0</td>\n",
       "    </tr>\n",
       "    <tr>\n",
       "      <th>1</th>\n",
       "      <td>1</td>\n",
       "      <td>0</td>\n",
       "    </tr>\n",
       "    <tr>\n",
       "      <th>2</th>\n",
       "      <td>2</td>\n",
       "      <td>0</td>\n",
       "    </tr>\n",
       "    <tr>\n",
       "      <th>3</th>\n",
       "      <td>3</td>\n",
       "      <td>0</td>\n",
       "    </tr>\n",
       "    <tr>\n",
       "      <th>4</th>\n",
       "      <td>4</td>\n",
       "      <td>0</td>\n",
       "    </tr>\n",
       "    <tr>\n",
       "      <th>5</th>\n",
       "      <td>5</td>\n",
       "      <td>0</td>\n",
       "    </tr>\n",
       "    <tr>\n",
       "      <th>6</th>\n",
       "      <td>6</td>\n",
       "      <td>0</td>\n",
       "    </tr>\n",
       "    <tr>\n",
       "      <th>7</th>\n",
       "      <td>7</td>\n",
       "      <td>0</td>\n",
       "    </tr>\n",
       "    <tr>\n",
       "      <th>8</th>\n",
       "      <td>8</td>\n",
       "      <td>0</td>\n",
       "    </tr>\n",
       "    <tr>\n",
       "      <th>9</th>\n",
       "      <td>9</td>\n",
       "      <td>1</td>\n",
       "    </tr>\n",
       "  </tbody>\n",
       "</table>\n",
       "</div>"
      ],
      "text/plain": [
       "   X  Y\n",
       "0  0  0\n",
       "1  1  0\n",
       "2  2  0\n",
       "3  3  0\n",
       "4  4  0\n",
       "5  5  0\n",
       "6  6  0\n",
       "7  7  0\n",
       "8  8  0\n",
       "9  9  1"
      ]
     },
     "execution_count": 19,
     "metadata": {
      "tags": []
     },
     "output_type": "execute_result"
    }
   ],
   "source": [
    "X = np.arange(0,20)\n",
    "\n",
    "target_class = []\n",
    "\n",
    "start, end = int(len(X)*0.4), int(len(X)*0.7)\n",
    "\n",
    "for i in X:\n",
    "  if i > start and i < end:\n",
    "    target_class.append(1)\n",
    "  else:\n",
    "    target_class.append(0)\n",
    "\n",
    "df = pd.DataFrame()\n",
    "df['X'] = X\n",
    "df['Y'] = target_class\n",
    "\n",
    "df.head(10)"
   ]
  },
  {
   "cell_type": "code",
   "execution_count": 28,
   "metadata": {
    "colab": {
     "base_uri": "https://localhost:8080/",
     "height": 346
    },
    "executionInfo": {
     "elapsed": 1082,
     "status": "ok",
     "timestamp": 1603138397432,
     "user": {
      "displayName": "Tiago Pereira",
      "photoUrl": "https://lh3.googleusercontent.com/a-/AOh14Gj5c_Z7Pn9hQwhKLHAtBNt6aYtVjRYHC314l3KOJg=s64",
      "userId": "11097066381903126138"
     },
     "user_tz": 180
    },
    "id": "-SyNxWr3cjfe",
    "outputId": "9f46311f-3e3e-4734-f9a0-7d3364fd6622"
   },
   "outputs": [
    {
     "data": {
      "image/png": "[encoded data removed]",
      "text/plain": [
       "<Figure size 864x432 with 1 Axes>"
      ]
     },
     "metadata": {
      "needs_background": "light",
      "tags": []
     },
     "output_type": "display_data"
    }
   ],
   "source": [
    "plt.figure(figsize=(12,6))\n",
    "\n",
    "plt.plot(df['X'], color='blue')\n",
    "plt.scatter(df.index, df['Y'], color='red')\n",
    "\n",
    "plt.title('Exemplo Classificação')\n",
    "plt.legend(['X','Classe'])\n",
    "plt.show()"
   ]
  },
  {
   "cell_type": "code",
   "execution_count": 35,
   "metadata": {
    "executionInfo": {
     "elapsed": 708,
     "status": "ok",
     "timestamp": 1603138699141,
     "user": {
      "displayName": "Tiago Pereira",
      "photoUrl": "https://lh3.googleusercontent.com/a-/AOh14Gj5c_Z7Pn9hQwhKLHAtBNt6aYtVjRYHC314l3KOJg=s64",
      "userId": "11097066381903126138"
     },
     "user_tz": 180
    },
    "id": "itHbaqCadClx"
   },
   "outputs": [],
   "source": [
    "classif = SVC()\n",
    "clf_fit = classif.fit(df['X'].to_numpy().reshape(-1, 1),df['Y'])\n",
    "clf_fit.predict([[3],[10]])"
   ]
  },
  {
   "cell_type": "markdown",
   "metadata": {
    "id": "EfIeE8Nzijtw"
   },
   "source": [
    "### Kernel Functions\n",
    "\n",
    "As funções de Kernel são utilizadas para encontrar os melhores vetores de classificação. As funções são:\n",
    "\n",
    "* Linear\n",
    "* Polynomial\n",
    "* RBF\n",
    "* Hyperbolic target sigmoid "
   ]
  },
  {
   "cell_type": "markdown",
   "metadata": {
    "id": "Jf2_49gJjDoc"
   },
   "source": [
    "### Exemplo de Regressão"
   ]
  },
  {
   "cell_type": "code",
   "execution_count": 83,
   "metadata": {
    "executionInfo": {
     "elapsed": 725,
     "status": "ok",
     "timestamp": 1603140278702,
     "user": {
      "displayName": "Tiago Pereira",
      "photoUrl": "https://lh3.googleusercontent.com/a-/AOh14Gj5c_Z7Pn9hQwhKLHAtBNt6aYtVjRYHC314l3KOJg=s64",
      "userId": "11097066381903126138"
     },
     "user_tz": 180
    },
    "id": "BIoWC7lGg9k0"
   },
   "outputs": [],
   "source": [
    "X = [[1],[2],[3],[4],[5],[6],[7],[8],[9],[10]]\n",
    "\n",
    "Y = [2,3,4,5,6,7,8,9,10,11]"
   ]
  },
  {
   "cell_type": "code",
   "execution_count": 85,
   "metadata": {
    "executionInfo": {
     "elapsed": 585,
     "status": "ok",
     "timestamp": 1603140298350,
     "user": {
      "displayName": "Tiago Pereira",
      "photoUrl": "https://lh3.googleusercontent.com/a-/AOh14Gj5c_Z7Pn9hQwhKLHAtBNt6aYtVjRYHC314l3KOJg=s64",
      "userId": "11097066381903126138"
     },
     "user_tz": 180
    },
    "id": "gXSg6O9nhdgG"
   },
   "outputs": [],
   "source": [
    "regr= SVR()\n",
    "regr_fit = regr.fit(X,Y)\n",
    "pred = regr_fit.predict(X)"
   ]
  },
  {
   "cell_type": "code",
   "execution_count": 88,
   "metadata": {
    "colab": {
     "base_uri": "https://localhost:8080/",
     "height": 351
    },
    "executionInfo": {
     "elapsed": 693,
     "status": "ok",
     "timestamp": 1603140393916,
     "user": {
      "displayName": "Tiago Pereira",
      "photoUrl": "https://lh3.googleusercontent.com/a-/AOh14Gj5c_Z7Pn9hQwhKLHAtBNt6aYtVjRYHC314l3KOJg=s64",
      "userId": "11097066381903126138"
     },
     "user_tz": 180
    },
    "id": "G_gDy-p5jwsF",
    "outputId": "7a123ae0-8fd3-4c37-c915-fc336dc30018"
   },
   "outputs": [
    {
     "data": {
      "image/png": "[encoded data removed]",
      "text/plain": [
       "<Figure size 864x432 with 1 Axes>"
      ]
     },
     "metadata": {
      "needs_background": "light",
      "tags": []
     },
     "output_type": "display_data"
    }
   ],
   "source": [
    "plt.figure(figsize=(12,6))\n",
    "\n",
    "plt.scatter(X, Y, color='blue')\n",
    "plt.plot(pred, color='red')\n",
    "\n",
    "plt.title('Exemplo Regressão')\n",
    "plt.legend(['Real','Pred'])\n",
    "plt.show()"
   ]
  },
  {
   "cell_type": "markdown",
   "metadata": {
    "id": "pF2hF6lRnVid"
   },
   "source": [
    "### Aplicação em série temporal"
   ]
  },
  {
   "cell_type": "markdown",
   "metadata": {
    "id": "hDaeMG4inpfh"
   },
   "source": [
    "#### Prevendo valores das ações do Facebook \n",
    "\n",
    "###### https://www.youtube.com/watch?v=C64BIMx7Slw"
   ]
  },
  {
   "cell_type": "code",
   "execution_count": 128,
   "metadata": {
    "colab": {
     "base_uri": "https://localhost:8080/",
     "height": 204
    },
    "executionInfo": {
     "elapsed": 1523,
     "status": "ok",
     "timestamp": 1603143406816,
     "user": {
      "displayName": "Tiago Pereira",
      "photoUrl": "https://lh3.googleusercontent.com/a-/AOh14Gj5c_Z7Pn9hQwhKLHAtBNt6aYtVjRYHC314l3KOJg=s64",
      "userId": "11097066381903126138"
     },
     "user_tz": 180
    },
    "id": "1jZyLWAwmUyH",
    "outputId": "80e492db-eb52-414f-eb7b-f94716a03964"
   },
   "outputs": [
    {
     "data": {
      "text/html": [
       "<div>\n",
       "<style scoped>\n",
       "    .dataframe tbody tr th:only-of-type {\n",
       "        vertical-align: middle;\n",
       "    }\n",
       "\n",
       "    .dataframe tbody tr th {\n",
       "        vertical-align: top;\n",
       "    }\n",
       "\n",
       "    .dataframe thead th {\n",
       "        text-align: right;\n",
       "    }\n",
       "</style>\n",
       "<table border=\"1\" class=\"dataframe\">\n",
       "  <thead>\n",
       "    <tr style=\"text-align: right;\">\n",
       "      <th></th>\n",
       "      <th>Date</th>\n",
       "      <th>High</th>\n",
       "      <th>Low</th>\n",
       "      <th>Open</th>\n",
       "      <th>Close</th>\n",
       "      <th>Volume</th>\n",
       "      <th>Adj Close</th>\n",
       "    </tr>\n",
       "  </thead>\n",
       "  <tbody>\n",
       "    <tr>\n",
       "      <th>0</th>\n",
       "      <td>2020-01-02</td>\n",
       "      <td>209.789993</td>\n",
       "      <td>206.270004</td>\n",
       "      <td>206.750000</td>\n",
       "      <td>209.779999</td>\n",
       "      <td>12077100</td>\n",
       "      <td>209.779999</td>\n",
       "    </tr>\n",
       "    <tr>\n",
       "      <th>1</th>\n",
       "      <td>2020-01-03</td>\n",
       "      <td>210.399994</td>\n",
       "      <td>206.949997</td>\n",
       "      <td>207.210007</td>\n",
       "      <td>208.669998</td>\n",
       "      <td>11188400</td>\n",
       "      <td>208.669998</td>\n",
       "    </tr>\n",
       "    <tr>\n",
       "      <th>2</th>\n",
       "      <td>2020-01-06</td>\n",
       "      <td>212.779999</td>\n",
       "      <td>206.520004</td>\n",
       "      <td>206.699997</td>\n",
       "      <td>212.600006</td>\n",
       "      <td>17058900</td>\n",
       "      <td>212.600006</td>\n",
       "    </tr>\n",
       "    <tr>\n",
       "      <th>3</th>\n",
       "      <td>2020-01-07</td>\n",
       "      <td>214.580002</td>\n",
       "      <td>211.750000</td>\n",
       "      <td>212.820007</td>\n",
       "      <td>213.059998</td>\n",
       "      <td>14912400</td>\n",
       "      <td>213.059998</td>\n",
       "    </tr>\n",
       "    <tr>\n",
       "      <th>4</th>\n",
       "      <td>2020-01-08</td>\n",
       "      <td>216.240005</td>\n",
       "      <td>212.610001</td>\n",
       "      <td>213.000000</td>\n",
       "      <td>215.220001</td>\n",
       "      <td>13475000</td>\n",
       "      <td>215.220001</td>\n",
       "    </tr>\n",
       "  </tbody>\n",
       "</table>\n",
       "</div>"
      ],
      "text/plain": [
       "        Date        High         Low  ...       Close    Volume   Adj Close\n",
       "0 2020-01-02  209.789993  206.270004  ...  209.779999  12077100  209.779999\n",
       "1 2020-01-03  210.399994  206.949997  ...  208.669998  11188400  208.669998\n",
       "2 2020-01-06  212.779999  206.520004  ...  212.600006  17058900  212.600006\n",
       "3 2020-01-07  214.580002  211.750000  ...  213.059998  14912400  213.059998\n",
       "4 2020-01-08  216.240005  212.610001  ...  215.220001  13475000  215.220001\n",
       "\n",
       "[5 rows x 7 columns]"
      ]
     },
     "execution_count": 128,
     "metadata": {
      "tags": []
     },
     "output_type": "execute_result"
    }
   ],
   "source": [
    "# Carregando Dataset\n",
    "import pandas_datareader.data as web\n",
    "import datetime as dt\n",
    "\n",
    "end = dt.datetime(2020, 6, 1)\n",
    "start = dt.datetime(2020, 1, 1)\n",
    "\n",
    "df = web.DataReader(\"FB\", 'yahoo', start, end)\n",
    "df.to_csv('FB.csv')\n",
    "\n",
    "df = df.reset_index()\n",
    "\n",
    "df.head()"
   ]
  },
  {
   "cell_type": "code",
   "execution_count": 129,
   "metadata": {
    "executionInfo": {
     "elapsed": 1367,
     "status": "ok",
     "timestamp": 1603143412221,
     "user": {
      "displayName": "Tiago Pereira",
      "photoUrl": "https://lh3.googleusercontent.com/a-/AOh14Gj5c_Z7Pn9hQwhKLHAtBNt6aYtVjRYHC314l3KOJg=s64",
      "userId": "11097066381903126138"
     },
     "user_tz": 180
    },
    "id": "Px4AgUo9pIVU"
   },
   "outputs": [],
   "source": [
    "# Separando variável independente \"Open\" e variável dependente \"Close\"\n",
    "df_open = df.loc[:, 'Open'].tolist()\n",
    "close = df.loc[:, 'Close'].tolist()\n",
    "\n",
    "open = []\n",
    "\n",
    "for o in df_open:\n",
    "  open.append([o])"
   ]
  },
  {
   "cell_type": "code",
   "execution_count": 130,
   "metadata": {
    "executionInfo": {
     "elapsed": 7726,
     "status": "ok",
     "timestamp": 1603143420602,
     "user": {
      "displayName": "Tiago Pereira",
      "photoUrl": "https://lh3.googleusercontent.com/a-/AOh14Gj5c_Z7Pn9hQwhKLHAtBNt6aYtVjRYHC314l3KOJg=s64",
      "userId": "11097066381903126138"
     },
     "user_tz": 180
    },
    "id": "pzYs6JDCu4wx"
   },
   "outputs": [],
   "source": [
    "#Criando modelos SVR\n",
    "\n",
    "#Linear Kernel\n",
    "linear_svr = SVR(kernel = 'linear', C=1000.0)\n",
    "linear_fit = linear_svr.fit(open, close)\n",
    "\n",
    "#Polynomial Kernel\n",
    "pol_svr = SVR(kernel = 'poly', C=1000.0, degree = 2)\n",
    "pol_fit = pol_svr.fit(open, close)\n",
    "\n",
    "#RBF Kernel\n",
    "rbf_svr = SVR(kernel = 'rbf', C=1000.0, gamma = 0.15)\n",
    "rbf_fit = rbf_svr.fit(open, close)"
   ]
  },
  {
   "cell_type": "code",
   "execution_count": 131,
   "metadata": {
    "colab": {
     "base_uri": "https://localhost:8080/",
     "height": 374
    },
    "executionInfo": {
     "elapsed": 1791,
     "status": "ok",
     "timestamp": 1603143427312,
     "user": {
      "displayName": "Tiago Pereira",
      "photoUrl": "https://lh3.googleusercontent.com/a-/AOh14Gj5c_Z7Pn9hQwhKLHAtBNt6aYtVjRYHC314l3KOJg=s64",
      "userId": "11097066381903126138"
     },
     "user_tz": 180
    },
    "id": "ZKRO6SGpxYh8",
    "outputId": "551b1088-cc2e-4e95-cd24-4b4a62d4fab5"
   },
   "outputs": [
    {
     "data": {
      "image/png": "[encoded data removed]",
      "text/plain": [
       "<Figure size 864x432 with 1 Axes>"
      ]
     },
     "metadata": {
      "needs_background": "light",
      "tags": []
     },
     "output_type": "display_data"
    }
   ],
   "source": [
    "#Plotando os modelos\n",
    "plt.figure(figsize=(12,6))\n",
    "\n",
    "plt.scatter(df.index, close, color='blue')\n",
    "plt.plot(linear_fit.predict(open), color='red')\n",
    "plt.plot(pol_fit.predict(open), color='green')\n",
    "plt.plot(rbf_fit.predict(open), color='yellow')\n",
    "\n",
    "plt.legend(['Original','Linear','Polinomial','RBF'])\n",
    "plt.show()"
   ]
  },
  {
   "cell_type": "code",
   "execution_count": null,
   "metadata": {
    "id": "a_Nd_cPryVxs"
   },
   "outputs": [],
   "source": []
  }
 ],
 "metadata": {
  "colab": {
   "authorship_tag": "ABX9TyO7M7HrrpgehdpjMyxkzE1G",
   "name": "SVM.ipynb",
   "provenance": []
  },
  "kernelspec": {
   "display_name": "Python 3",
   "language": "python",
   "name": "python3"
  },
  "language_info": {
   "codemirror_mode": {
    "name": "ipython",
    "version": 3
   },
   "file_extension": ".py",
   "mimetype": "text/x-python",
   "name": "python",
   "nbconvert_exporter": "python",
   "pygments_lexer": "ipython3",
   "version": "3.7.9"
  }
 },
 "nbformat": 4,
 "nbformat_minor": 1
}
