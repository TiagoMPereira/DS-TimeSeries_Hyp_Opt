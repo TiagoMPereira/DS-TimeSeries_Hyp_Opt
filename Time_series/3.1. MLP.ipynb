{
 "cells": [
  {
   "cell_type": "markdown",
   "metadata": {},
   "source": [
    "# Multilayer perceptron"
   ]
  },
  {
   "cell_type": "markdown",
   "metadata": {},
   "source": [
    "## O que é?"
   ]
  },
  {
   "cell_type": "markdown",
   "metadata": {},
   "source": [
    "Em deep learning, o conceito de perceptron diz respeito a um neurônio onde, dadas as entradas consegue calcular uma saída, levando em conta parâmetros como o peso de cada entrada e o fator bias. É muito útil em tarefas de classificação onde é possível diferenciar dois grupos por uma linha, contudo, quando o conjunto de dados não é linearmente separável, é necessário utilizar um conjunto de camadas de neurônios, por isso usa-se o MLP"
   ]
  },
  {
   "cell_type": "markdown",
   "metadata": {},
   "source": [
    "A biblioteca Keras é utilizadaem problemas de deep learning"
   ]
  },
  {
   "cell_type": "markdown",
   "metadata": {},
   "source": [
    "### Exemplo"
   ]
  },
  {
   "cell_type": "code",
   "execution_count": 4,
   "metadata": {},
   "outputs": [],
   "source": [
    "import matplotlib.pyplot as plt\n",
    "import numpy as np\n",
    "import pandas as pd"
   ]
  },
  {
   "cell_type": "markdown",
   "metadata": {},
   "source": [
    "O MLP consiste, então, em uma rede neural com uma camada de neurônios de entrada, X camadas \"escondidas\" (hidden layers) e uma camada de saída, é um modelo sequencial."
   ]
  },
  {
   "cell_type": "code",
   "execution_count": 18,
   "metadata": {},
   "outputs": [],
   "source": [
    "# importando ferramentas para construção de um modelo sequencial\n",
    "from keras.models import Sequential\n",
    "from keras.layers import Dense"
   ]
  },
  {
   "cell_type": "markdown",
   "metadata": {},
   "source": [
    "Para o primeiro modelo serão atribuídos os seguintes valores de X0, X1 (entradas) e Y (saída)\n",
    "\n",
    "|X0|X1|Y|\n",
    "|-|-|-|\n",
    "|0|0|0|\n",
    "|0|1|1|\n",
    "|1|0|1|\n",
    "|1|1|0|"
   ]
  },
  {
   "cell_type": "code",
   "execution_count": 87,
   "metadata": {},
   "outputs": [],
   "source": [
    "#Definindo x e y\n",
    "X = np.array([\n",
    "    [0,0],[0,1],[1,0],[1,1]\n",
    "])\n",
    "\n",
    "y = np.array([0,1,1,0])"
   ]
  },
  {
   "cell_type": "code",
   "execution_count": 105,
   "metadata": {},
   "outputs": [
    {
     "name": "stdout",
     "output_type": "stream",
     "text": [
      "Epoch 1/30\n",
      "1/1 [==============================] - 0s 30ms/step - loss: 0.7392\n",
      "Epoch 2/30\n",
      "1/1 [==============================] - 0s 6ms/step - loss: 0.7063\n",
      "Epoch 3/30\n",
      "1/1 [==============================] - 0s 8ms/step - loss: 0.6753\n",
      "Epoch 4/30\n",
      "1/1 [==============================] - 0s 7ms/step - loss: 0.6462\n",
      "Epoch 5/30\n",
      "1/1 [==============================] - 0s 9ms/step - loss: 0.6190\n",
      "Epoch 6/30\n",
      "1/1 [==============================] - 0s 5ms/step - loss: 0.5937\n",
      "Epoch 7/30\n",
      "1/1 [==============================] - 0s 9ms/step - loss: 0.5701\n",
      "Epoch 8/30\n",
      "1/1 [==============================] - 0s 3ms/step - loss: 0.5482\n",
      "Epoch 9/30\n",
      "1/1 [==============================] - 0s 11ms/step - loss: 0.5279\n",
      "Epoch 10/30\n",
      "1/1 [==============================] - 0s 6ms/step - loss: 0.5091\n",
      "Epoch 11/30\n",
      "1/1 [==============================] - 0s 4ms/step - loss: 0.4918\n",
      "Epoch 12/30\n",
      "1/1 [==============================] - 0s 4ms/step - loss: 0.4757\n",
      "Epoch 13/30\n",
      "1/1 [==============================] - 0s 7ms/step - loss: 0.4610\n",
      "Epoch 14/30\n",
      "1/1 [==============================] - 0s 4ms/step - loss: 0.4473\n",
      "Epoch 15/30\n",
      "1/1 [==============================] - 0s 11ms/step - loss: 0.4347\n",
      "Epoch 16/30\n",
      "1/1 [==============================] - 0s 4ms/step - loss: 0.4231\n",
      "Epoch 17/30\n",
      "1/1 [==============================] - 0s 3ms/step - loss: 0.4124\n",
      "Epoch 18/30\n",
      "1/1 [==============================] - 0s 3ms/step - loss: 0.4025\n",
      "Epoch 19/30\n",
      "1/1 [==============================] - 0s 5ms/step - loss: 0.3934\n",
      "Epoch 20/30\n",
      "1/1 [==============================] - 0s 4ms/step - loss: 0.3850\n",
      "Epoch 21/30\n",
      "1/1 [==============================] - 0s 4ms/step - loss: 0.3772\n",
      "Epoch 22/30\n",
      "1/1 [==============================] - 0s 3ms/step - loss: 0.3700\n",
      "Epoch 23/30\n",
      "1/1 [==============================] - 0s 3ms/step - loss: 0.3634\n",
      "Epoch 24/30\n",
      "1/1 [==============================] - 0s 6ms/step - loss: 0.3572\n",
      "Epoch 25/30\n",
      "1/1 [==============================] - 0s 6ms/step - loss: 0.3515\n",
      "Epoch 26/30\n",
      "1/1 [==============================] - 0s 3ms/step - loss: 0.3462\n",
      "Epoch 27/30\n",
      "1/1 [==============================] - 0s 10ms/step - loss: 0.3413\n",
      "Epoch 28/30\n",
      "1/1 [==============================] - 0s 6ms/step - loss: 0.3368\n",
      "Epoch 29/30\n",
      "1/1 [==============================] - 0s 4ms/step - loss: 0.3325\n",
      "Epoch 30/30\n",
      "1/1 [==============================] - 0s 4ms/step - loss: 0.3286\n"
     ]
    },
    {
     "data": {
      "text/plain": [
       "<tensorflow.python.keras.callbacks.History at 0x23d05e15f88>"
      ]
     },
     "execution_count": 105,
     "metadata": {},
     "output_type": "execute_result"
    }
   ],
   "source": [
    "#Criando modelo sequencial\n",
    "model = Sequential()\n",
    "\n",
    "#Adicionando camadas ao modelo\n",
    "model.add(Dense(2, input_shape=(2,)))\n",
    "\n",
    "model.add(Dense(2, activation='softmax'))\n",
    "\n",
    "model.add(Dense(1, activation='tanh'))\n",
    "\n",
    "model.compile(optimizer='sgd', loss='mse')\n",
    "\n",
    "model.fit(X, y, epochs=30)"
   ]
  },
  {
   "cell_type": "code",
   "execution_count": 89,
   "metadata": {},
   "outputs": [
    {
     "name": "stdout",
     "output_type": "stream",
     "text": [
      "Model: \"sequential_32\"\n",
      "_________________________________________________________________\n",
      "Layer (type)                 Output Shape              Param #   \n",
      "=================================================================\n",
      "dense_89 (Dense)             (None, 2)                 6         \n",
      "_________________________________________________________________\n",
      "dense_90 (Dense)             (None, 2)                 6         \n",
      "_________________________________________________________________\n",
      "dense_91 (Dense)             (None, 1)                 3         \n",
      "=================================================================\n",
      "Total params: 15\n",
      "Trainable params: 15\n",
      "Non-trainable params: 0\n",
      "_________________________________________________________________\n"
     ]
    }
   ],
   "source": [
    "model.summary()"
   ]
  },
  {
   "cell_type": "markdown",
   "metadata": {},
   "source": [
    "#### Exemplo classificação \n",
    "\n",
    "MNIST dataset"
   ]
  },
  {
   "cell_type": "code",
   "execution_count": 94,
   "metadata": {},
   "outputs": [
    {
     "name": "stdout",
     "output_type": "stream",
     "text": [
      "Downloading data from https://storage.googleapis.com/tensorflow/tf-keras-datasets/train-labels-idx1-ubyte.gz\n",
      "32768/29515 [=================================] - 0s 10us/step\n",
      "Downloading data from https://storage.googleapis.com/tensorflow/tf-keras-datasets/train-images-idx3-ubyte.gz\n",
      "26427392/26421880 [==============================] - 287s 11us/step\n",
      "Downloading data from https://storage.googleapis.com/tensorflow/tf-keras-datasets/t10k-labels-idx1-ubyte.gz\n",
      "8192/5148 [===============================================] - 0s 2us/step\n",
      "Downloading data from https://storage.googleapis.com/tensorflow/tf-keras-datasets/t10k-images-idx3-ubyte.gz\n",
      "4423680/4422102 [==============================] - 66s 15us/step\n"
     ]
    }
   ],
   "source": [
    "mnist = keras.datasets.fashion_mnist\n",
    "\n",
    "(train_images, train_labels), (test_images, test_labels) = mnist.load_data()"
   ]
  },
  {
   "cell_type": "code",
   "execution_count": 96,
   "metadata": {},
   "outputs": [
    {
     "data": {
      "text/plain": [
       "array([9, 0, 0, ..., 3, 0, 5], dtype=uint8)"
      ]
     },
     "execution_count": 96,
     "metadata": {},
     "output_type": "execute_result"
    }
   ],
   "source": [
    "#Visualizando rótulos\n",
    "#Cada número de 0 - 9 equivale a uma classe, pode ser sapato, camisa, short ...\n",
    "train_labels"
   ]
  },
  {
   "cell_type": "code",
   "execution_count": 98,
   "metadata": {},
   "outputs": [
    {
     "data": {
      "image/png": "[encoded data removed]",
      "text/plain": [
       "<Figure size 432x288 with 2 Axes>"
      ]
     },
     "metadata": {
      "needs_background": "light"
     },
     "output_type": "display_data"
    }
   ],
   "source": [
    "#Visualizando um registro\n",
    "plt.figure()\n",
    "plt.imshow(train_images[0])\n",
    "plt.colorbar()\n",
    "plt.title(train_labels[0])\n",
    "plt.show()"
   ]
  },
  {
   "cell_type": "code",
   "execution_count": 100,
   "metadata": {},
   "outputs": [],
   "source": [
    "#É necessário normalizar as imagens, para isso o valor de cada pixel deve ser entre 0 e 1\n",
    "train_images = train_images / 255.0\n",
    "test_images = test_images / 255.0"
   ]
  },
  {
   "cell_type": "code",
   "execution_count": 113,
   "metadata": {},
   "outputs": [],
   "source": [
    "### CONSTRUINDO O MODELO SEQUENCIAL\n",
    "from keras.layers import Dense, Flatten\n",
    "model = Sequential()\n",
    "model.add(Flatten(input_shape=(28,28))) #Transforma a matriz 28x28 em um array 28*28 = 784\n",
    "model.add(Dense(128, activation='relu'))\n",
    "model.add(Dense(64, activation='relu'))\n",
    "model.add(Dense(10, activation='softmax'))\n",
    "\n",
    "model.compile(optimizer='adam',\n",
    "              loss='sparse_categorical_crossentropy',\n",
    "              metrics=['accuracy'])"
   ]
  },
  {
   "cell_type": "code",
   "execution_count": 114,
   "metadata": {},
   "outputs": [
    {
     "name": "stdout",
     "output_type": "stream",
     "text": [
      "Epoch 1/10\n",
      "1875/1875 [==============================] - 8s 4ms/step - loss: 0.8951 - accuracy: 0.6766\n",
      "Epoch 2/10\n",
      "1875/1875 [==============================] - 10s 5ms/step - loss: 0.5770 - accuracy: 0.7897\n",
      "Epoch 3/10\n",
      "1875/1875 [==============================] - 8s 4ms/step - loss: 0.5140 - accuracy: 0.8162\n",
      "Epoch 4/10\n",
      "1875/1875 [==============================] - 8s 4ms/step - loss: 0.4735 - accuracy: 0.8315\n",
      "Epoch 5/10\n",
      "1875/1875 [==============================] - 8s 4ms/step - loss: 0.4468 - accuracy: 0.8408\n",
      "Epoch 6/10\n",
      "1875/1875 [==============================] - 7s 4ms/step - loss: 0.4266 - accuracy: 0.8487\n",
      "Epoch 7/10\n",
      "1875/1875 [==============================] - 8s 4ms/step - loss: 0.4123 - accuracy: 0.8514\n",
      "Epoch 8/10\n",
      "1875/1875 [==============================] - 8s 4ms/step - loss: 0.3980 - accuracy: 0.8576\n",
      "Epoch 9/10\n",
      "1875/1875 [==============================] - 8s 4ms/step - loss: 0.3873 - accuracy: 0.8609\n",
      "Epoch 10/10\n",
      "1875/1875 [==============================] - 7s 4ms/step - loss: 0.3764 - accuracy: 0.8645\n"
     ]
    },
    {
     "data": {
      "text/plain": [
       "<tensorflow.python.keras.callbacks.History at 0x23d15006508>"
      ]
     },
     "execution_count": 114,
     "metadata": {},
     "output_type": "execute_result"
    }
   ],
   "source": [
    "model.fit(train_images, train_labels, epochs=10)"
   ]
  },
  {
   "cell_type": "code",
   "execution_count": 115,
   "metadata": {},
   "outputs": [
    {
     "name": "stdout",
     "output_type": "stream",
     "text": [
      "313/313 - 1s - loss: 0.4090 - accuracy: 0.8515\n",
      "Acuracia: 0.8514999747276306\n",
      "Loss: 0.4089741110801697\n"
     ]
    }
   ],
   "source": [
    "#Avaliando a acurácia e o loss\n",
    "test_loss, test_acc = model.evaluate(test_images,  test_labels, verbose=2)\n",
    "\n",
    "print('Acuracia:', test_acc)\n",
    "print('Loss:', test_loss)"
   ]
  },
  {
   "cell_type": "code",
   "execution_count": 116,
   "metadata": {},
   "outputs": [
    {
     "name": "stdout",
     "output_type": "stream",
     "text": [
      "[3.2672534e-07 3.7045631e-08 1.6413256e-06 5.4094448e-06 5.0203323e-07\n",
      " 2.7765027e-01 1.3534212e-05 1.1516402e-01 6.5101590e-03 6.0065413e-01]\n",
      "9\n"
     ]
    }
   ],
   "source": [
    "#Fazendo predições\n",
    "predictions = model.predict(test_images) \n",
    "\n",
    "#Como existem 10 neurônios na saída da rede (cada um representando uma classe) temos 10 saídas para cada entrada\n",
    "#Cada saída representa a probabilidade da entrada ser daquela classe\n",
    "#para ver a qual classe o objeto tem mais chance de ser basta utilizar a classe com maior valor predito\n",
    "\n",
    "print(predictions[0])\n",
    "print(np.argmax(predictions[0]))\n"
   ]
  }
 ],
 "metadata": {
  "kernelspec": {
   "display_name": "Python 3",
   "language": "python",
   "name": "python3"
  },
  "language_info": {
   "codemirror_mode": {
    "name": "ipython",
    "version": 3
   },
   "file_extension": ".py",
   "mimetype": "text/x-python",
   "name": "python",
   "nbconvert_exporter": "python",
   "pygments_lexer": "ipython3",
   "version": "3.7.9"
  }
 },
 "nbformat": 4,
 "nbformat_minor": 4
}
