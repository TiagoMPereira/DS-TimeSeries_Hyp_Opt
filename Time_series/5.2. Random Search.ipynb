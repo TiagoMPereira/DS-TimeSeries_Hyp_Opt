{
 "cells": [
  {
   "cell_type": "markdown",
   "metadata": {},
   "source": [
    "# Random search\n",
    "\n",
    "## O que é?\n",
    "\n",
    "Random search é uma técnica de otimização hiperparamétrica apresentada como técnica eficiente por Bergstra e Bengio que consiste em aleatóriamente selecionar combinações de hiperparâmetros, testá-las e decidir qual a melhor. Inicialmente foi considerada pouco eficiente pois ao selecionar conjuntos de hiperparâmetros de forma aleatória, poderia não selecionar nenhum conjunto satisfatório, contudo Bergstra e Bengio demonstraram que em diversos casos, o método de busca aleatória pode performar tão bem quanto a busca por grade. Segundo Alice Zheng (Evaluating Machine Learning Models) ao selecionar aleatoriamente 60 conjuntos de hiperparâmetros, a probabilidade de um dos conjuntos selecionados estar a menos de 5% do conjunto de melhor resultado é de 95%. \n",
    "\n",
    "* Probabilidade de, ao selecionar n pontos nenhum deles estar a 5% do ideal\n",
    "    * ${(1-0,05)^n}$\n",
    "* Probabilidade de ao menos um ponto estar dentro do intervalo desejado\n",
    "    * ${1-(1-0,05)^n}$\n",
    "* Como queremos como resultado 95% de eficiência:\n",
    "    * ${1-(1-0,05)^n > 0,95}$\n",
    "    * n ~ 60"
   ]
  },
  {
   "cell_type": "markdown",
   "metadata": {},
   "source": [
    "### Exemplo"
   ]
  },
  {
   "cell_type": "markdown",
   "metadata": {},
   "source": [
    "Exemplo comparativo utilizando modelos padrão e modelos com hiperparâmetros ajustados pela busca aleatória"
   ]
  },
  {
   "cell_type": "code",
   "execution_count": 1,
   "metadata": {},
   "outputs": [],
   "source": [
    "# importando dependências\n",
    "import numpy as np\n",
    "import matplotlib.pyplot as plt\n",
    "import pandas as pd\n",
    "import time \n",
    "from sklearn.model_selection import RandomizedSearchCV, train_test_split\n",
    "from sklearn.ensemble import RandomForestRegressor, AdaBoostRegressor, GradientBoostingRegressor"
   ]
  },
  {
   "cell_type": "code",
   "execution_count": 2,
   "metadata": {},
   "outputs": [
    {
     "data": {
      "text/html": [
       "<div>\n",
       "<style scoped>\n",
       "    .dataframe tbody tr th:only-of-type {\n",
       "        vertical-align: middle;\n",
       "    }\n",
       "\n",
       "    .dataframe tbody tr th {\n",
       "        vertical-align: top;\n",
       "    }\n",
       "\n",
       "    .dataframe thead th {\n",
       "        text-align: right;\n",
       "    }\n",
       "</style>\n",
       "<table border=\"1\" class=\"dataframe\">\n",
       "  <thead>\n",
       "    <tr style=\"text-align: right;\">\n",
       "      <th></th>\n",
       "      <th>Target</th>\n",
       "      <th>Close 1</th>\n",
       "      <th>Close 2</th>\n",
       "      <th>Close 3</th>\n",
       "      <th>Close 4</th>\n",
       "    </tr>\n",
       "  </thead>\n",
       "  <tbody>\n",
       "    <tr>\n",
       "      <th>4</th>\n",
       "      <td>142.529999</td>\n",
       "      <td>138.050003</td>\n",
       "      <td>137.949997</td>\n",
       "      <td>131.740005</td>\n",
       "      <td>135.679993</td>\n",
       "    </tr>\n",
       "    <tr>\n",
       "      <th>5</th>\n",
       "      <td>144.229996</td>\n",
       "      <td>142.529999</td>\n",
       "      <td>138.050003</td>\n",
       "      <td>137.949997</td>\n",
       "      <td>131.740005</td>\n",
       "    </tr>\n",
       "    <tr>\n",
       "      <th>6</th>\n",
       "      <td>144.199997</td>\n",
       "      <td>144.229996</td>\n",
       "      <td>142.529999</td>\n",
       "      <td>138.050003</td>\n",
       "      <td>137.949997</td>\n",
       "    </tr>\n",
       "    <tr>\n",
       "      <th>7</th>\n",
       "      <td>143.800003</td>\n",
       "      <td>144.199997</td>\n",
       "      <td>144.229996</td>\n",
       "      <td>142.529999</td>\n",
       "      <td>138.050003</td>\n",
       "    </tr>\n",
       "    <tr>\n",
       "      <th>8</th>\n",
       "      <td>145.389999</td>\n",
       "      <td>143.800003</td>\n",
       "      <td>144.199997</td>\n",
       "      <td>144.229996</td>\n",
       "      <td>142.529999</td>\n",
       "    </tr>\n",
       "  </tbody>\n",
       "</table>\n",
       "</div>"
      ],
      "text/plain": [
       "       Target     Close 1     Close 2     Close 3     Close 4\n",
       "4  142.529999  138.050003  137.949997  131.740005  135.679993\n",
       "5  144.229996  142.529999  138.050003  137.949997  131.740005\n",
       "6  144.199997  144.229996  142.529999  138.050003  137.949997\n",
       "7  143.800003  144.199997  144.229996  142.529999  138.050003\n",
       "8  145.389999  143.800003  144.199997  144.229996  142.529999"
      ]
     },
     "execution_count": 2,
     "metadata": {},
     "output_type": "execute_result"
    }
   ],
   "source": [
    "#Recolhendo dados do facebook e preparando dataset\n",
    "\n",
    "import pandas_datareader.data as web\n",
    "import datetime as dt\n",
    "\n",
    "end = dt.datetime(2020, 6, 1)\n",
    "start = dt.datetime(2019, 1, 1)\n",
    "\n",
    "df = web.DataReader(\"FB\", 'yahoo', start, end)\n",
    "\n",
    "df = df.reset_index()\n",
    "df = df.drop(columns=['Open','Date','High','Low','Volume','Adj Close'])\n",
    "df = df.rename(columns={'Close': 'Close 0'})\n",
    "\n",
    "def window (df, w):\n",
    "    for i in range(1,w):\n",
    "        df['Close '+str(i)] = df['Close '+str(i-1)].shift(1)\n",
    "    return df\n",
    "        \n",
    "df = window(df,5)\n",
    "df = df.rename(columns={'Close 0': 'Target'})\n",
    "df.dropna(inplace=True)\n",
    "df.head()"
   ]
  },
  {
   "cell_type": "code",
   "execution_count": 3,
   "metadata": {},
   "outputs": [],
   "source": [
    "#Separando dados de treino e teste\n",
    "X = df.loc[:, ['Close 1','Close 2','Close 3','Close 4']]\n",
    "y = df.loc[:, 'Target'].tolist()\n",
    "\n",
    "X_train, X_test, y_train, y_test = train_test_split(X, y, test_size=0.2, random_state=10)"
   ]
  },
  {
   "cell_type": "markdown",
   "metadata": {},
   "source": [
    "### Criando modelos default"
   ]
  },
  {
   "cell_type": "code",
   "execution_count": 4,
   "metadata": {},
   "outputs": [],
   "source": [
    "# Random Forest\n",
    "# n_estimators = 100, criterion = \"mse\", max_depth = None, min_samples_split = 2, max_features = \"auto\", \n",
    "# oob_score=false, max_samples=none\n",
    "rf_default = RandomForestRegressor()\n",
    "\n",
    "#AdaBoost\n",
    "# n_estimators = 50, learning_rate = 1, loss = 'linear'\n",
    "adb_default = AdaBoostRegressor()\n",
    "\n",
    "#GradientBoosting\n",
    "# loss = 'ls', learning_rate = 0.1, n_estimators=100, subsample = 1.0, criterion = 'friedman_mse', \n",
    "# max_features = 'auto', alpha = 0.9\n",
    "gdb_default = GradientBoostingRegressor()"
   ]
  },
  {
   "cell_type": "markdown",
   "metadata": {},
   "source": [
    "### Lista de hiperparâmetros"
   ]
  },
  {
   "cell_type": "code",
   "execution_count": 5,
   "metadata": {},
   "outputs": [],
   "source": [
    "rf_hp = {'n_estimators':[30,50,100,150,300,500,750], 'criterion':['mse','mae'], 'min_samples_split':[2,3,5,7,10,15],\n",
    "        'max_features':['auto','sqrt','log2'], 'oob_score':[True,False], 'max_samples':[0.3,0.5,0.75,0.8,0.9,0.99,1]}\n",
    "\n",
    "adb_hp = {'n_estimators':[15,30,50,100,150,300,500], 'learning_rate':[0.3,0.4,0.5,0.75,0.8,0.9,0.99,1.0], 'loss':['linear','square','exponential']}\n",
    "\n",
    "gdb_hp = {'loss':['ls','lad','huber','quantile'], 'learning_rate':[0.05,0.1,0.2,0.3,0.5,0.75],'n_estimators':[15,30,50,100,150,300,500],\n",
    "         'subsample':[0.3,0.5,0.7,0.9,1.0], 'criterion': ['friedman_mse','mse','mae'], 'max_features':['auto','sqrt','log2'],\n",
    "         'alpha':[0.05,0.1,0.3,0.5,0.75,0.9, 0.99]}"
   ]
  },
  {
   "cell_type": "markdown",
   "metadata": {},
   "source": [
    "### Criando modelos ajustados\n",
    "* Random forest ajustado\n",
    "* Adaboost ajustado com estimador padrão\n",
    "* Adaboost ajustado com estimador = Random Forest ajustado\n",
    "* GradientBoosting ajustado"
   ]
  },
  {
   "cell_type": "code",
   "execution_count": 6,
   "metadata": {},
   "outputs": [],
   "source": [
    "rf_tune = RandomizedSearchCV(rf_default, rf_hp, n_iter = 60, cv=5)\n",
    "\n",
    "adb_tune = RandomizedSearchCV(adb_default, adb_hp, n_iter = 60, cv=5)\n",
    "\n",
    "gdb_tune = RandomizedSearchCV(gdb_default, gdb_hp, n_iter = 60, cv=5)"
   ]
  },
  {
   "cell_type": "markdown",
   "metadata": {},
   "source": [
    "### Treinando configurações de modelos "
   ]
  },
  {
   "cell_type": "code",
   "execution_count": 7,
   "metadata": {},
   "outputs": [
    {
     "name": "stdout",
     "output_type": "stream",
     "text": [
      "{'oob_score': True, 'n_estimators': 750, 'min_samples_split': 3, 'max_samples': 0.5, 'max_features': 'auto', 'criterion': 'mse'}\n"
     ]
    }
   ],
   "source": [
    "rf_tune.fit(X_train, y_train)\n",
    "\n",
    "print(rf_tune.best_params_)"
   ]
  },
  {
   "cell_type": "code",
   "execution_count": 9,
   "metadata": {},
   "outputs": [
    {
     "name": "stdout",
     "output_type": "stream",
     "text": [
      "{'n_estimators': 100, 'loss': 'linear', 'learning_rate': 0.3}\n"
     ]
    }
   ],
   "source": [
    "adb_tune.fit(X_train, y_train)\n",
    "\n",
    "print(adb_tune.best_params_)"
   ]
  },
  {
   "cell_type": "code",
   "execution_count": 9,
   "metadata": {},
   "outputs": [
    {
     "name": "stdout",
     "output_type": "stream",
     "text": [
      "{'subsample': 1.0, 'n_estimators': 15, 'max_features': 'auto', 'loss': 'ls', 'learning_rate': 0.2, 'criterion': 'mae', 'alpha': 0.1}\n"
     ]
    }
   ],
   "source": [
    "gdb_tune.fit(X_train, y_train)\n",
    "\n",
    "print(gdb_tune.best_params_)"
   ]
  },
  {
   "cell_type": "markdown",
   "metadata": {},
   "source": [
    "### Criando modelos com configurações \"ideais\""
   ]
  },
  {
   "cell_type": "code",
   "execution_count": 19,
   "metadata": {},
   "outputs": [],
   "source": [
    "rf_tuned = RandomForestRegressor(oob_score = True, n_estimators = 30, min_samples_split = 5, max_samples = 0.5, max_features = 'auto', criterion = 'mae')\n",
    "\n",
    "adb_tuned = AdaBoostRegressor(n_estimators= 30, loss= 'exponential', learning_rate= 0.8)\n",
    "\n",
    "adb_tuned_rf_tuned = AdaBoostRegressor(base_estimator = rf_tuned, n_estimators= 30, loss= 'exponential', learning_rate= 0.8)\n",
    "\n",
    "gdb_tuned = GradientBoostingRegressor(subsample= 1.0, n_estimators= 15, max_features= 'auto', loss= 'ls', learning_rate= 0.2, criterion= 'mae', alpha= 0.1)"
   ]
  },
  {
   "cell_type": "markdown",
   "metadata": {},
   "source": [
    "### Treinando todos modelos"
   ]
  },
  {
   "cell_type": "code",
   "execution_count": 20,
   "metadata": {},
   "outputs": [
    {
     "data": {
      "text/plain": [
       "GradientBoostingRegressor(alpha=0.1, criterion='mae', learning_rate=0.2,\n",
       "                          max_features='auto', n_estimators=15)"
      ]
     },
     "execution_count": 20,
     "metadata": {},
     "output_type": "execute_result"
    }
   ],
   "source": [
    "#Modelos padrão\n",
    "rf_default.fit(X_train,y_train)\n",
    "adb_default.fit(X_train,y_train)\n",
    "gdb_default.fit(X_train,y_train)\n",
    "\n",
    "#Modelos ajustados\n",
    "rf_tuned.fit(X_train,y_train)\n",
    "adb_tuned.fit(X_train,y_train)\n",
    "adb_tuned_rf_tuned.fit(X_train,y_train)\n",
    "gdb_tuned.fit(X_train,y_train)"
   ]
  },
  {
   "cell_type": "code",
   "execution_count": 21,
   "metadata": {},
   "outputs": [],
   "source": [
    "#Pontuações\n",
    "\n",
    "#Modelos padrão\n",
    "rf_default_score = rf_default.score(X_test,y_test)\n",
    "adb_default_score = adb_default.score(X_test,y_test)\n",
    "gdb_default_score = gdb_default.score(X_test,y_test)\n",
    "\n",
    "#Modelos ajustados\n",
    "rf_tuned_score = rf_tuned.score(X_test,y_test)\n",
    "adb_tuned_score = adb_tuned.score(X_test,y_test)\n",
    "adb_tuned_rf_tuned_score = adb_tuned_rf_tuned.score(X_test,y_test)\n",
    "gdb_tuned_score = gdb_tuned.score(X_test,y_test)"
   ]
  },
  {
   "cell_type": "code",
   "execution_count": 22,
   "metadata": {},
   "outputs": [],
   "source": [
    "#Previsões\n",
    "\n",
    "#Modelos padrão\n",
    "rf_default_pred = rf_default.predict(X)\n",
    "adb_default_pred = adb_default.predict(X)\n",
    "gdb_default_pred = gdb_default.predict(X)\n",
    "\n",
    "#Modelos ajustados\n",
    "rf_tuned_pred = rf_tuned.predict(X)\n",
    "adb_tuned_pred = adb_tuned.predict(X)\n",
    "adb_tuned_rf_tuned_pred = adb_tuned_rf_tuned.predict(X)\n",
    "gdb_tuned_pred = gdb_tuned.predict(X)"
   ]
  },
  {
   "cell_type": "code",
   "execution_count": 23,
   "metadata": {},
   "outputs": [
    {
     "name": "stdout",
     "output_type": "stream",
     "text": [
      "--RELATÓRIO--\n",
      "Random Forest:\n",
      "Default score:  0.9369265639483985\n",
      "Tuned score:  0.9463390222930432\n",
      "--------------------\n",
      "Adaboost:\n",
      "Default score:  0.9259634873994085\n",
      "Tuned score:  0.9293578430028929\n",
      "Tuned + RF tuned score:  0.9409105587105726\n",
      "--------------------\n",
      "Gradient Boost:\n",
      "Default score:  0.9436143536890905\n",
      "Tuned score:  0.9466839589816911\n",
      "--------------------\n"
     ]
    }
   ],
   "source": [
    "print('--RELATÓRIO--')\n",
    "\n",
    "print('Random Forest:')\n",
    "print('Default score: ',rf_default_score)\n",
    "print('Tuned score: ',rf_tuned_score)\n",
    "print('--------------------')\n",
    "\n",
    "print('Adaboost:')\n",
    "print('Default score: ',adb_default_score)\n",
    "print('Tuned score: ',adb_tuned_score)\n",
    "print('Tuned + RF tuned score: ',adb_tuned_rf_tuned_score)\n",
    "print('--------------------')\n",
    "\n",
    "print('Gradient Boost:')\n",
    "print('Default score: ',gdb_default_score)\n",
    "print('Tuned score: ',gdb_tuned_score)\n",
    "print('--------------------')"
   ]
  },
  {
   "cell_type": "code",
   "execution_count": 30,
   "metadata": {},
   "outputs": [
    {
     "data": {
      "image/png": "[encoded data removed]",
      "text/plain": [
       "<Figure size 720x432 with 1 Axes>"
      ]
     },
     "metadata": {
      "needs_background": "light"
     },
     "output_type": "display_data"
    }
   ],
   "source": [
    "#Visualizando resultados\n",
    "\n",
    "plt.figure(figsize=(10,6))\n",
    "\n",
    "plt.bar(0, rf_tuned_score, label='tuned_score', color='green')\n",
    "plt.bar(0, rf_default_score, label='default_score', color='red')\n",
    "\n",
    "plt.bar(1, adb_tuned_rf_tuned_score, label='adb_tuned_rf_tuned_score', color='blue')\n",
    "plt.bar(1, adb_tuned_score, color='green')\n",
    "plt.bar(1, adb_default_score, color='red')\n",
    "\n",
    "plt.bar(2, gdb_tuned_score, color='green')\n",
    "plt.bar(2, gdb_default_score, color='red')\n",
    "\n",
    "plt.ylim(0.92, 0.95)\n",
    "plt.ylabel('Score')\n",
    "plt.xlabel('Modelos')\n",
    "plt.title('Comparação da pontuação entre modelos padrão e Random search')\n",
    "plt.legend(loc='lower right')\n",
    "plt.xticks(np.arange(3),['Rf','Adb','Gdb'])\n",
    "plt.grid()\n",
    "plt.show()"
   ]
  }
 ],
 "metadata": {
  "kernelspec": {
   "display_name": "Python 3",
   "language": "python",
   "name": "python3"
  },
  "language_info": {
   "codemirror_mode": {
    "name": "ipython",
    "version": 3
   },
   "file_extension": ".py",
   "mimetype": "text/x-python",
   "name": "python",
   "nbconvert_exporter": "python",
   "pygments_lexer": "ipython3",
   "version": "3.7.9"
  }
 },
 "nbformat": 4,
 "nbformat_minor": 4
}
