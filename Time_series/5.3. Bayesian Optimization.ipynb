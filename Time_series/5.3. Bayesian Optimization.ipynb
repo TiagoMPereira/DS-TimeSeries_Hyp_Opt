{
 "cells": [
  {
   "cell_type": "markdown",
   "metadata": {},
   "source": [
    "# Bayesian Optimization\n",
    "\n",
    "## O que é?\n",
    "\n",
    "A otimização de bayes consiste em gerar uma função \"substituta\" para a função objetivo (seria a função ideal para descrever o modelo), utiliza os pontos mais próximos entre a função real e a substituta e gera uma nova zona ao redor desses pontos. Tenta otimizar os hiperparâmetros da função substituta de modo que aproxime cada ponto da zona de variação com o valor real da função. Ao invés de testar todo o conjunto de hiperparâmetros (grid search) ou pontos aleatórios em uma lista predefinida (random search) a otimização de Bayes testa os conjuntos de hp baseada nos resultados anteriores.\n",
    "\n",
    "Por exemplo: \n",
    "\n",
    "Considere um algoritmo Random Forest e o hiperparâmetro n_estimators (nº de árvores), os métodos grid e random search percorreriam uma lista de possíveis conjuntos de hiperparâmetros independente do resultado de um ou outro conjunto, enquanto isso, a otimização bayesiana encontra uma região no espaço de configurações hiperparamétricas onde estão os melhores resultados, e aplica suas buscas apenas nessa região.\n",
    "\n",
    "https://towardsdatascience.com/a-conceptual-explanation-of-bayesian-model-based-hyperparameter-optimization-for-machine-learning-b8172278050f"
   ]
  },
  {
   "cell_type": "code",
   "execution_count": 9,
   "metadata": {},
   "outputs": [
    {
     "data": {
      "image/png": "[encoded data removed]",
      "text/plain": [
       "<Figure size 432x288 with 1 Axes>"
      ]
     },
     "metadata": {
      "needs_background": "light"
     },
     "output_type": "display_data"
    },
    {
     "name": "stdout",
     "output_type": "stream",
     "text": [
      "Nesse exemplo um número de estimadores bom seria inferior a 150, sendo assim a otimização bayesiana utiliza o conjunto de hiperparâmetros dos modelos localizados nessa região e busca novos conjuntos próximos aos encontrados\n"
     ]
    }
   ],
   "source": [
    "import numpy as np\n",
    "import matplotlib.pyplot as plt\n",
    "\n",
    "Xplot = np.array([25, 50, 65, 100, 125, 230, 280, 345, 360, 400])\n",
    "Yplot = np.array([4, 8, 15, 13, 10, 28, 38, 34, 39, 40])\n",
    "\n",
    "plt.figure()\n",
    "plt.scatter(Xplot, Yplot)\n",
    "plt.grid()\n",
    "plt.ylabel(\"Erro\")\n",
    "plt.xlabel(\"n_estimators\")\n",
    "plt.show()\n",
    "\n",
    "print(\"Nesse exemplo um número de estimadores bom seria inferior a 150, sendo assim a otimização bayesiana utiliza o conjunto de\"\n",
    "      \" hiperparâmetros dos modelos localizados nessa região e busca novos conjuntos próximos aos encontrados\")"
   ]
  },
  {
   "cell_type": "markdown",
   "metadata": {},
   "source": [
    "### Exemplo"
   ]
  },
  {
   "cell_type": "markdown",
   "metadata": {},
   "source": [
    "Para implementar a otimização bayesiana será utilizada a biblioteca hyperopt"
   ]
  },
  {
   "cell_type": "code",
   "execution_count": 56,
   "metadata": {},
   "outputs": [],
   "source": [
    "import numpy as np\n",
    "import matplotlib.pyplot as plt\n",
    "import pandas as pd\n",
    "import time \n",
    "from sklearn.model_selection import train_test_split, cross_val_score\n",
    "from sklearn.svm import SVR\n",
    "from sklearn.ensemble import RandomForestRegressor\n",
    "import xgboost as xgb\n",
    "\n",
    "from hyperopt import hp, fmin, tpe, Trials, STATUS_OK\n",
    "from hyperopt.pyll import scope"
   ]
  },
  {
   "cell_type": "markdown",
   "metadata": {},
   "source": [
    "#### Coletando os dados"
   ]
  },
  {
   "cell_type": "code",
   "execution_count": 16,
   "metadata": {},
   "outputs": [
    {
     "data": {
      "text/html": [
       "<div>\n",
       "<style scoped>\n",
       "    .dataframe tbody tr th:only-of-type {\n",
       "        vertical-align: middle;\n",
       "    }\n",
       "\n",
       "    .dataframe tbody tr th {\n",
       "        vertical-align: top;\n",
       "    }\n",
       "\n",
       "    .dataframe thead th {\n",
       "        text-align: right;\n",
       "    }\n",
       "</style>\n",
       "<table border=\"1\" class=\"dataframe\">\n",
       "  <thead>\n",
       "    <tr style=\"text-align: right;\">\n",
       "      <th></th>\n",
       "      <th>Target</th>\n",
       "      <th>Close 1</th>\n",
       "      <th>Close 2</th>\n",
       "      <th>Close 3</th>\n",
       "      <th>Close 4</th>\n",
       "    </tr>\n",
       "  </thead>\n",
       "  <tbody>\n",
       "    <tr>\n",
       "      <th>4</th>\n",
       "      <td>142.529999</td>\n",
       "      <td>138.050003</td>\n",
       "      <td>137.949997</td>\n",
       "      <td>131.740005</td>\n",
       "      <td>135.679993</td>\n",
       "    </tr>\n",
       "    <tr>\n",
       "      <th>5</th>\n",
       "      <td>144.229996</td>\n",
       "      <td>142.529999</td>\n",
       "      <td>138.050003</td>\n",
       "      <td>137.949997</td>\n",
       "      <td>131.740005</td>\n",
       "    </tr>\n",
       "    <tr>\n",
       "      <th>6</th>\n",
       "      <td>144.199997</td>\n",
       "      <td>144.229996</td>\n",
       "      <td>142.529999</td>\n",
       "      <td>138.050003</td>\n",
       "      <td>137.949997</td>\n",
       "    </tr>\n",
       "    <tr>\n",
       "      <th>7</th>\n",
       "      <td>143.800003</td>\n",
       "      <td>144.199997</td>\n",
       "      <td>144.229996</td>\n",
       "      <td>142.529999</td>\n",
       "      <td>138.050003</td>\n",
       "    </tr>\n",
       "    <tr>\n",
       "      <th>8</th>\n",
       "      <td>145.389999</td>\n",
       "      <td>143.800003</td>\n",
       "      <td>144.199997</td>\n",
       "      <td>144.229996</td>\n",
       "      <td>142.529999</td>\n",
       "    </tr>\n",
       "  </tbody>\n",
       "</table>\n",
       "</div>"
      ],
      "text/plain": [
       "       Target     Close 1     Close 2     Close 3     Close 4\n",
       "4  142.529999  138.050003  137.949997  131.740005  135.679993\n",
       "5  144.229996  142.529999  138.050003  137.949997  131.740005\n",
       "6  144.199997  144.229996  142.529999  138.050003  137.949997\n",
       "7  143.800003  144.199997  144.229996  142.529999  138.050003\n",
       "8  145.389999  143.800003  144.199997  144.229996  142.529999"
      ]
     },
     "execution_count": 16,
     "metadata": {},
     "output_type": "execute_result"
    }
   ],
   "source": [
    "#Recolhendo dados do facebook e preparando dataset\n",
    "\n",
    "import pandas_datareader.data as web\n",
    "import datetime as dt\n",
    "\n",
    "end = dt.datetime(2020, 6, 1)\n",
    "start = dt.datetime(2019, 1, 1)\n",
    "\n",
    "df = web.DataReader(\"FB\", 'yahoo', start, end)\n",
    "\n",
    "df = df.reset_index()\n",
    "df = df.drop(columns=['Open','Date','High','Low','Volume','Adj Close'])\n",
    "df = df.rename(columns={'Close': 'Close 0'})\n",
    "\n",
    "def window (df, w):\n",
    "    for i in range(1,w):\n",
    "        df['Close '+str(i)] = df['Close '+str(i-1)].shift(1)\n",
    "    return df\n",
    "        \n",
    "df = window(df,5)\n",
    "df = df.rename(columns={'Close 0': 'Target'})\n",
    "df.dropna(inplace=True)\n",
    "df.head()"
   ]
  },
  {
   "cell_type": "code",
   "execution_count": 17,
   "metadata": {},
   "outputs": [],
   "source": [
    "#Separando dados de treino e teste\n",
    "X = df.loc[:, ['Close 1','Close 2','Close 3','Close 4']]\n",
    "y = df.loc[:, 'Target'].tolist()\n",
    "\n",
    "X_train, X_test, y_train, y_test = train_test_split(X, y, test_size=0.2, random_state=10)"
   ]
  },
  {
   "cell_type": "markdown",
   "metadata": {},
   "source": [
    "#### Criando modelos padrão"
   ]
  },
  {
   "cell_type": "code",
   "execution_count": 42,
   "metadata": {},
   "outputs": [],
   "source": [
    "# configuração default para svr\n",
    "# kernel = rbf, degree = 3, gamma = scale, coef0 = 0.0, tol = 1e-3, C=1.0,\n",
    "# epsilon = 0.1, shrinking = True, cache_size = 200, verbose = False, max_iter = -1\n",
    "svm_default = SVR()\n",
    "\n",
    "# Random Forest\n",
    "# n_estimators = 100, criterion = \"mse\", max_depth = None, min_samples_split = 2, max_features = \"auto\", \n",
    "# oob_score=false, max_samples=none\n",
    "rf_default = RandomForestRegressor()\n",
    "\n",
    "# XGBoost\n",
    "# n_estimators, max_depth, learning_rate, booster, gamma, subsample, reg_alpha, reg_lambda\n",
    "xgb_default = xgb.XGBRegressor()"
   ]
  },
  {
   "cell_type": "markdown",
   "metadata": {},
   "source": [
    "#### Criando lista de hp"
   ]
  },
  {
   "cell_type": "code",
   "execution_count": 65,
   "metadata": {},
   "outputs": [],
   "source": [
    "svm_space= {\n",
    "    'kernel': hp.choice('kernel', ['linear','rbf']),\n",
    "    'gamma': hp.choice('gamma', ['scale','auto']),\n",
    "    'C': hp.quniform('C', 0.1, 1.0, 0.1),\n",
    "    'epsilon': hp.quniform('epsilon', 0.1, 1.0, 0.1),\n",
    "}\n",
    "\n",
    "rf_space= {\n",
    "    'criterion': hp.choice('criterion', ['mse','mae']),\n",
    "    'max_features': hp.choice('max_features', ['sqrt','log2','auto']),\n",
    "    'n_estimators': scope.int(hp.quniform('n_estimators', 25, 600, 25)),\n",
    "    'min_samples_split': scope.int(hp.quniform('min_samples_split', 2, 10, 1)),\n",
    "}\n",
    "\n",
    "xgb_space= {\n",
    "    'n_estimators': scope.int(hp.quniform('n_estimators', 25, 600, 25)),\n",
    "    'learning_rate': hp.quniform('learning_rate', 0.1, 1.0, 0.1),\n",
    "    'booster': hp.choice('booster', ['gbtree','gblinear']),\n",
    "}"
   ]
  },
  {
   "cell_type": "markdown",
   "metadata": {},
   "source": [
    "#### Definindo função objetivo, aquela que deve ser otimizada"
   ]
  },
  {
   "cell_type": "code",
   "execution_count": 66,
   "metadata": {},
   "outputs": [],
   "source": [
    "def funcao_objetivo_svm(params):\n",
    "    model = SVR(**params)\n",
    "    score = cross_val_score(model, X_train, y_train, cv=5).mean()\n",
    "    return {'loss': -score, 'status': STATUS_OK} \n",
    "\n",
    "def funcao_objetivo_rf(params):\n",
    "    model = RandomForestRegressor(**params)\n",
    "    score = cross_val_score(model, X_train, y_train, cv=5).mean()\n",
    "    return {'loss': -score, 'status': STATUS_OK} \n",
    "\n",
    "def funcao_objetivo_xgb(params):\n",
    "    model = xgb.XGBRegressor(**params)\n",
    "    score = cross_val_score(model, X_train, y_train, cv=5).mean()\n",
    "    return {'loss': -score, 'status': STATUS_OK} "
   ]
  },
  {
   "cell_type": "code",
   "execution_count": 67,
   "metadata": {},
   "outputs": [
    {
     "name": "stdout",
     "output_type": "stream",
     "text": [
      "100%|█████████████████████████████████████████████| 100/100 [00:49<00:00,  2.03trial/s, best loss: -0.9546315277552141]\n"
     ]
    }
   ],
   "source": [
    "num_eval = 100\n",
    "\n",
    "trials = Trials()\n",
    "\n",
    "svm_best_param = fmin(funcao_objetivo_svm,#Função a ser otimizada\n",
    "                  svm_space,              #Espaço de hp\n",
    "                  algo=tpe.suggest,       #Algoritmo responsável por construir a probabilidade da busca em cada região\n",
    "                  max_evals=num_eval,     #Número de tentativas\n",
    "                  trials=trials,          #Armazena o andamento do processo\n",
    "                  rstate= np.random.RandomState(1))\n",
    "\n",
    "trials = Trials()\n",
    "\n",
    "rf_best_param = fmin(funcao_objetivo_rf,  #Função a ser otimizada\n",
    "                  rf_space,               #Espaço de hp\n",
    "                  algo=tpe.suggest,       #Algoritmo responsável por construir a probabilidade da busca em cada região\n",
    "                  max_evals=num_eval,     #Número de tentativas\n",
    "                  trials=trials,          #Armazena o andamento do processo\n",
    "                  rstate= np.random.RandomState(1))\n",
    "\n",
    "trials = Trials()\n",
    "\n",
    "xgb_best_param = fmin(funcao_objetivo_xgb,#Função a ser otimizada\n",
    "                  xgb_space,              #Espaço de hp\n",
    "                  algo=tpe.suggest,       #Algoritmo responsável por construir a probabilidade da busca em cada região\n",
    "                  max_evals=num_eval,     #Número de tentativas\n",
    "                  trials=trials,          #Armazena o andamento do processo\n",
    "                  rstate= np.random.RandomState(1))"
   ]
  },
  {
   "cell_type": "code",
   "execution_count": 68,
   "metadata": {},
   "outputs": [
    {
     "name": "stdout",
     "output_type": "stream",
     "text": [
      "SVM: {'C': 0.1, 'epsilon': 0.8, 'gamma': 0, 'kernel': 0}\n",
      "RF: {'criterion': 1, 'max_features': 2, 'min_samples_split': 10.0, 'n_estimators': 550.0}\n",
      "XGB: {'booster': 1, 'learning_rate': 0.9, 'n_estimators': 350.0}\n"
     ]
    }
   ],
   "source": [
    "print(\"SVM:\",svm_best_param)\n",
    "print(\"RF:\",rf_best_param)\n",
    "print(\"XGB:\",xgb_best_param)"
   ]
  },
  {
   "cell_type": "code",
   "execution_count": 69,
   "metadata": {},
   "outputs": [],
   "source": [
    "svm_tuned = SVR(C=0.1, epsilon = 0.8, gamma = 'scale', kernel = 'linear')\n",
    "\n",
    "rf_tuned = RandomForestRegressor(n_estimators = 550, min_samples_split = 10, max_features = 2, criterion = 'mae')\n",
    "\n",
    "xgb_tuned = xgb.XGBRegressor(n_estimators = 350,learning_rate = 0.9, booster = 'gblinear')"
   ]
  },
  {
   "cell_type": "code",
   "execution_count": 70,
   "metadata": {},
   "outputs": [
    {
     "data": {
      "text/plain": [
       "XGBRegressor(base_score=0.5, booster='gblinear', colsample_bylevel=None,\n",
       "             colsample_bynode=None, colsample_bytree=None, gamma=None,\n",
       "             gpu_id=-1, importance_type='gain', interaction_constraints=None,\n",
       "             learning_rate=0.9, max_delta_step=None, max_depth=None,\n",
       "             min_child_weight=None, missing=nan, monotone_constraints=None,\n",
       "             n_estimators=350, n_jobs=0, num_parallel_tree=None, random_state=0,\n",
       "             reg_alpha=0, reg_lambda=0, scale_pos_weight=1, subsample=None,\n",
       "             tree_method=None, validate_parameters=1, verbosity=None)"
      ]
     },
     "execution_count": 70,
     "metadata": {},
     "output_type": "execute_result"
    }
   ],
   "source": [
    "#Modelos padrão\n",
    "svm_default.fit(X_train,y_train)\n",
    "rf_default.fit(X_train,y_train)\n",
    "xgb_default.fit(X_train,y_train)\n",
    "\n",
    "#Modelos ajustados\n",
    "svm_tuned.fit(X_train,y_train)\n",
    "rf_tuned.fit(X_train,y_train)\n",
    "xgb_tuned.fit(X_train,y_train)"
   ]
  },
  {
   "cell_type": "code",
   "execution_count": 71,
   "metadata": {},
   "outputs": [],
   "source": [
    "#Recolhendo pontuações\n",
    "\n",
    "#Modelos padrão\n",
    "svm_default_score = svm_default.score(X_test,y_test)\n",
    "rf_default_score = rf_default.score(X_test,y_test)\n",
    "xgb_default_score = xgb_default.score(X_test,y_test)\n",
    "\n",
    "#Modelos ajustados\n",
    "svm_tuned_score = svm_tuned.score(X_test,y_test)\n",
    "rf_tuned_score = rf_tuned.score(X_test,y_test)\n",
    "xgb_tuned_score = xgb_tuned.score(X_test,y_test)"
   ]
  },
  {
   "cell_type": "code",
   "execution_count": 72,
   "metadata": {},
   "outputs": [],
   "source": [
    "#Recolhendo previsões\n",
    "\n",
    "#Modelos padrão\n",
    "svm_default_pred = svm_default.predict(X)\n",
    "rf_default_pred = rf_default.predict(X)\n",
    "xgb_default_pred = xgb_default.predict(X)\n",
    "\n",
    "#Modelos ajustados\n",
    "svm_tuned_pred = svm_tuned.predict(X)\n",
    "rf_tuned_pred = rf_tuned.predict(X)\n",
    "xgb_tuned_pred = xgb_tuned.predict(X)"
   ]
  },
  {
   "cell_type": "code",
   "execution_count": 73,
   "metadata": {},
   "outputs": [
    {
     "name": "stdout",
     "output_type": "stream",
     "text": [
      "--RELATÓRIO--\n",
      "SVM:\n",
      "Default score:  0.85605189803503\n",
      "Tuned score:  0.9501425949103359\n",
      "--------------------\n",
      "Random Forest:\n",
      "Default score:  0.9372257586069425\n",
      "Tuned score:  0.941848351258256\n",
      "--------------------\n",
      "XGBoost:\n",
      "Default score:  0.9347909493592949\n",
      "Tuned score:  0.9229600786216103\n",
      "--------------------\n"
     ]
    }
   ],
   "source": [
    "print('--RELATÓRIO--')\n",
    "\n",
    "print('SVM:')\n",
    "print('Default score: ',svm_default_score)\n",
    "print('Tuned score: ',svm_tuned_score)\n",
    "print('--------------------')\n",
    "\n",
    "print('Random Forest:')\n",
    "print('Default score: ',rf_default_score)\n",
    "print('Tuned score: ',rf_tuned_score)\n",
    "print('--------------------')\n",
    "\n",
    "print('XGBoost:')\n",
    "print('Default score: ',xgb_default_score)\n",
    "print('Tuned score: ',xgb_tuned_score)\n",
    "print('--------------------')"
   ]
  },
  {
   "cell_type": "code",
   "execution_count": 74,
   "metadata": {},
   "outputs": [
    {
     "data": {
      "image/png": "[encoded data removed]",
      "text/plain": [
       "<Figure size 720x432 with 1 Axes>"
      ]
     },
     "metadata": {
      "needs_background": "light"
     },
     "output_type": "display_data"
    }
   ],
   "source": [
    "#Visualizando resultados\n",
    "\n",
    "plt.figure(figsize=(10,6))\n",
    "\n",
    "plt.bar(0, svm_tuned_score, label='svm_tuned_score')\n",
    "plt.bar(0, svm_default_score, label='svm_default_score')\n",
    "\n",
    "plt.bar(1, rf_tuned_score, label='rf_tuned_score')\n",
    "plt.bar(1, rf_default_score, label='rf_default_score')\n",
    "\n",
    "plt.bar(2, xgb_default_score, label='xgb_default_score')\n",
    "plt.bar(2, xgb_tuned_score, label='xgb_tuned_score')\n",
    "\n",
    "plt.ylim(0.8, 1.0)\n",
    "plt.ylabel('Score')\n",
    "plt.xlabel('Modelos')\n",
    "plt.title('Comparação da pontuação entre modelos padrão e grid search')\n",
    "plt.legend(loc='lower right')\n",
    "plt.show()"
   ]
  },
  {
   "cell_type": "code",
   "execution_count": null,
   "metadata": {},
   "outputs": [],
   "source": []
  }
 ],
 "metadata": {
  "kernelspec": {
   "display_name": "Python 3",
   "language": "python",
   "name": "python3"
  },
  "language_info": {
   "codemirror_mode": {
    "name": "ipython",
    "version": 3
   },
   "file_extension": ".py",
   "mimetype": "text/x-python",
   "name": "python",
   "nbconvert_exporter": "python",
   "pygments_lexer": "ipython3",
   "version": "3.7.9"
  }
 },
 "nbformat": 4,
 "nbformat_minor": 4
}
