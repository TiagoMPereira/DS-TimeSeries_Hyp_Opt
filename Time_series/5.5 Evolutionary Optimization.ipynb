{
 "cells": [
  {
   "cell_type": "markdown",
   "metadata": {},
   "source": [
    "# Algoritmos evolucionários\n",
    "\n",
    "## O que são?\n",
    "\n",
    "Os algoritmos evolucionários buscam reproduzir o conceito de evolução humana, onde um indivíduo tende a manter um conjunto de características de uma população anterior e melhorar outras características.\n",
    "\n",
    "## Algoritmo genético\n",
    "\n",
    "Dentro dos algoritmos evolucionários temos o conceito de algoritmo genético. Os algoritmos genéticos tentam reproduzir o comportamento genético humano. Dada uma população de N indivíduos, e uma tarefa T, os indivíduos que mais se aproximarem de concluir a tarefa T serão considerados os melhores da espécie e assim são utilizados para reprodução. Após o cruzamento de indivíduos surge uma nova população que é testada e rankeada novamente. Esse processo continua até que sejam encontrados indivíduos considerados \"ótimos\" para tal tarefa.\n",
    "\n",
    "A reprodução consiste na permutação de genes entre dois indivíduos, gerando assim um novo. Os novos indivíduos são submetidos a uma mutação, empregada para aumentar a variabilidade genética e impedir que as informações genéticas se estacionem.\n",
    "\n",
    "Em uma abordagem na área de busca hiperparamétrica os indivíduos (ou cromossomos) são espaços hiperparamétricos e cada gene é um hiperparâmetro (Evolutionary algorithms for hyperparameter optimization in machine learning for application in high energy physics pág 3) e a cada permutação surge um novo cromossomo com uma combinação de hiperparâmetros de cada um dos pais."
   ]
  },
  {
   "cell_type": "markdown",
   "metadata": {},
   "source": [
    "Para executar a otimização através de um algoritmo genético será utilizada a evolução diferencial implementada na biblioteca scipy"
   ]
  },
  {
   "cell_type": "code",
   "execution_count": 15,
   "metadata": {},
   "outputs": [
    {
     "name": "stderr",
     "output_type": "stream",
     "text": [
      "C:\\Users\\mpere\\AppData\\Local\\Programs\\Python\\Python37\\lib\\site-packages\\tpot\\builtins\\__init__.py:36: UserWarning: Warning: optional dependency `torch` is not available. - skipping import of NN models.\n",
      "  warnings.warn(\"Warning: optional dependency `torch` is not available. - skipping import of NN models.\")\n"
     ]
    }
   ],
   "source": [
    "# importando dependências\n",
    "import numpy as np\n",
    "import matplotlib.pyplot as plt\n",
    "import pandas as pd\n",
    "import time \n",
    "from sklearn.model_selection import train_test_split\n",
    "from sklearn.neighbors import KNeighborsRegressor as KNR\n",
    "from sklearn.metrics import r2_score    \n",
    "from sklearn.tree import DecisionTreeRegressor\n",
    "from sklearn.ensemble import GradientBoostingRegressor\n",
    "from tpot import TPOTRegressor as TPR"
   ]
  },
  {
   "cell_type": "code",
   "execution_count": 5,
   "metadata": {},
   "outputs": [
    {
     "data": {
      "text/html": [
       "<div>\n",
       "<style scoped>\n",
       "    .dataframe tbody tr th:only-of-type {\n",
       "        vertical-align: middle;\n",
       "    }\n",
       "\n",
       "    .dataframe tbody tr th {\n",
       "        vertical-align: top;\n",
       "    }\n",
       "\n",
       "    .dataframe thead th {\n",
       "        text-align: right;\n",
       "    }\n",
       "</style>\n",
       "<table border=\"1\" class=\"dataframe\">\n",
       "  <thead>\n",
       "    <tr style=\"text-align: right;\">\n",
       "      <th></th>\n",
       "      <th>Target</th>\n",
       "      <th>Close 1</th>\n",
       "      <th>Close 2</th>\n",
       "      <th>Close 3</th>\n",
       "      <th>Close 4</th>\n",
       "    </tr>\n",
       "  </thead>\n",
       "  <tbody>\n",
       "    <tr>\n",
       "      <th>4</th>\n",
       "      <td>142.529999</td>\n",
       "      <td>138.050003</td>\n",
       "      <td>137.949997</td>\n",
       "      <td>131.740005</td>\n",
       "      <td>135.679993</td>\n",
       "    </tr>\n",
       "    <tr>\n",
       "      <th>5</th>\n",
       "      <td>144.229996</td>\n",
       "      <td>142.529999</td>\n",
       "      <td>138.050003</td>\n",
       "      <td>137.949997</td>\n",
       "      <td>131.740005</td>\n",
       "    </tr>\n",
       "    <tr>\n",
       "      <th>6</th>\n",
       "      <td>144.199997</td>\n",
       "      <td>144.229996</td>\n",
       "      <td>142.529999</td>\n",
       "      <td>138.050003</td>\n",
       "      <td>137.949997</td>\n",
       "    </tr>\n",
       "    <tr>\n",
       "      <th>7</th>\n",
       "      <td>143.800003</td>\n",
       "      <td>144.199997</td>\n",
       "      <td>144.229996</td>\n",
       "      <td>142.529999</td>\n",
       "      <td>138.050003</td>\n",
       "    </tr>\n",
       "    <tr>\n",
       "      <th>8</th>\n",
       "      <td>145.389999</td>\n",
       "      <td>143.800003</td>\n",
       "      <td>144.199997</td>\n",
       "      <td>144.229996</td>\n",
       "      <td>142.529999</td>\n",
       "    </tr>\n",
       "  </tbody>\n",
       "</table>\n",
       "</div>"
      ],
      "text/plain": [
       "       Target     Close 1     Close 2     Close 3     Close 4\n",
       "4  142.529999  138.050003  137.949997  131.740005  135.679993\n",
       "5  144.229996  142.529999  138.050003  137.949997  131.740005\n",
       "6  144.199997  144.229996  142.529999  138.050003  137.949997\n",
       "7  143.800003  144.199997  144.229996  142.529999  138.050003\n",
       "8  145.389999  143.800003  144.199997  144.229996  142.529999"
      ]
     },
     "execution_count": 5,
     "metadata": {},
     "output_type": "execute_result"
    }
   ],
   "source": [
    "#Recolhendo dados do facebook e preparando dataset\n",
    "\n",
    "import pandas_datareader.data as web\n",
    "import datetime as dt\n",
    "\n",
    "end = dt.datetime(2020, 6, 1)\n",
    "start = dt.datetime(2019, 1, 1)\n",
    "\n",
    "df = web.DataReader(\"FB\", 'yahoo', start, end)\n",
    "\n",
    "df = df.reset_index()\n",
    "df = df.drop(columns=['Open','Date','High','Low','Volume','Adj Close'])\n",
    "df = df.rename(columns={'Close': 'Close 0'})\n",
    "\n",
    "def window (df, w):\n",
    "    for i in range(1,w):\n",
    "        df['Close '+str(i)] = df['Close '+str(i-1)].shift(1)\n",
    "    return df\n",
    "        \n",
    "df = window(df,5)\n",
    "df = df.rename(columns={'Close 0': 'Target'})\n",
    "df.dropna(inplace=True)\n",
    "df.head()"
   ]
  },
  {
   "cell_type": "code",
   "execution_count": 6,
   "metadata": {},
   "outputs": [],
   "source": [
    "#Separando dados de treino e teste\n",
    "X = df.loc[:, ['Close 1','Close 2','Close 3','Close 4']]\n",
    "y = df.loc[:, 'Target'].tolist()\n",
    "\n",
    "X_train, X_test, y_train, y_test = train_test_split(X, y, test_size=0.2, random_state=10)"
   ]
  },
  {
   "cell_type": "markdown",
   "metadata": {},
   "source": [
    "##### Modelos Padrão"
   ]
  },
  {
   "cell_type": "code",
   "execution_count": 41,
   "metadata": {},
   "outputs": [],
   "source": [
    "# configuração default para knn\n",
    "# n_neighbors = 5, weights = uniform, algorithm = auto, leaf_size = 30, p=2, metric=minkowski, metric_params=None, n_jobs=None\n",
    "knn_default = KNR()\n",
    "\n",
    "# configuração default para decision tree\n",
    "# criterion=mse, splitter=best, max_depth=None, min_samples_split=2, min_samples_leaf=1, \n",
    "# min_weight_fraction_leaf = 0.0, max_features=None, max_leaf_nodes=None, min_impurity_decrease=0.0, ccp_alpha=0.0\n",
    "dt_default = DecisionTreeRegressor()\n",
    "\n",
    "#GradientBoosting\n",
    "# loss = 'ls', learning_rate = 0.1, n_estimators=100, subsample = 1.0, criterion = 'friedman_mse', \n",
    "# max_features = 'auto', alpha = 0.9\n",
    "gdb_default = GradientBoostingRegressor()"
   ]
  },
  {
   "cell_type": "markdown",
   "metadata": {},
   "source": [
    "##### Lista de hiperparâmetros"
   ]
  },
  {
   "cell_type": "code",
   "execution_count": 49,
   "metadata": {},
   "outputs": [],
   "source": [
    "knn_config = {'sklearn.neighbors.KNeighborsRegressor' :{\n",
    "        'n_neighbors':[3,5,9,11], \n",
    "        'weights': ['uniform','distance'], \n",
    "        'algorithm':['auto', 'ball_tree', 'brute'], \n",
    "        'p':[1,2]\n",
    "}}\n",
    "\n",
    "dt_config = {'sklearn.tree.DecisionTreeRegressor':{\n",
    "    'criterion': ['mse','friedman_mse','mae'], \n",
    "    'splitter':['best','random'],\n",
    "    'min_samples_split':[2,5,10,15],\n",
    "    'max_features':['auto','sqrt','log2']\n",
    "}}\n",
    "\n",
    "gdb_config = {'sklearn.ensemble.GradientBoostingRegressor':{\n",
    "    'loss':['ls','lad','huber','quantile'], \n",
    "    'learning_rate':[0.05,0.1,0.2,0.3,0.5,0.75],\n",
    "    'n_estimators':[15,30,50,100,150,300,500],\n",
    "    'subsample':[0.3,0.5,0.7,0.9,1.0], \n",
    "    'criterion': ['friedman_mse','mse','mae'], \n",
    "    'max_features':['auto','sqrt','log2'],\n",
    "    'alpha':[0.05,0.1,0.3,0.5,0.75,0.9, 0.99]\n",
    "}}"
   ]
  },
  {
   "cell_type": "markdown",
   "metadata": {},
   "source": [
    "##### Criando modelos ajustados"
   ]
  },
  {
   "cell_type": "code",
   "execution_count": 93,
   "metadata": {},
   "outputs": [],
   "source": [
    "knn_tpot = TPR(generations= 5, population_size= 30, random_state=1, config_dict=knn_config, cv= 5, verbosity = 2)\n",
    "\n",
    "dt_tpot = TPR(generations= 5, population_size= 30, random_state=1, config_dict=dt_config, cv= 5, verbosity = 2)\n",
    "\n",
    "gdb_tpot = TPR(generations= 5, population_size= 30, random_state=1, config_dict=gdb_config, cv= 5, verbosity = 2)"
   ]
  },
  {
   "cell_type": "code",
   "execution_count": 94,
   "metadata": {},
   "outputs": [
    {
     "data": {
      "application/vnd.jupyter.widget-view+json": {
       "model_id": "",
       "version_major": 2,
       "version_minor": 0
      },
      "text/plain": [
       "HBox(children=(HTML(value='Optimization Progress'), FloatProgress(value=0.0, max=180.0), HTML(value='')))"
      ]
     },
     "metadata": {},
     "output_type": "display_data"
    },
    {
     "name": "stdout",
     "output_type": "stream",
     "text": [
      "\n",
      "Generation 1 - Current best internal CV score: -22.96571432441449\n",
      "\n",
      "Generation 2 - Current best internal CV score: -22.96571432441449\n",
      "\n",
      "Generation 3 - Current best internal CV score: -22.96571432441449\n",
      "\n",
      "Generation 4 - Current best internal CV score: -22.96571432441449\n",
      "\n",
      "Generation 5 - Current best internal CV score: -22.96571432441449\n",
      "\n",
      "Best pipeline: KNeighborsRegressor(KNeighborsRegressor(input_matrix, algorithm=brute, n_neighbors=5, p=2, weights=uniform), algorithm=brute, n_neighbors=5, p=1, weights=uniform)\n"
     ]
    }
   ],
   "source": [
    "# Ajustando modelos treinados\n",
    "knn_default.fit(X_train, y_train)\n",
    "\n",
    "knn_i = time.time()\n",
    "\n",
    "knn_tpot.fit(X_train, y_train)\n",
    "\n",
    "knn_f = time.time()"
   ]
  },
  {
   "cell_type": "code",
   "execution_count": 95,
   "metadata": {},
   "outputs": [
    {
     "data": {
      "application/vnd.jupyter.widget-view+json": {
       "model_id": "",
       "version_major": 2,
       "version_minor": 0
      },
      "text/plain": [
       "HBox(children=(HTML(value='Optimization Progress'), FloatProgress(value=0.0, max=180.0), HTML(value='')))"
      ]
     },
     "metadata": {},
     "output_type": "display_data"
    },
    {
     "name": "stdout",
     "output_type": "stream",
     "text": [
      "\n",
      "Generation 1 - Current best internal CV score: -27.288334875667793\n",
      "\n",
      "Generation 2 - Current best internal CV score: -27.288334875667793\n",
      "\n",
      "Generation 3 - Current best internal CV score: -26.8494607276455\n",
      "\n",
      "Generation 4 - Current best internal CV score: -26.8494607276455\n",
      "\n",
      "Generation 5 - Current best internal CV score: -24.58505737335349\n",
      "\n",
      "Best pipeline: DecisionTreeRegressor(CombineDFs(input_matrix, CombineDFs(input_matrix, CombineDFs(input_matrix, CombineDFs(input_matrix, input_matrix)))), criterion=friedman_mse, max_features=auto, min_samples_split=10, splitter=random)\n"
     ]
    }
   ],
   "source": [
    "dt_default.fit(X_train, y_train)\n",
    "\n",
    "dt_i = time.time()\n",
    "\n",
    "dt_tpot.fit(X_train, y_train)\n",
    "\n",
    "dt_f = time.time()"
   ]
  },
  {
   "cell_type": "code",
   "execution_count": 96,
   "metadata": {},
   "outputs": [
    {
     "data": {
      "application/vnd.jupyter.widget-view+json": {
       "model_id": "",
       "version_major": 2,
       "version_minor": 0
      },
      "text/plain": [
       "HBox(children=(HTML(value='Optimization Progress'), FloatProgress(value=0.0, max=180.0), HTML(value='')))"
      ]
     },
     "metadata": {},
     "output_type": "display_data"
    },
    {
     "name": "stdout",
     "output_type": "stream",
     "text": [
      "\n",
      "Generation 1 - Current best internal CV score: -20.790071080329586\n",
      "\n",
      "Generation 2 - Current best internal CV score: -20.295313401724524\n",
      "\n",
      "Generation 3 - Current best internal CV score: -20.295313401724524\n",
      "\n",
      "Generation 4 - Current best internal CV score: -20.295313401724524\n",
      "\n",
      "Generation 5 - Current best internal CV score: -20.075515495346004\n",
      "\n",
      "Best pipeline: GradientBoostingRegressor(CombineDFs(input_matrix, CombineDFs(input_matrix, input_matrix)), alpha=0.1, criterion=mae, learning_rate=0.1, loss=ls, max_features=auto, n_estimators=50, subsample=0.5)\n"
     ]
    }
   ],
   "source": [
    "gdb_default.fit(X_train, y_train)\n",
    "\n",
    "gdb_i = time.time()\n",
    "\n",
    "gdb_tpot.fit(X_train, y_train)\n",
    "\n",
    "gdb_f = time.time()"
   ]
  },
  {
   "cell_type": "markdown",
   "metadata": {},
   "source": [
    "##### Criando modelos ajustados"
   ]
  },
  {
   "cell_type": "code",
   "execution_count": 110,
   "metadata": {},
   "outputs": [],
   "source": [
    "#Podem ser utilizados esses modelos ou os modelos já treinados modelo_tpot\n",
    "\n",
    "knn_tuned = KNR(algorithm='brute', n_neighbors=5, p=1, weights='uniform')\n",
    "\n",
    "dt_tuned = DecisionTreeRegressor(criterion='friedman_mse', max_features='auto', min_samples_split=10, splitter='random', random_state=10)\n",
    "\n",
    "gdb_tuned = GradientBoostingRegressor(alpha=0.1, criterion='mae', learning_rate=0.1, loss='ls', max_features='auto', n_estimators=50, subsample=0.5, random_state=10)"
   ]
  },
  {
   "cell_type": "code",
   "execution_count": 97,
   "metadata": {},
   "outputs": [],
   "source": [
    "# Função para calcular pontuação r^2 dos modelos ajustados\n",
    "def calculate_r2(y_true, y_pred):\n",
    "    r2 = r2_score(y_true, y_pred)\n",
    "    return r2"
   ]
  },
  {
   "cell_type": "code",
   "execution_count": 111,
   "metadata": {},
   "outputs": [],
   "source": [
    "#Recolhendo pontuações dos modelos padrão\n",
    "\n",
    "knn_default_score = knn_default.score(X_test, y_test)\n",
    "dt_default_score = dt_default.score(X_test, y_test)\n",
    "gdb_default_score = gdb_default.score(X_test, y_test)\n",
    "\n",
    "#Recolhendo predições dos modelos padrão\n",
    "\n",
    "knn_default_pred = knn_default.predict(X_test)\n",
    "dt_default_pred = dt_default.predict(X_test)\n",
    "gdb_default_pred = gdb_default.predict(X_test)"
   ]
  },
  {
   "cell_type": "code",
   "execution_count": 115,
   "metadata": {},
   "outputs": [],
   "source": [
    "#Treinando modelos ajustados\n",
    "\n",
    "knn_tuned.fit(X_train, y_train)\n",
    "dt_tuned.fit(X_train, y_train)\n",
    "gdb_tuned.fit(X_train, y_train)\n",
    "\n",
    "#Recolhendo pontuações dos modelos ajustados\n",
    "\n",
    "knn_tuned_score = knn_tuned.score(X_test, y_test)\n",
    "dt_tuned_score = dt_tuned.score(X_test, y_test)\n",
    "gdb_tuned_score = gdb_tuned.score(X_test, y_test)\n",
    "\n",
    "#Recolhendo predições dos modelos ajustados\n",
    "\n",
    "knn_tuned_pred = knn_tuned.predict(X_test)\n",
    "dt_tuned_pred = dt_tuned.predict(X_test)\n",
    "gdb_tuned_pred = gdb_tuned.predict(X_test)\n",
    "\n",
    "#Para usar os modelos gerados automaticamente usar as linhas abaixo\n",
    "\n",
    "#Recolhendo predições e pontuações dos modelos ajustados\n",
    "#A pontuação gerada pelo método TPOTRegressor é neg_mean_absolute_error, então, para manter a mesma pontuação dos outros modelos\n",
    "#será usada a função calcular_r2 para calcular a pontuação dos modelos ajustados\n",
    "\n",
    "#knn_tpot_pred = knn_tpot.predict(X_test);\n",
    "#dt_tpot_pred = dt_tpot.predict(X_test);\n",
    "#gdb_tpot_pred = gdb_tpot.predict(X_test);\n",
    "\n",
    "#knn_tpot_score = calculate_r2(y_test, knn_tpot_pred)\n",
    "#dt_tpot_score = calculate_r2(y_test, dt_tpot_pred)\n",
    "#gdb_tpot_score = calculate_r2(y_test, gdb_tpot_pred)"
   ]
  },
  {
   "cell_type": "code",
   "execution_count": 116,
   "metadata": {},
   "outputs": [
    {
     "name": "stdout",
     "output_type": "stream",
     "text": [
      "--RELATÓRIO--\n",
      "KNN:\n",
      "Default score:  0.9296488936282796\n",
      "Tuned score:  0.9310675478439643\n",
      "Tempo:  20.461069345474243\n",
      "--------------------\n",
      "Decision Tree:\n",
      "Default score:  0.9006796856879037\n",
      "Tuned score:  0.9307222163082389\n",
      "Tempo:  15.737758874893188\n",
      "--------------------\n",
      "Gradient Boosting:\n",
      "Default score:  0.9444213797666712\n",
      "Tuned score:  0.9452447912000138\n",
      "Tempo:  766.477231502533\n",
      "--------------------\n"
     ]
    }
   ],
   "source": [
    "print('--RELATÓRIO--')\n",
    "\n",
    "print('KNN:')\n",
    "print('Default score: ',knn_default_score)\n",
    "print('Tuned score: ',knn_tuned_score)\n",
    "print('Tempo: ',knn_f-knn_i)\n",
    "print('--------------------')\n",
    "\n",
    "print('Decision Tree:')\n",
    "print('Default score: ',dt_default_score)\n",
    "print('Tuned score: ',dt_tuned_score)\n",
    "print('Tempo: ',dt_f-dt_i)\n",
    "print('--------------------')\n",
    "\n",
    "print('Gradient Boosting:')\n",
    "print('Default score: ',gdb_default_score)\n",
    "print('Tuned score: ',gdb_tuned_score)\n",
    "print('Tempo: ',gdb_f-gdb_i)\n",
    "print('--------------------')"
   ]
  },
  {
   "cell_type": "code",
   "execution_count": 121,
   "metadata": {},
   "outputs": [
    {
     "data": {
      "image/png": "[encoded data removed]",
      "text/plain": [
       "<Figure size 720x432 with 2 Axes>"
      ]
     },
     "metadata": {
      "needs_background": "light"
     },
     "output_type": "display_data"
    }
   ],
   "source": [
    "#Visualizando resultados\n",
    "\n",
    "#plt.figure(figsize=(10,6))\n",
    "fig, ax1 = plt.subplots(figsize=(10,6))\n",
    "\n",
    "ax1.bar(0, knn_tuned_score, color='green', label='Tuned')\n",
    "ax1.bar(0, knn_default_score, color='red', label='Default')\n",
    "\n",
    "ax1.bar(2, dt_tuned_score, color='green')\n",
    "ax1.bar(2, dt_default_score, color='red')\n",
    "\n",
    "ax1.bar(4, gdb_tuned_score, color='green')\n",
    "ax1.bar(4, gdb_default_score, color='red')\n",
    "\n",
    "ax1.set_ylim(0.83, 1.0)\n",
    "ax1.set_ylabel('Score')\n",
    "ax1.set_xlabel('Modelos')\n",
    "ax1.set_title('Comparação da pontuação entre modelos padrão e evolutionary search')\n",
    "ax1.legend(loc='upper left')\n",
    "\n",
    "ax1.grid()\n",
    "\n",
    "# Plotando tempos\n",
    "ax2 = ax1.twinx()\n",
    "\n",
    "ax2.bar(0.85, math.log(knn_f-knn_i,10), color='blue', label='Time')\n",
    "ax2.bar(2.85, math.log(dt_f-dt_i,10), color='blue')\n",
    "ax2.bar(4.85, math.log(gdb_f-gdb_i,10), color='blue')\n",
    "ax2.set_yscale('log')\n",
    "ax2.set_ylabel('log(Time (s))')\n",
    "ax2.legend(loc='upper right')\n",
    "\n",
    "\n",
    "plt.xticks(np.arange(5),['KNN','','DT','','GDB'])\n",
    "plt.show()"
   ]
  },
  {
   "cell_type": "code",
   "execution_count": null,
   "metadata": {},
   "outputs": [],
   "source": []
  }
 ],
 "metadata": {
  "kernelspec": {
   "display_name": "Python 3",
   "language": "python",
   "name": "python3"
  },
  "language_info": {
   "codemirror_mode": {
    "name": "ipython",
    "version": 3
   },
   "file_extension": ".py",
   "mimetype": "text/x-python",
   "name": "python",
   "nbconvert_exporter": "python",
   "pygments_lexer": "ipython3",
   "version": "3.7.9"
  }
 },
 "nbformat": 4,
 "nbformat_minor": 4
}
