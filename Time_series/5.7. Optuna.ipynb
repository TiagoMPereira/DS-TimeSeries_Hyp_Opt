{
 "cells": [
  {
   "cell_type": "markdown",
   "metadata": {
    "id": "xQn-K213ioMG"
   },
   "source": [
    "# Optuna \n",
    "\n",
    "Optuna é uma ferramenta de seleção de hiperparâmetros"
   ]
  },
  {
   "cell_type": "code",
   "execution_count": 21,
   "metadata": {
    "id": "03iXY4uygKdt"
   },
   "outputs": [],
   "source": [
    "# importando dependências\n",
    "import numpy as np\n",
    "import matplotlib.pyplot as plt\n",
    "import pandas as pd\n",
    "import time \n",
    "from sklearn.model_selection import train_test_split\n",
    "from sklearn.svm import SVR\n",
    "from sklearn.ensemble import RandomForestRegressor\n",
    "import xgboost as xgb\n",
    "import optuna"
   ]
  },
  {
   "cell_type": "code",
   "execution_count": 4,
   "metadata": {
    "id": "iaM3pTzHgod0"
   },
   "outputs": [],
   "source": [
    "#Recolhendo dados do facebook e preparando dataset\n",
    "\n",
    "import pandas_datareader.data as web\n",
    "import datetime as dt\n",
    "\n",
    "end = dt.datetime(2020, 6, 1)\n",
    "start = dt.datetime(2019, 1, 1)\n",
    "\n",
    "df = web.DataReader(\"FB\", 'yahoo', start, end)\n",
    "\n",
    "df = df.reset_index()\n",
    "df = df.drop(columns=['Open','Date','High','Low','Volume','Adj Close'])\n",
    "df = df.rename(columns={'Close': 'Close 0'})\n",
    "\n",
    "def window (df, w):\n",
    "    for i in range(1,w):\n",
    "        df['Close '+str(i)] = df['Close '+str(i-1)].shift(1)\n",
    "    return df\n",
    "        \n",
    "df = window(df,5)\n",
    "df = df.rename(columns={'Close 0': 'Target'})\n",
    "df.dropna(inplace=True)\n",
    "\n",
    "\n",
    "#Separando dados de treino e teste\n",
    "X = df.loc[:, ['Close 1','Close 2','Close 3','Close 4']]\n",
    "y = df.loc[:, 'Target'].tolist()\n",
    "\n",
    "X_train, X_test, y_train, y_test = train_test_split(X, y, test_size=0.2, random_state=10)"
   ]
  },
  {
   "cell_type": "code",
   "execution_count": 25,
   "metadata": {
    "colab": {
     "base_uri": "https://localhost:8080/"
    },
    "id": "06Ku7RxJhBIP",
    "outputId": "2206597e-2174-4142-842b-694a092f08d1"
   },
   "outputs": [
    {
     "name": "stderr",
     "output_type": "stream",
     "text": [
      "\u001b[32m[I 2020-12-29 17:58:11,254]\u001b[0m A new study created in memory with name: no-name-294ef69c-490d-4e76-a0f7-fd2eee5a24a9\u001b[0m\n",
      "\u001b[32m[I 2020-12-29 17:58:11,313]\u001b[0m Trial 0 finished with value: 0.006398784661004564 and parameters: {'regressor': 'SVR', 'C': 0.001889735263578404, 'epsilon': 0.9971573591600303, 'kernel': 'rbf', 'gamma': 'scale'}. Best is trial 0 with value: 0.006398784661004564.\u001b[0m\n",
      "\u001b[32m[I 2020-12-29 17:58:20,895]\u001b[0m Trial 1 finished with value: 0.9452873546566248 and parameters: {'regressor': 'RandomForest', 'n_estimators': 707, 'criterion': 'mae', 'min_samples_split': 2, 'max_features': 'auto', 'oob_score': False, 'max_samples': 0.9339568019426615}. Best is trial 1 with value: 0.9452873546566248.\u001b[0m\n",
      "\u001b[32m[I 2020-12-29 17:58:27,076]\u001b[0m Trial 2 finished with value: 0.9448238265955158 and parameters: {'regressor': 'RandomForest', 'n_estimators': 693, 'criterion': 'mae', 'min_samples_split': 14, 'max_features': 'auto', 'oob_score': True, 'max_samples': 0.46841962166455897}. Best is trial 1 with value: 0.9452873546566248.\u001b[0m\n",
      "\u001b[32m[I 2020-12-29 17:58:27,317]\u001b[0m Trial 3 finished with value: 0.9287275803227342 and parameters: {'regressor': 'XGBoost', 'n_estimator': 182, 'learning_rate': 0.7680822018618526, 'booster': 'gblinear'}. Best is trial 1 with value: 0.9452873546566248.\u001b[0m\n",
      "\u001b[32m[I 2020-12-29 17:58:27,363]\u001b[0m Trial 4 finished with value: -0.0005961928038403563 and parameters: {'regressor': 'SVR', 'C': 9.141083765858305e-08, 'epsilon': 0.1364841737447181, 'kernel': 'rbf', 'gamma': 'scale'}. Best is trial 1 with value: 0.9452873546566248.\u001b[0m\n",
      "\u001b[32m[I 2020-12-29 17:58:27,504]\u001b[0m Trial 5 finished with value: 0.9544941971394397 and parameters: {'regressor': 'XGBoost', 'n_estimator': 456, 'learning_rate': 0.7797959995136315, 'booster': 'gblinear'}. Best is trial 5 with value: 0.9544941971394397.\u001b[0m\n",
      "\u001b[32m[I 2020-12-29 17:58:27,552]\u001b[0m Trial 6 finished with value: 0.00045341036486963305 and parameters: {'regressor': 'SVR', 'C': 0.00028524388948659014, 'epsilon': 0.2913293226817831, 'kernel': 'rbf', 'gamma': 'scale'}. Best is trial 5 with value: 0.9544941971394397.\u001b[0m\n",
      "\u001b[32m[I 2020-12-29 17:58:27,603]\u001b[0m Trial 7 finished with value: 0.001500649071237703 and parameters: {'regressor': 'SVR', 'C': 0.10713743403571578, 'epsilon': 0.15116528328808296, 'kernel': 'rbf', 'gamma': 'auto'}. Best is trial 5 with value: 0.9544941971394397.\u001b[0m\n",
      "\u001b[32m[I 2020-12-29 17:58:27,650]\u001b[0m Trial 8 finished with value: -0.0006003414000616214 and parameters: {'regressor': 'SVR', 'C': 6.751335110378129e-08, 'epsilon': 0.23808957038420916, 'kernel': 'rbf', 'gamma': 'scale'}. Best is trial 5 with value: 0.9544941971394397.\u001b[0m\n",
      "\u001b[32m[I 2020-12-29 17:58:27,692]\u001b[0m Trial 9 finished with value: -0.0004580630511197725 and parameters: {'regressor': 'SVR', 'C': 4.740036555249277e-09, 'epsilon': 0.14804976645989917, 'kernel': 'linear', 'gamma': 'auto'}. Best is trial 5 with value: 0.9544941971394397.\u001b[0m\n",
      "\u001b[32m[I 2020-12-29 17:58:27,850]\u001b[0m Trial 10 finished with value: 0.9541524432454228 and parameters: {'regressor': 'XGBoost', 'n_estimator': 539, 'learning_rate': 0.963391634918243, 'booster': 'gblinear'}. Best is trial 5 with value: 0.9544941971394397.\u001b[0m\n",
      "\u001b[32m[I 2020-12-29 17:58:28,015]\u001b[0m Trial 11 finished with value: 0.9538150740301363 and parameters: {'regressor': 'XGBoost', 'n_estimator': 563, 'learning_rate': 0.9960876666480241, 'booster': 'gblinear'}. Best is trial 5 with value: 0.9544941971394397.\u001b[0m\n",
      "\u001b[32m[I 2020-12-29 17:58:28,167]\u001b[0m Trial 12 finished with value: 0.9546461942827026 and parameters: {'regressor': 'XGBoost', 'n_estimator': 522, 'learning_rate': 0.7876173206858972, 'booster': 'gblinear'}. Best is trial 12 with value: 0.9546461942827026.\u001b[0m\n",
      "\u001b[32m[I 2020-12-29 17:58:28,499]\u001b[0m Trial 13 finished with value: 0.9314670012846132 and parameters: {'regressor': 'XGBoost', 'n_estimator': 430, 'learning_rate': 0.4310245440274739, 'booster': 'gbtree'}. Best is trial 12 with value: 0.9546461942827026.\u001b[0m\n",
      "\u001b[32m[I 2020-12-29 17:58:28,631]\u001b[0m Trial 14 finished with value: 0.9530266523831367 and parameters: {'regressor': 'XGBoost', 'n_estimator': 400, 'learning_rate': 0.7007563638603568, 'booster': 'gblinear'}. Best is trial 12 with value: 0.9546461942827026.\u001b[0m\n",
      "\u001b[32m[I 2020-12-29 17:58:28,795]\u001b[0m Trial 15 finished with value: 0.9281929603851209 and parameters: {'regressor': 'XGBoost', 'n_estimator': 596, 'learning_rate': 0.16153252866015017, 'booster': 'gblinear'}. Best is trial 12 with value: 0.9546461942827026.\u001b[0m\n",
      "\u001b[32m[I 2020-12-29 17:58:28,925]\u001b[0m Trial 16 finished with value: 0.9540681692301607 and parameters: {'regressor': 'XGBoost', 'n_estimator': 421, 'learning_rate': 0.75345757415065, 'booster': 'gblinear'}. Best is trial 12 with value: 0.9546461942827026.\u001b[0m\n",
      "\u001b[32m[I 2020-12-29 17:58:29,154]\u001b[0m Trial 17 finished with value: 0.9320019478008922 and parameters: {'regressor': 'XGBoost', 'n_estimator': 272, 'learning_rate': 0.5116848403832193, 'booster': 'gbtree'}. Best is trial 12 with value: 0.9546461942827026.\u001b[0m\n",
      "\u001b[32m[I 2020-12-29 17:58:29,823]\u001b[0m Trial 18 finished with value: 0.932125787856547 and parameters: {'regressor': 'RandomForest', 'n_estimators': 89, 'criterion': 'mse', 'min_samples_split': 2, 'max_features': 'sqrt', 'oob_score': True, 'max_samples': 0.11716968214273704}. Best is trial 12 with value: 0.9546461942827026.\u001b[0m\n",
      "\u001b[32m[I 2020-12-29 17:58:29,881]\u001b[0m Trial 19 finished with value: 0.5539729521678666 and parameters: {'regressor': 'XGBoost', 'n_estimator': 31, 'learning_rate': 0.8735540186108505, 'booster': 'gblinear'}. Best is trial 12 with value: 0.9546461942827026.\u001b[0m\n",
      "\u001b[32m[I 2020-12-29 17:58:30,028]\u001b[0m Trial 20 finished with value: 0.9524601973700045 and parameters: {'regressor': 'XGBoost', 'n_estimator': 506, 'learning_rate': 0.6152112308611529, 'booster': 'gblinear'}. Best is trial 12 with value: 0.9546461942827026.\u001b[0m\n",
      "\u001b[32m[I 2020-12-29 17:58:30,180]\u001b[0m Trial 21 finished with value: 0.9538240641203796 and parameters: {'regressor': 'XGBoost', 'n_estimator': 518, 'learning_rate': 0.9963379939478207, 'booster': 'gblinear'}. Best is trial 12 with value: 0.9546461942827026.\u001b[0m\n",
      "\u001b[32m[I 2020-12-29 17:58:30,328]\u001b[0m Trial 22 finished with value: 0.9546596658337805 and parameters: {'regressor': 'XGBoost', 'n_estimator': 485, 'learning_rate': 0.8901534526342156, 'booster': 'gblinear'}. Best is trial 22 with value: 0.9546596658337805.\u001b[0m\n",
      "\u001b[32m[I 2020-12-29 17:58:30,466]\u001b[0m Trial 23 finished with value: 0.9547253846974091 and parameters: {'regressor': 'XGBoost', 'n_estimator': 458, 'learning_rate': 0.844759734585079, 'booster': 'gblinear'}. Best is trial 23 with value: 0.9547253846974091.\u001b[0m\n",
      "\u001b[32m[I 2020-12-29 17:58:30,596]\u001b[0m Trial 24 finished with value: 0.9540837244528898 and parameters: {'regressor': 'XGBoost', 'n_estimator': 344, 'learning_rate': 0.9158942839777213, 'booster': 'gblinear'}. Best is trial 23 with value: 0.9547253846974091.\u001b[0m\n",
      "\u001b[32m[I 2020-12-29 17:58:30,762]\u001b[0m Trial 25 finished with value: 0.9546555539268672 and parameters: {'regressor': 'XGBoost', 'n_estimator': 598, 'learning_rate': 0.8703118334690889, 'booster': 'gblinear'}. Best is trial 23 with value: 0.9547253846974091.\u001b[0m\n",
      "\u001b[32m[I 2020-12-29 17:58:30,992]\u001b[0m Trial 26 finished with value: 0.9306424871748794 and parameters: {'regressor': 'XGBoost', 'n_estimator': 334, 'learning_rate': 0.8419242352023258, 'booster': 'gbtree'}. Best is trial 23 with value: 0.9547253846974091.\u001b[0m\n",
      "\u001b[32m[I 2020-12-29 17:58:31,222]\u001b[0m Trial 27 finished with value: 0.9465865613995061 and parameters: {'regressor': 'RandomForest', 'n_estimators': 33, 'criterion': 'mse', 'min_samples_split': 10, 'max_features': 'log2', 'oob_score': False, 'max_samples': 0.989401584156202}. Best is trial 23 with value: 0.9547253846974091.\u001b[0m\n",
      "\u001b[32m[I 2020-12-29 17:58:31,369]\u001b[0m Trial 28 finished with value: 0.9530215179998033 and parameters: {'regressor': 'XGBoost', 'n_estimator': 489, 'learning_rate': 0.6490997217402049, 'booster': 'gblinear'}. Best is trial 23 with value: 0.9547253846974091.\u001b[0m\n",
      "\u001b[32m[I 2020-12-29 17:58:31,538]\u001b[0m Trial 29 finished with value: 0.9546262605796312 and parameters: {'regressor': 'XGBoost', 'n_estimator': 574, 'learning_rate': 0.8851467918257401, 'booster': 'gblinear'}. Best is trial 23 with value: 0.9547253846974091.\u001b[0m\n",
      "\u001b[32m[I 2020-12-29 17:58:31,640]\u001b[0m Trial 30 finished with value: 0.9185691721006535 and parameters: {'regressor': 'XGBoost', 'n_estimator': 255, 'learning_rate': 0.2933675762605267, 'booster': 'gblinear'}. Best is trial 23 with value: 0.9547253846974091.\u001b[0m\n",
      "\u001b[32m[I 2020-12-29 17:58:31,813]\u001b[0m Trial 31 finished with value: 0.9547119339207436 and parameters: {'regressor': 'XGBoost', 'n_estimator': 588, 'learning_rate': 0.8192320562298019, 'booster': 'gblinear'}. Best is trial 23 with value: 0.9547253846974091.\u001b[0m\n",
      "\u001b[32m[I 2020-12-29 17:58:31,979]\u001b[0m Trial 32 finished with value: 0.9543894399055242 and parameters: {'regressor': 'XGBoost', 'n_estimator': 577, 'learning_rate': 0.9302538312335825, 'booster': 'gblinear'}. Best is trial 23 with value: 0.9547253846974091.\u001b[0m\n",
      "\u001b[32m[I 2020-12-29 17:58:32,122]\u001b[0m Trial 33 finished with value: 0.9547383724453514 and parameters: {'regressor': 'XGBoost', 'n_estimator': 471, 'learning_rate': 0.8445679172847781, 'booster': 'gblinear'}. Best is trial 33 with value: 0.9547383724453514.\u001b[0m\n",
      "\u001b[32m[I 2020-12-29 17:58:34,059]\u001b[0m Trial 34 finished with value: 0.9126473640813092 and parameters: {'regressor': 'RandomForest', 'n_estimators': 367, 'criterion': 'mse', 'min_samples_split': 7, 'max_features': 'log2', 'oob_score': False, 'max_samples': 0.10147971770454095}. Best is trial 33 with value: 0.9547383724453514.\u001b[0m\n",
      "\u001b[32m[I 2020-12-29 17:58:34,188]\u001b[0m Trial 35 finished with value: 0.9542579723358934 and parameters: {'regressor': 'XGBoost', 'n_estimator': 376, 'learning_rate': 0.826005120179027, 'booster': 'gblinear'}. Best is trial 33 with value: 0.9547383724453514.\u001b[0m\n",
      "\u001b[32m[I 2020-12-29 17:58:34,335]\u001b[0m Trial 36 finished with value: 0.9536368450615569 and parameters: {'regressor': 'XGBoost', 'n_estimator': 460, 'learning_rate': 0.6976719550488636, 'booster': 'gblinear'}. Best is trial 33 with value: 0.9547383724453514.\u001b[0m\n",
      "\u001b[32m[I 2020-12-29 17:58:34,487]\u001b[0m Trial 37 finished with value: 0.9537982449840705 and parameters: {'regressor': 'XGBoost', 'n_estimator': 476, 'learning_rate': 0.9995915632516772, 'booster': 'gblinear'}. Best is trial 33 with value: 0.9547383724453514.\u001b[0m\n",
      "\u001b[32m[I 2020-12-29 17:58:37,808]\u001b[0m Trial 38 finished with value: 0.9407494426372682 and parameters: {'regressor': 'RandomForest', 'n_estimators': 385, 'criterion': 'mae', 'min_samples_split': 15, 'max_features': 'sqrt', 'oob_score': True, 'max_samples': 0.6206591372103935}. Best is trial 33 with value: 0.9547383724453514.\u001b[0m\n",
      "\u001b[32m[I 2020-12-29 17:58:38,091]\u001b[0m Trial 39 finished with value: 0.9317820818703328 and parameters: {'regressor': 'XGBoost', 'n_estimator': 380, 'learning_rate': 0.5715861716026736, 'booster': 'gbtree'}. Best is trial 33 with value: 0.9547383724453514.\u001b[0m\n",
      "\u001b[32m[I 2020-12-29 17:58:40,911]\u001b[0m Trial 40 finished with value: 0.9530281751786618 and parameters: {'regressor': 'SVR', 'C': 5.691824649455732, 'epsilon': 0.9140971618066437, 'kernel': 'linear', 'gamma': 'auto'}. Best is trial 33 with value: 0.9547383724453514.\u001b[0m\n",
      "\u001b[32m[I 2020-12-29 17:58:41,077]\u001b[0m Trial 41 finished with value: 0.9547087229842435 and parameters: {'regressor': 'XGBoost', 'n_estimator': 593, 'learning_rate': 0.8425981443223008, 'booster': 'gblinear'}. Best is trial 33 with value: 0.9547383724453514.\u001b[0m\n",
      "\u001b[32m[I 2020-12-29 17:58:41,233]\u001b[0m Trial 42 finished with value: 0.9547362366701279 and parameters: {'regressor': 'XGBoost', 'n_estimator': 544, 'learning_rate': 0.8246314799054537, 'booster': 'gblinear'}. Best is trial 33 with value: 0.9547383724453514.\u001b[0m\n",
      "\u001b[32m[I 2020-12-29 17:58:41,389]\u001b[0m Trial 43 finished with value: 0.9542364797932897 and parameters: {'regressor': 'XGBoost', 'n_estimator': 548, 'learning_rate': 0.7220631937235832, 'booster': 'gblinear'}. Best is trial 33 with value: 0.9547383724453514.\u001b[0m\n",
      "\u001b[32m[I 2020-12-29 17:58:41,546]\u001b[0m Trial 44 finished with value: 0.9547160899675025 and parameters: {'regressor': 'XGBoost', 'n_estimator': 550, 'learning_rate': 0.8105397168907855, 'booster': 'gblinear'}. Best is trial 33 with value: 0.9547383724453514.\u001b[0m\n",
      "\u001b[32m[I 2020-12-29 17:58:41,705]\u001b[0m Trial 45 finished with value: 0.9546823597993788 and parameters: {'regressor': 'XGBoost', 'n_estimator': 537, 'learning_rate': 0.7964452015849265, 'booster': 'gblinear'}. Best is trial 33 with value: 0.9547383724453514.\u001b[0m\n",
      "\u001b[32m[I 2020-12-29 17:58:41,750]\u001b[0m Trial 46 finished with value: -0.0003404258250292447 and parameters: {'regressor': 'SVR', 'C': 1.0064151138678119e-10, 'epsilon': 0.5809758456326521, 'kernel': 'linear', 'gamma': 'auto'}. Best is trial 33 with value: 0.9547383724453514.\u001b[0m\n",
      "\u001b[32m[I 2020-12-29 17:58:41,895]\u001b[0m Trial 47 finished with value: 0.954217383259633 and parameters: {'regressor': 'XGBoost', 'n_estimator': 444, 'learning_rate': 0.7525932194698027, 'booster': 'gblinear'}. Best is trial 33 with value: 0.9547383724453514.\u001b[0m\n",
      "\u001b[32m[I 2020-12-29 17:58:42,051]\u001b[0m Trial 48 finished with value: 0.9542715164719009 and parameters: {'regressor': 'XGBoost', 'n_estimator': 549, 'learning_rate': 0.9487692873526654, 'booster': 'gblinear'}. Best is trial 33 with value: 0.9547383724453514.\u001b[0m\n",
      "\u001b[32m[I 2020-12-29 17:58:42,128]\u001b[0m Trial 49 finished with value: 0.9093309662237754 and parameters: {'regressor': 'XGBoost', 'n_estimator': 147, 'learning_rate': 0.8023360308534284, 'booster': 'gblinear'}. Best is trial 33 with value: 0.9547383724453514.\u001b[0m\n",
      "\u001b[32m[I 2020-12-29 17:58:42,278]\u001b[0m Trial 50 finished with value: 0.9544269681324217 and parameters: {'regressor': 'XGBoost', 'n_estimator': 505, 'learning_rate': 0.7528569283199287, 'booster': 'gblinear'}. Best is trial 33 with value: 0.9547383724453514.\u001b[0m\n",
      "\u001b[32m[I 2020-12-29 17:58:42,444]\u001b[0m Trial 51 finished with value: 0.9547133000336381 and parameters: {'regressor': 'XGBoost', 'n_estimator': 591, 'learning_rate': 0.8376990578906397, 'booster': 'gblinear'}. Best is trial 33 with value: 0.9547383724453514.\u001b[0m\n",
      "\u001b[32m[I 2020-12-29 17:58:42,600]\u001b[0m Trial 52 finished with value: 0.9546872783296914 and parameters: {'regressor': 'XGBoost', 'n_estimator': 560, 'learning_rate': 0.7985430797801305, 'booster': 'gblinear'}. Best is trial 33 with value: 0.9547383724453514.\u001b[0m\n",
      "\u001b[32m[I 2020-12-29 17:58:42,778]\u001b[0m Trial 53 finished with value: 0.9541908943713431 and parameters: {'regressor': 'XGBoost', 'n_estimator': 599, 'learning_rate': 0.9552545891397402, 'booster': 'gblinear'}. Best is trial 33 with value: 0.9547383724453514.\u001b[0m\n",
      "\u001b[32m[I 2020-12-29 17:58:42,931]\u001b[0m Trial 54 finished with value: 0.9534488011437589 and parameters: {'regressor': 'XGBoost', 'n_estimator': 524, 'learning_rate': 0.6629521151091232, 'booster': 'gblinear'}. Best is trial 33 with value: 0.9547383724453514.\u001b[0m\n",
      "\u001b[32m[I 2020-12-29 17:58:43,092]\u001b[0m Trial 55 finished with value: 0.95473341340898 and parameters: {'regressor': 'XGBoost', 'n_estimator': 559, 'learning_rate': 0.8325325093307243, 'booster': 'gblinear'}. Best is trial 33 with value: 0.9547383724453514.\u001b[0m\n",
      "\u001b[32m[I 2020-12-29 17:58:43,238]\u001b[0m Trial 56 finished with value: 0.954589079271423 and parameters: {'regressor': 'XGBoost', 'n_estimator': 465, 'learning_rate': 0.907076389872789, 'booster': 'gblinear'}. Best is trial 33 with value: 0.9547383724453514.\u001b[0m\n",
      "\u001b[32m[I 2020-12-29 17:58:46,313]\u001b[0m Trial 57 finished with value: 0.9536380256598587 and parameters: {'regressor': 'SVR', 'C': 5.019656267733459, 'epsilon': 0.5267455213342659, 'kernel': 'linear', 'gamma': 'scale'}. Best is trial 33 with value: 0.9547383724453514.\u001b[0m\n",
      "\u001b[32m[I 2020-12-29 17:58:46,468]\u001b[0m Trial 58 finished with value: 0.9547277593863359 and parameters: {'regressor': 'XGBoost', 'n_estimator': 538, 'learning_rate': 0.855846022407706, 'booster': 'gblinear'}. Best is trial 33 with value: 0.9547383724453514.\u001b[0m\n",
      "\u001b[32m[I 2020-12-29 17:58:46,734]\u001b[0m Trial 59 finished with value: 0.9264208161598628 and parameters: {'regressor': 'XGBoost', 'n_estimator': 420, 'learning_rate': 0.7279923290276042, 'booster': 'gbtree'}. Best is trial 33 with value: 0.9547383724453514.\u001b[0m\n",
      "\u001b[32m[I 2020-12-29 17:58:46,888]\u001b[0m Trial 60 finished with value: 0.95451703713732 and parameters: {'regressor': 'XGBoost', 'n_estimator': 499, 'learning_rate': 0.7672995452665736, 'booster': 'gblinear'}. Best is trial 33 with value: 0.9547383724453514.\u001b[0m\n",
      "\u001b[32m[I 2020-12-29 17:58:47,043]\u001b[0m Trial 61 finished with value: 0.9547301878874791 and parameters: {'regressor': 'XGBoost', 'n_estimator': 532, 'learning_rate': 0.8562667747329953, 'booster': 'gblinear'}. Best is trial 33 with value: 0.9547383724453514.\u001b[0m\n",
      "\u001b[32m[I 2020-12-29 17:58:47,197]\u001b[0m Trial 62 finished with value: 0.9547299651048338 and parameters: {'regressor': 'XGBoost', 'n_estimator': 530, 'learning_rate': 0.8570392611431368, 'booster': 'gblinear'}. Best is trial 33 with value: 0.9547383724453514.\u001b[0m\n",
      "\u001b[32m[I 2020-12-29 17:58:47,348]\u001b[0m Trial 63 finished with value: 0.9546875875049986 and parameters: {'regressor': 'XGBoost', 'n_estimator': 526, 'learning_rate': 0.8767359129467279, 'booster': 'gblinear'}. Best is trial 33 with value: 0.9547383724453514.\u001b[0m\n",
      "\u001b[32m[I 2020-12-29 17:58:47,502]\u001b[0m Trial 64 finished with value: 0.9542462779584989 and parameters: {'regressor': 'XGBoost', 'n_estimator': 513, 'learning_rate': 0.9543916622093995, 'booster': 'gblinear'}. Best is trial 33 with value: 0.9547383724453514.\u001b[0m\n",
      "\u001b[32m[I 2020-12-29 17:58:47,651]\u001b[0m Trial 65 finished with value: 0.9547086149989731 and parameters: {'regressor': 'XGBoost', 'n_estimator': 445, 'learning_rate': 0.8553846126276277, 'booster': 'gblinear'}. Best is trial 33 with value: 0.9547383724453514.\u001b[0m\n",
      "\u001b[32m[I 2020-12-29 17:58:49,302]\u001b[0m Trial 66 finished with value: 0.9441332401683015 and parameters: {'regressor': 'RandomForest', 'n_estimators': 235, 'criterion': 'mse', 'min_samples_split': 7, 'max_features': 'sqrt', 'oob_score': True, 'max_samples': 0.4268330905086148}. Best is trial 33 with value: 0.9547383724453514.\u001b[0m\n",
      "\u001b[32m[I 2020-12-29 17:58:49,455]\u001b[0m Trial 67 finished with value: 0.9545622321959545 and parameters: {'regressor': 'XGBoost', 'n_estimator': 529, 'learning_rate': 0.9069247772186094, 'booster': 'gblinear'}. Best is trial 33 with value: 0.9547383724453514.\u001b[0m\n",
      "\u001b[32m[I 2020-12-29 17:58:49,602]\u001b[0m Trial 68 finished with value: 0.9545317142408924 and parameters: {'regressor': 'XGBoost', 'n_estimator': 488, 'learning_rate': 0.7727146481749148, 'booster': 'gblinear'}. Best is trial 33 with value: 0.9547383724453514.\u001b[0m\n",
      "\u001b[32m[I 2020-12-29 17:58:49,770]\u001b[0m Trial 69 finished with value: 0.9540130256076825 and parameters: {'regressor': 'XGBoost', 'n_estimator': 553, 'learning_rate': 0.9774161486631443, 'booster': 'gblinear'}. Best is trial 33 with value: 0.9547383724453514.\u001b[0m\n",
      "\u001b[32m[I 2020-12-29 17:58:49,909]\u001b[0m Trial 70 finished with value: 0.9546408575466504 and parameters: {'regressor': 'XGBoost', 'n_estimator': 417, 'learning_rate': 0.8665995600930154, 'booster': 'gblinear'}. Best is trial 33 with value: 0.9547383724453514.\u001b[0m\n",
      "\u001b[32m[I 2020-12-29 17:58:50,069]\u001b[0m Trial 71 finished with value: 0.9547237376061725 and parameters: {'regressor': 'XGBoost', 'n_estimator': 571, 'learning_rate': 0.8229966646639952, 'booster': 'gblinear'}. Best is trial 33 with value: 0.9547383724453514.\u001b[0m\n",
      "\u001b[32m[I 2020-12-29 17:58:50,244]\u001b[0m Trial 72 finished with value: 0.9543986850083306 and parameters: {'regressor': 'XGBoost', 'n_estimator': 561, 'learning_rate': 0.930497101987931, 'booster': 'gblinear'}. Best is trial 33 with value: 0.9547383724453514.\u001b[0m\n",
      "\u001b[32m[I 2020-12-29 17:58:50,419]\u001b[0m Trial 73 finished with value: 0.954599091084051 and parameters: {'regressor': 'XGBoost', 'n_estimator': 569, 'learning_rate': 0.8929518236042256, 'booster': 'gblinear'}. Best is trial 33 with value: 0.9547383724453514.\u001b[0m\n",
      "\u001b[32m[I 2020-12-29 17:58:50,564]\u001b[0m Trial 74 finished with value: 0.9547468387413733 and parameters: {'regressor': 'XGBoost', 'n_estimator': 496, 'learning_rate': 0.8493631467290692, 'booster': 'gblinear'}. Best is trial 74 with value: 0.9547468387413733.\u001b[0m\n",
      "\u001b[32m[I 2020-12-29 17:58:50,706]\u001b[0m Trial 75 finished with value: 0.9443433753232711 and parameters: {'regressor': 'XGBoost', 'n_estimator': 476, 'learning_rate': 0.4104379195430358, 'booster': 'gblinear'}. Best is trial 74 with value: 0.9547468387413733.\u001b[0m\n",
      "\u001b[32m[I 2020-12-29 17:58:50,865]\u001b[0m Trial 76 finished with value: 0.9547371317704707 and parameters: {'regressor': 'XGBoost', 'n_estimator': 508, 'learning_rate': 0.857763900369297, 'booster': 'gblinear'}. Best is trial 74 with value: 0.9547468387413733.\u001b[0m\n",
      "\u001b[32m[I 2020-12-29 17:58:51,017]\u001b[0m Trial 77 finished with value: 0.9547096081655866 and parameters: {'regressor': 'XGBoost', 'n_estimator': 507, 'learning_rate': 0.8720078368736975, 'booster': 'gblinear'}. Best is trial 74 with value: 0.9547468387413733.\u001b[0m\n",
      "\u001b[32m[I 2020-12-29 17:58:51,304]\u001b[0m Trial 78 finished with value: 0.9258799949416859 and parameters: {'regressor': 'XGBoost', 'n_estimator': 532, 'learning_rate': 0.9204524524513752, 'booster': 'gbtree'}. Best is trial 74 with value: 0.9547468387413733.\u001b[0m\n",
      "\u001b[32m[I 2020-12-29 17:58:51,449]\u001b[0m Trial 79 finished with value: 0.9545917799971967 and parameters: {'regressor': 'XGBoost', 'n_estimator': 491, 'learning_rate': 0.7823489901327967, 'booster': 'gblinear'}. Best is trial 74 with value: 0.9547468387413733.\u001b[0m\n",
      "\u001b[32m[I 2020-12-29 17:58:56,989]\u001b[0m Trial 80 finished with value: 0.9470974044463487 and parameters: {'regressor': 'RandomForest', 'n_estimators': 570, 'criterion': 'mae', 'min_samples_split': 11, 'max_features': 'auto', 'oob_score': False, 'max_samples': 0.7492389727065997}. Best is trial 74 with value: 0.9547468387413733.\u001b[0m\n",
      "\u001b[32m[I 2020-12-29 17:58:57,133]\u001b[0m Trial 81 finished with value: 0.9547298351761844 and parameters: {'regressor': 'XGBoost', 'n_estimator': 461, 'learning_rate': 0.8476881092966023, 'booster': 'gblinear'}. Best is trial 74 with value: 0.9547468387413733.\u001b[0m\n",
      "\u001b[32m[I 2020-12-29 17:58:57,283]\u001b[0m Trial 82 finished with value: 0.9547474256808105 and parameters: {'regressor': 'XGBoost', 'n_estimator': 519, 'learning_rate': 0.8429883459277384, 'booster': 'gblinear'}. Best is trial 82 with value: 0.9547474256808105.\u001b[0m\n",
      "\u001b[32m[I 2020-12-29 17:58:57,426]\u001b[0m Trial 83 finished with value: 0.9546947227614886 and parameters: {'regressor': 'XGBoost', 'n_estimator': 473, 'learning_rate': 0.8143537932921258, 'booster': 'gblinear'}. Best is trial 82 with value: 0.9547474256808105.\u001b[0m\n",
      "\u001b[32m[I 2020-12-29 17:58:57,562]\u001b[0m Trial 84 finished with value: 0.954640049703767 and parameters: {'regressor': 'XGBoost', 'n_estimator': 446, 'learning_rate': 0.8934643772601701, 'booster': 'gblinear'}. Best is trial 82 with value: 0.9547474256808105.\u001b[0m\n",
      "\u001b[32m[I 2020-12-29 17:58:57,710]\u001b[0m Trial 85 finished with value: 0.9547492352194211 and parameters: {'regressor': 'XGBoost', 'n_estimator': 512, 'learning_rate': 0.8400722189660697, 'booster': 'gblinear'}. Best is trial 85 with value: 0.9547492352194211.\u001b[0m\n",
      "\u001b[32m[I 2020-12-29 17:58:57,859]\u001b[0m Trial 86 finished with value: 0.9542479931256345 and parameters: {'regressor': 'XGBoost', 'n_estimator': 510, 'learning_rate': 0.7305418206279325, 'booster': 'gblinear'}. Best is trial 85 with value: 0.9547492352194211.\u001b[0m\n",
      "\u001b[32m[I 2020-12-29 17:58:58,022]\u001b[0m Trial 87 finished with value: 0.9547446662086765 and parameters: {'regressor': 'XGBoost', 'n_estimator': 519, 'learning_rate': 0.8288555439242435, 'booster': 'gblinear'}. Best is trial 85 with value: 0.9547492352194211.\u001b[0m\n",
      "\u001b[32m[I 2020-12-29 17:58:58,067]\u001b[0m Trial 88 finished with value: 0.11512764147792318 and parameters: {'regressor': 'SVR', 'C': 4.504128865289809e-06, 'epsilon': 0.47116550592002804, 'kernel': 'linear', 'gamma': 'auto'}. Best is trial 85 with value: 0.9547492352194211.\u001b[0m\n",
      "\u001b[32m[I 2020-12-29 17:58:58,214]\u001b[0m Trial 89 finished with value: 0.9536944735266865 and parameters: {'regressor': 'XGBoost', 'n_estimator': 492, 'learning_rate': 0.6888705553060376, 'booster': 'gblinear'}. Best is trial 85 with value: 0.9547492352194211.\u001b[0m\n",
      "\u001b[32m[I 2020-12-29 17:58:58,372]\u001b[0m Trial 90 finished with value: 0.9546106579803352 and parameters: {'regressor': 'XGBoost', 'n_estimator': 516, 'learning_rate': 0.7804970705553458, 'booster': 'gblinear'}. Best is trial 85 with value: 0.9547492352194211.\u001b[0m\n",
      "\u001b[32m[I 2020-12-29 17:58:58,526]\u001b[0m Trial 91 finished with value: 0.9547396695435388 and parameters: {'regressor': 'XGBoost', 'n_estimator': 542, 'learning_rate': 0.828926633389359, 'booster': 'gblinear'}. Best is trial 85 with value: 0.9547492352194211.\u001b[0m\n",
      "\u001b[32m[I 2020-12-29 17:58:58,687]\u001b[0m Trial 92 finished with value: 0.9547215550306166 and parameters: {'regressor': 'XGBoost', 'n_estimator': 575, 'learning_rate': 0.8227861249736808, 'booster': 'gblinear'}. Best is trial 85 with value: 0.9547492352194211.\u001b[0m\n",
      "\u001b[32m[I 2020-12-29 17:58:58,846]\u001b[0m Trial 93 finished with value: 0.9546887947485775 and parameters: {'regressor': 'XGBoost', 'n_estimator': 547, 'learning_rate': 0.7985254524594597, 'booster': 'gblinear'}. Best is trial 85 with value: 0.9547492352194211.\u001b[0m\n",
      "\u001b[32m[I 2020-12-29 17:58:59,019]\u001b[0m Trial 94 finished with value: 0.9546703984046154 and parameters: {'regressor': 'XGBoost', 'n_estimator': 516, 'learning_rate': 0.8837925155206221, 'booster': 'gblinear'}. Best is trial 85 with value: 0.9547492352194211.\u001b[0m\n",
      "\u001b[32m[I 2020-12-29 17:58:59,174]\u001b[0m Trial 95 finished with value: 0.954745162197117 and parameters: {'regressor': 'XGBoost', 'n_estimator': 499, 'learning_rate': 0.8314220922674078, 'booster': 'gblinear'}. Best is trial 85 with value: 0.9547492352194211.\u001b[0m\n",
      "\u001b[32m[I 2020-12-29 17:58:59,324]\u001b[0m Trial 96 finished with value: 0.9543440366120448 and parameters: {'regressor': 'XGBoost', 'n_estimator': 480, 'learning_rate': 0.7499287636029389, 'booster': 'gblinear'}. Best is trial 85 with value: 0.9547492352194211.\u001b[0m\n",
      "\u001b[32m[I 2020-12-29 17:58:59,475]\u001b[0m Trial 97 finished with value: 0.9547453729699719 and parameters: {'regressor': 'XGBoost', 'n_estimator': 496, 'learning_rate': 0.8327525736954754, 'booster': 'gblinear'}. Best is trial 85 with value: 0.9547492352194211.\u001b[0m\n",
      "\u001b[32m[I 2020-12-29 17:58:59,621]\u001b[0m Trial 98 finished with value: 0.921794464172501 and parameters: {'regressor': 'XGBoost', 'n_estimator': 497, 'learning_rate': 0.13739774268220956, 'booster': 'gblinear'}. Best is trial 85 with value: 0.9547492352194211.\u001b[0m\n",
      "\u001b[32m[I 2020-12-29 17:58:59,756]\u001b[0m Trial 99 finished with value: 0.9544157525978875 and parameters: {'regressor': 'XGBoost', 'n_estimator': 437, 'learning_rate': 0.935506655602822, 'booster': 'gblinear'}. Best is trial 85 with value: 0.9547492352194211.\u001b[0m\n"
     ]
    },
    {
     "name": "stdout",
     "output_type": "stream",
     "text": [
      "FrozenTrial(number=85, value=0.9547492352194211, datetime_start=datetime.datetime(2020, 12, 29, 17, 58, 57, 563915), datetime_complete=datetime.datetime(2020, 12, 29, 17, 58, 57, 710214), params={'regressor': 'XGBoost', 'n_estimator': 512, 'learning_rate': 0.8400722189660697, 'booster': 'gblinear'}, distributions={'regressor': CategoricalDistribution(choices=('SVR', 'RandomForest', 'XGBoost')), 'n_estimator': IntUniformDistribution(high=600, low=25, step=1), 'learning_rate': UniformDistribution(high=1.0, low=0.1), 'booster': CategoricalDistribution(choices=('gbtree', 'gblinear'))}, user_attrs={}, system_attrs={}, intermediate_values={}, trial_id=85, state=TrialState.COMPLETE)\n"
     ]
    }
   ],
   "source": [
    "import optuna\n",
    "\n",
    "def get_hyp(name, trial):\n",
    "  if name==\"SVR\":\n",
    "    hyp = {\"C\": trial.suggest_float(\"C\", 1e-10, 1e1, log=True),\n",
    "           \"epsilon\": trial.suggest_float(\"epsilon\", 0.1, 1.0, log=True),\n",
    "           \"kernel\": trial.suggest_categorical(\"kernel\",[\"linear\",\"rbf\"]),\n",
    "           \"gamma\": trial.suggest_categorical(\"gamma\",[\"scale\",\"auto\"])\n",
    "           }\n",
    "  elif name == \"RandomForest\":\n",
    "    hyp = {'n_estimators':trial.suggest_int(\"n_estimators\", 30,750),\n",
    "           'criterion':trial.suggest_categorical(\"criterion\",['mse','mae']), \n",
    "            'min_samples_split':trial.suggest_int(\"min_samples_split\", 2,15),\n",
    "            'max_features':trial.suggest_categorical(\"max_features\",['auto','sqrt','log2']), \n",
    "            'oob_score':trial.suggest_categorical(\"oob_score\",[True,False]), \n",
    "            'max_samples':trial.suggest_float(\"max_samples\", 0.1, 0.99)}\n",
    "  elif name == \"XGBoost\":\n",
    "    hyp = {\n",
    "          'n_estimators': trial.suggest_int(\"n_estimator\",25,600),\n",
    "          'learning_rate': trial.suggest_float(\"learning_rate\",0.1,1.0),\n",
    "          'booster':trial.suggest_categorical(\"booster\",['gbtree','gblinear'])\n",
    "           }\n",
    "            \n",
    "  return hyp\n",
    "\n",
    "def objective(trial):\n",
    "\n",
    "    regressor_name = trial.suggest_categorical(\"regressor\", [\"SVR\",\"RandomForest\",\"XGBoost\"])\n",
    "\n",
    "    if regressor_name == \"SVR\":\n",
    "        svr_hp = get_hyp(\"SVR\", trial)\n",
    "        model = SVR(C=svr_hp['C'], gamma=svr_hp['gamma'], epsilon=svr_hp['epsilon'], kernel=svr_hp['kernel'])\n",
    "    elif regressor_name == \"RandomForest\":\n",
    "        rf_hp = get_hyp(\"RandomForest\", trial)\n",
    "        model = RandomForestRegressor(\n",
    "            n_estimators = rf_hp['n_estimators'],criterion = rf_hp['criterion'],\n",
    "            min_samples_split = rf_hp['min_samples_split'],max_features = rf_hp['max_features'],\n",
    "            oob_score = rf_hp['oob_score'],max_samples = rf_hp['max_samples']\n",
    "        )\n",
    "    else:\n",
    "      xgb_hp = get_hyp(\"XGBoost\",trial)\n",
    "      model = xgb.XGBRegressor(\n",
    "          n_estimators = xgb_hp['n_estimators'], learning_rate = xgb_hp['learning_rate'], booster = xgb_hp['booster']\n",
    "      )\n",
    "\n",
    "    score = sklearn.model_selection.cross_val_score(model, X_train, y_train, n_jobs=-1, cv=5)\n",
    "    accuracy = score.mean()\n",
    "    return accuracy\n",
    "\n",
    "\n",
    "if __name__ == \"__main__\":\n",
    "    study = optuna.create_study(direction=\"maximize\")\n",
    "    study.optimize(objective, n_trials=100)\n",
    "    print(study.best_trial)\n",
    "    "
   ]
  },
  {
   "cell_type": "code",
   "execution_count": 28,
   "metadata": {
    "id": "1a6jsBzOqWJX"
   },
   "outputs": [],
   "source": [
    "#modelos padrão\n",
    "svm_default = SVR()\n",
    "rf_default = RandomForestRegressor()\n",
    "xgb_default = xgb.XGBRegressor()\n",
    "\n",
    "#modelo selecionado\n",
    "model = xgb.XGBRegressor(n_estimators=512, learning_rate='0.84', booster='gblinear')"
   ]
  },
  {
   "cell_type": "code",
   "execution_count": 29,
   "metadata": {
    "colab": {
     "base_uri": "https://localhost:8080/"
    },
    "id": "VH3D8AtthBt8",
    "outputId": "f481ab74-876c-49e1-ba37-e8e4233e037e"
   },
   "outputs": [
    {
     "name": "stdout",
     "output_type": "stream",
     "text": [
      "[18:02:56] WARNING: /workspace/src/objective/regression_obj.cu:152: reg:linear is now deprecated in favor of reg:squarederror.\n",
      "[18:02:56] WARNING: /workspace/src/objective/regression_obj.cu:152: reg:linear is now deprecated in favor of reg:squarederror.\n"
     ]
    },
    {
     "data": {
      "text/plain": [
       "XGBRegressor(base_score=0.5, booster='gblinear', colsample_bylevel=1,\n",
       "             colsample_bynode=1, colsample_bytree=1, gamma=0,\n",
       "             importance_type='gain', learning_rate='0.84', max_delta_step=0,\n",
       "             max_depth=3, min_child_weight=1, missing=None, n_estimators=512,\n",
       "             n_jobs=1, nthread=None, objective='reg:linear', random_state=0,\n",
       "             reg_alpha=0, reg_lambda=1, scale_pos_weight=1, seed=None,\n",
       "             silent=None, subsample=1, verbosity=1)"
      ]
     },
     "execution_count": 29,
     "metadata": {
      "tags": []
     },
     "output_type": "execute_result"
    }
   ],
   "source": [
    "#Modelos padrão\n",
    "svm_default.fit(X_train,y_train)\n",
    "rf_default.fit(X_train,y_train)\n",
    "xgb_default.fit(X_train,y_train)\n",
    "\n",
    "#modelo selecionado\n",
    "model.fit(X_train, y_train)"
   ]
  },
  {
   "cell_type": "code",
   "execution_count": 30,
   "metadata": {
    "id": "V__mGVrvqbS9"
   },
   "outputs": [],
   "source": [
    "#Recolhendo pontuações\n",
    "\n",
    "#Modelos padrão\n",
    "svm_default_score = svm_default.score(X_test,y_test)\n",
    "rf_default_score = rf_default.score(X_test,y_test)\n",
    "xgb_default_score = xgb_default.score(X_test,y_test)\n",
    "\n",
    "#Modelo selecionado\n",
    "model_score = model.score(X_test, y_test)"
   ]
  },
  {
   "cell_type": "code",
   "execution_count": 32,
   "metadata": {
    "id": "W1w3IW8Mq6DM"
   },
   "outputs": [],
   "source": [
    "#Recolhendo previsões\n",
    "\n",
    "#Modelos padrão\n",
    "svm_default_pred = svm_default.predict(X)\n",
    "rf_default_pred = rf_default.predict(X)\n",
    "xgb_default_pred = xgb_default.predict(X)\n",
    "\n",
    "#Modelo selecionado\n",
    "model_pred = model.predict(X)"
   ]
  },
  {
   "cell_type": "code",
   "execution_count": 33,
   "metadata": {
    "colab": {
     "base_uri": "https://localhost:8080/"
    },
    "id": "xoYnILlIrBVC",
    "outputId": "f7d7029c-24fb-4656-b090-5f17c91163c4"
   },
   "outputs": [
    {
     "name": "stdout",
     "output_type": "stream",
     "text": [
      "--RELATÓRIO--\n",
      "SVM:\n",
      "Default score:  0.85605189803503\n",
      "--------------------\n",
      "Random Forest:\n",
      "Default score:  0.9393060234868216\n",
      "--------------------\n",
      "XGBoost:\n",
      "Default score:  0.9484801816698485\n",
      "--------------------\n",
      "Selecionado:\n",
      "Scorecore:  0.9487583335908897\n",
      "--------------------\n"
     ]
    }
   ],
   "source": [
    "print('--RELATÓRIO--')\n",
    "\n",
    "print('SVM:')\n",
    "print('Default score: ',svm_default_score)\n",
    "print('--------------------')\n",
    "\n",
    "print('Random Forest:')\n",
    "print('Default score: ',rf_default_score)\n",
    "print('--------------------')\n",
    "\n",
    "print('XGBoost:')\n",
    "print('Default score: ',xgb_default_score)\n",
    "print('--------------------')\n",
    "\n",
    "print('Selecionado:')\n",
    "print('Scorecore: ',model_score)\n",
    "print('--------------------')"
   ]
  },
  {
   "cell_type": "code",
   "execution_count": 34,
   "metadata": {
    "colab": {
     "base_uri": "https://localhost:8080/"
    },
    "id": "pFl0iWSFuEX2",
    "outputId": "a59d5afc-288a-456e-d7b0-c7582ef6f039"
   },
   "outputs": [
    {
     "name": "stdout",
     "output_type": "stream",
     "text": [
      "0.9487583335908897\n"
     ]
    }
   ],
   "source": [
    "scores = []\n",
    "scores.append(svm_default_score)\n",
    "scores.append(rf_default_score)\n",
    "scores.append(xgb_default_score)\n",
    "scores.append(model_score)\n",
    "\n",
    "max_score = max(scores)\n",
    "print(max_score)"
   ]
  },
  {
   "cell_type": "code",
   "execution_count": 36,
   "metadata": {
    "colab": {
     "base_uri": "https://localhost:8080/",
     "height": 404
    },
    "id": "mTAbFg5wrOv5",
    "outputId": "f7d472de-74a9-4948-b259-ebc30580c549"
   },
   "outputs": [
    {
     "data": {
      "image/png": "[encoded data removed]",
      "text/plain": [
       "<Figure size 720x432 with 1 Axes>"
      ]
     },
     "metadata": {
      "needs_background": "light",
      "tags": []
     },
     "output_type": "display_data"
    }
   ],
   "source": [
    "#Visualizando resultados\n",
    "\n",
    "#plt.figure(figsize=(10,6))\n",
    "fig, ax1 = plt.subplots(figsize=(10,6))\n",
    "\n",
    "ax1.bar(0, svm_default_score, color='red', label='Default - SVR')\n",
    "\n",
    "ax1.bar(2, rf_default_score, color='blue', label=\"Default - RF\")\n",
    "\n",
    "ax1.bar(4, xgb_default_score, color='yellow', label='Default - XGB')\n",
    "\n",
    "ax1.bar(6, model_score, color='green', label='Tuned')\n",
    "\n",
    "ax1.hlines(max_score, -1, 7, colors='purple', linestyles='--', label='Max {}'.format(max_score))\n",
    "\n",
    "ax1.set_ylim(0.83, 1.0)\n",
    "ax1.set_ylabel('Score')\n",
    "ax1.set_xlabel('Modelos')\n",
    "ax1.set_title('Comparação da pontuação entre modelos padrão e otimização feita pelo optuna')\n",
    "ax1.legend(loc='upper left')\n",
    "\n",
    "\n",
    "\n",
    "ax1.grid()\n",
    "\n",
    "plt.show()"
   ]
  },
  {
   "cell_type": "code",
   "execution_count": null,
   "metadata": {
    "id": "g9VJJHLeuSok"
   },
   "outputs": [],
   "source": []
  }
 ],
 "metadata": {
  "colab": {
   "name": "5.7. Optuna.ipynb",
   "provenance": []
  },
  "kernelspec": {
   "display_name": "Python 3",
   "language": "python",
   "name": "python3"
  },
  "language_info": {
   "codemirror_mode": {
    "name": "ipython",
    "version": 3
   },
   "file_extension": ".py",
   "mimetype": "text/x-python",
   "name": "python",
   "nbconvert_exporter": "python",
   "pygments_lexer": "ipython3",
   "version": "3.7.9"
  }
 },
 "nbformat": 4,
 "nbformat_minor": 1
}
