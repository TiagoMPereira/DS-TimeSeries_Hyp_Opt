{
 "cells": [
  {
   "cell_type": "markdown",
   "metadata": {},
   "source": [
    "### Coleta de dados"
   ]
  },
  {
   "cell_type": "markdown",
   "metadata": {},
   "source": [
    "Este notebook tem por finalidade realizar a coleta de dados que será utilizada no estudo de hiperparâmetros"
   ]
  },
  {
   "cell_type": "markdown",
   "metadata": {},
   "source": [
    "#### Dados utilizados"
   ]
  },
  {
   "cell_type": "markdown",
   "metadata": {},
   "source": [
    "* Ações do Facebook (FB)\n",
    "* Ações da Petrobras (PBR)\n",
    "* Ações da Apple (AAPL)\n",
    "* Ações da Tesla (TSLA)"
   ]
  },
  {
   "cell_type": "markdown",
   "metadata": {},
   "source": [
    "Serão armazenadas apenas as variáveis de abertura e fechamento para os períodos de 1, 3 e 5 anos"
   ]
  },
  {
   "cell_type": "code",
   "execution_count": 2,
   "metadata": {},
   "outputs": [],
   "source": [
    "import pandas as pd\n",
    "import pandas_datareader.data as web\n",
    "import datetime as dt"
   ]
  },
  {
   "cell_type": "code",
   "execution_count": 9,
   "metadata": {},
   "outputs": [],
   "source": [
    "ativos = ['FB', 'PBR', 'AAPL', 'TSLA']\n",
    "\n",
    "datas_inicio = [dt.datetime(2016, 3, 1), dt.datetime(2018, 3, 1), dt.datetime(2020, 3, 1)]\n",
    "\n",
    "data_fim = dt.datetime(2021, 3, 1)"
   ]
  },
  {
   "cell_type": "code",
   "execution_count": 7,
   "metadata": {},
   "outputs": [
    {
     "name": "stdout",
     "output_type": "stream",
     "text": [
      "356\n"
     ]
    },
    {
     "data": {
      "text/html": [
       "<div>\n",
       "<style scoped>\n",
       "    .dataframe tbody tr th:only-of-type {\n",
       "        vertical-align: middle;\n",
       "    }\n",
       "\n",
       "    .dataframe tbody tr th {\n",
       "        vertical-align: top;\n",
       "    }\n",
       "\n",
       "    .dataframe thead th {\n",
       "        text-align: right;\n",
       "    }\n",
       "</style>\n",
       "<table border=\"1\" class=\"dataframe\">\n",
       "  <thead>\n",
       "    <tr style=\"text-align: right;\">\n",
       "      <th></th>\n",
       "      <th>Abertura</th>\n",
       "      <th>Alvo</th>\n",
       "    </tr>\n",
       "  </thead>\n",
       "  <tbody>\n",
       "    <tr>\n",
       "      <th>0</th>\n",
       "      <td>128.990005</td>\n",
       "      <td>135.679993</td>\n",
       "    </tr>\n",
       "    <tr>\n",
       "      <th>1</th>\n",
       "      <td>134.690002</td>\n",
       "      <td>131.740005</td>\n",
       "    </tr>\n",
       "    <tr>\n",
       "      <th>2</th>\n",
       "      <td>134.009995</td>\n",
       "      <td>137.949997</td>\n",
       "    </tr>\n",
       "    <tr>\n",
       "      <th>3</th>\n",
       "      <td>137.559998</td>\n",
       "      <td>138.050003</td>\n",
       "    </tr>\n",
       "    <tr>\n",
       "      <th>4</th>\n",
       "      <td>139.889999</td>\n",
       "      <td>142.529999</td>\n",
       "    </tr>\n",
       "  </tbody>\n",
       "</table>\n",
       "</div>"
      ],
      "text/plain": [
       "     Abertura        Alvo\n",
       "0  128.990005  135.679993\n",
       "1  134.690002  131.740005\n",
       "2  134.009995  137.949997\n",
       "3  137.559998  138.050003\n",
       "4  139.889999  142.529999"
      ]
     },
     "execution_count": 7,
     "metadata": {},
     "output_type": "execute_result"
    }
   ],
   "source": [
    "end = dt.datetime(2020, 6, 1)\n",
    "start = dt.datetime(2019, 1, 1)\n",
    "\n",
    "df = web.DataReader(\"FB\", 'yahoo', start, end)\n",
    "\n",
    "\n",
    "df = df.reset_index()\n",
    "df = df.drop(columns=['Date','High','Low','Volume','Adj Close'])\n",
    "\n",
    "nomes = {'Close': 'Alvo',\n",
    "         'Open': 'Abertura'}\n",
    "\n",
    "df = df.rename(columns = nomes)"
   ]
  },
  {
   "cell_type": "code",
   "execution_count": 17,
   "metadata": {},
   "outputs": [
    {
     "name": "stdout",
     "output_type": "stream",
     "text": [
      "Datasets/FB_5.csv\n",
      "Datasets/FB_3.csv\n",
      "Datasets/FB_1.csv\n",
      "Datasets/PBR_5.csv\n",
      "Datasets/PBR_3.csv\n",
      "Datasets/PBR_1.csv\n",
      "Datasets/AAPL_5.csv\n",
      "Datasets/AAPL_3.csv\n",
      "Datasets/AAPL_1.csv\n",
      "Datasets/TSLA_5.csv\n",
      "Datasets/TSLA_3.csv\n",
      "Datasets/TSLA_1.csv\n"
     ]
    }
   ],
   "source": [
    "for at in ativos:\n",
    "    \n",
    "    for i, dt_i in enumerate(datas_inicio):\n",
    "        \n",
    "        if i == 0:\n",
    "            periodo = 5\n",
    "        elif i == 1:\n",
    "            periodo = 3\n",
    "        elif i == 2:\n",
    "            periodo = 1\n",
    "            \n",
    "        df = web.DataReader(at, 'yahoo', dt_i, data_fim)\n",
    "        \n",
    "        df = df.reset_index()\n",
    "        df = df.drop(columns=['Date','High','Low','Volume','Adj Close'])\n",
    "\n",
    "        nomes = {'Close': 'Alvo',\n",
    "                 'Open': 'Abertura'}\n",
    "\n",
    "        df = df.rename(columns = nomes)\n",
    "        \n",
    "        file = \"Datasets/\"+str(at)+\"_\"+str(periodo)+'.csv'\n",
    "        \n",
    "        df.to_csv(file)\n",
    "        print(file)"
   ]
  }
 ],
 "metadata": {
  "kernelspec": {
   "display_name": "Python 3",
   "language": "python",
   "name": "python3"
  },
  "language_info": {
   "codemirror_mode": {
    "name": "ipython",
    "version": 3
   },
   "file_extension": ".py",
   "mimetype": "text/x-python",
   "name": "python",
   "nbconvert_exporter": "python",
   "pygments_lexer": "ipython3",
   "version": "3.7.9"
  }
 },
 "nbformat": 4,
 "nbformat_minor": 4
}
