{
 "cells": [
  {
   "cell_type": "markdown",
   "metadata": {},
   "source": [
    "### Coleta de dados"
   ]
  },
  {
   "cell_type": "markdown",
   "metadata": {},
   "source": [
    "Este notebook tem por finalidade realizar a coleta de dados que será utilizada no estudo de hiperparâmetros"
   ]
  },
  {
   "cell_type": "markdown",
   "metadata": {},
   "source": [
    "#### Dados utilizados"
   ]
  },
  {
   "cell_type": "markdown",
   "metadata": {},
   "source": [
    "* Ações do Facebook (FB)\n",
    "* Ações da Petrobras (PBR)\n",
    "* Ações da Apple (AAPL)\n",
    "* Ações da Tesla (TSLA)"
   ]
  },
  {
   "cell_type": "markdown",
   "metadata": {},
   "source": [
    "Serão armazenadas apenas as variáveis de abertura e fechamento para os períodos de 1, 3 e 5 anos"
   ]
  },
  {
   "cell_type": "code",
   "execution_count": 4,
   "metadata": {},
   "outputs": [],
   "source": [
    "import pandas as pd\n",
    "import pandas_datareader.data as web\n",
    "import datetime as dt\n",
    "import numpy as np"
   ]
  },
  {
   "cell_type": "code",
   "execution_count": 2,
   "metadata": {},
   "outputs": [],
   "source": [
    "ativos = ['FB', 'PBR', 'AAPL', 'TSLA']\n",
    "\n",
    "datas_inicio = [dt.datetime(2016, 3, 1), dt.datetime(2018, 3, 1), dt.datetime(2020, 3, 1)]\n",
    "\n",
    "data_fim = dt.datetime(2021, 3, 1)"
   ]
  },
  {
   "cell_type": "code",
   "execution_count": 7,
   "metadata": {},
   "outputs": [
    {
     "name": "stdout",
     "output_type": "stream",
     "text": [
      "356\n"
     ]
    },
    {
     "data": {
      "text/html": [
       "<div>\n",
       "<style scoped>\n",
       "    .dataframe tbody tr th:only-of-type {\n",
       "        vertical-align: middle;\n",
       "    }\n",
       "\n",
       "    .dataframe tbody tr th {\n",
       "        vertical-align: top;\n",
       "    }\n",
       "\n",
       "    .dataframe thead th {\n",
       "        text-align: right;\n",
       "    }\n",
       "</style>\n",
       "<table border=\"1\" class=\"dataframe\">\n",
       "  <thead>\n",
       "    <tr style=\"text-align: right;\">\n",
       "      <th></th>\n",
       "      <th>Abertura</th>\n",
       "      <th>Alvo</th>\n",
       "    </tr>\n",
       "  </thead>\n",
       "  <tbody>\n",
       "    <tr>\n",
       "      <th>0</th>\n",
       "      <td>128.990005</td>\n",
       "      <td>135.679993</td>\n",
       "    </tr>\n",
       "    <tr>\n",
       "      <th>1</th>\n",
       "      <td>134.690002</td>\n",
       "      <td>131.740005</td>\n",
       "    </tr>\n",
       "    <tr>\n",
       "      <th>2</th>\n",
       "      <td>134.009995</td>\n",
       "      <td>137.949997</td>\n",
       "    </tr>\n",
       "    <tr>\n",
       "      <th>3</th>\n",
       "      <td>137.559998</td>\n",
       "      <td>138.050003</td>\n",
       "    </tr>\n",
       "    <tr>\n",
       "      <th>4</th>\n",
       "      <td>139.889999</td>\n",
       "      <td>142.529999</td>\n",
       "    </tr>\n",
       "  </tbody>\n",
       "</table>\n",
       "</div>"
      ],
      "text/plain": [
       "     Abertura        Alvo\n",
       "0  128.990005  135.679993\n",
       "1  134.690002  131.740005\n",
       "2  134.009995  137.949997\n",
       "3  137.559998  138.050003\n",
       "4  139.889999  142.529999"
      ]
     },
     "execution_count": 7,
     "metadata": {},
     "output_type": "execute_result"
    }
   ],
   "source": [
    "end = dt.datetime(2020, 6, 1)\n",
    "start = dt.datetime(2019, 1, 1)\n",
    "\n",
    "df = web.DataReader(\"FB\", 'yahoo', start, end)\n",
    "\n",
    "\n",
    "df = df.reset_index()\n",
    "df = df.drop(columns=['Date','High','Low','Volume','Adj Close'])\n",
    "\n",
    "nomes = {'Close': 'Alvo',\n",
    "         'Open': 'Abertura'}\n",
    "\n",
    "df = df.rename(columns = nomes)"
   ]
  },
  {
   "cell_type": "code",
   "execution_count": null,
   "metadata": {},
   "outputs": [
    {
     "name": "stdout",
     "output_type": "stream",
     "text": [
      "Datasets/Acoes_2/FB_5.csv\n",
      "Datasets/Acoes_2/FB_3.csv\n",
      "Datasets/Acoes_2/FB_1.csv\n",
      "Datasets/Acoes_2/PBR_5.csv\n",
      "Datasets/Acoes_2/PBR_3.csv\n",
      "Datasets/Acoes_2/PBR_1.csv\n"
     ]
    }
   ],
   "source": [
    "for at in ativos:\n",
    "    \n",
    "    for i, dt_i in enumerate(datas_inicio):\n",
    "        \n",
    "        if i == 0:\n",
    "            periodo = 5\n",
    "        elif i == 1:\n",
    "            periodo = 3\n",
    "        elif i == 2:\n",
    "            periodo = 1\n",
    "            \n",
    "        df = web.DataReader(at, 'yahoo', dt_i, data_fim)\n",
    "        \n",
    "        df = df.reset_index()\n",
    "\n",
    "        nomes = {'Close': 'Close 0',\n",
    "                 'Open': 'Open 0'}\n",
    "\n",
    "        df = df.rename(columns = nomes)\n",
    "\n",
    "        df['Date2'] = df['Date'].astype(str).tolist()\n",
    "        df['Ano'] = df['Date2'].str.split('-').str[0]\n",
    "        df['Mes'] = df['Date2'].str.split('-').str[1]\n",
    "        df['Dia'] = df['Date2'].str.split('-').str[2]\n",
    "\n",
    "        dict_day = { 0: 'Segunda', 1: 'Terca', 2: 'Quarta', 3: 'Quinta', 4: 'Sexta'}\n",
    "\n",
    "        dia = []\n",
    "        for wd in df['Date'].dt.dayofweek:\n",
    "            dia.append(dict_day[wd])\n",
    "\n",
    "        df['Dia_semana'] = dia\n",
    "\n",
    "        for i in range(1, 6):\n",
    "            df['Close '+str(i)] = df['Close '+str(i-1)].shift(1)\n",
    "            df['Open '+str(i)] = df['Open '+str(i-1)].shift(1)\n",
    "\n",
    "        df = df.drop(columns=['Date','Date2','High','Low','Volume','Adj Close'])\n",
    "\n",
    "        df.rename(columns={'Close 0':'Target'}, inplace=True)\n",
    "        df.dropna(inplace=True)\n",
    "        \n",
    "        df['Periodo'] = np.where(df['Dia'].astype(int)<8, 1, \n",
    "                        np.where(df['Dia'].astype(int)<15,2,\n",
    "                        np.where(df['Dia'].astype(int)<21,3,4)))\n",
    "        \n",
    "        df['Anos'] = df['Ano']\n",
    "        df['Meses'] = df['Mes']\n",
    "        df['Dias'] = df['Dia']\n",
    "        df['Dias_semana'] = df['Dia_semana']\n",
    "        df['Periodos'] = df['Periodo']\n",
    "        df = pd.get_dummies(df, columns=['Ano','Mes','Dia','Dia_semana','Periodo'])\n",
    "        \n",
    "        file = \"Datasets/Acoes_2/\"+str(at)+\"_\"+str(periodo)+'.csv'\n",
    "        \n",
    "        df.to_csv(file)\n",
    "        print(file)"
   ]
  }
 ],
 "metadata": {
  "kernelspec": {
   "display_name": "Python 3",
   "language": "python",
   "name": "python3"
  },
  "language_info": {
   "codemirror_mode": {
    "name": "ipython",
    "version": 3
   },
   "file_extension": ".py",
   "mimetype": "text/x-python",
   "name": "python",
   "nbconvert_exporter": "python",
   "pygments_lexer": "ipython3",
   "version": "3.7.9"
  }
 },
 "nbformat": 4,
 "nbformat_minor": 4
}
