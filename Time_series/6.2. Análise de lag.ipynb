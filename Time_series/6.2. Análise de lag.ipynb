{
 "cells": [
  {
   "cell_type": "markdown",
   "metadata": {},
   "source": [
    "### Análise de lag"
   ]
  },
  {
   "cell_type": "markdown",
   "metadata": {},
   "source": [
    "Este notebook tem por finalidade analisar a quantidade apropriada de \"lag\" para as bases de dados utilizadas"
   ]
  },
  {
   "cell_type": "markdown",
   "metadata": {},
   "source": [
    "A análise será feita considerando os períodos de:\n",
    "* 1 dia\n",
    "* 2 dias\n",
    "* 5 dias\n",
    "* 10 dias"
   ]
  },
  {
   "cell_type": "markdown",
   "metadata": {},
   "source": [
    "### Importação"
   ]
  },
  {
   "cell_type": "code",
   "execution_count": 1,
   "metadata": {},
   "outputs": [],
   "source": [
    "import pandas as pd\n",
    "import matplotlib.pyplot as plt\n",
    "from sklearn.model_selection import train_test_split, cross_val_score\n",
    "\n",
    "from sklearn.svm import SVR\n",
    "from sklearn.ensemble import RandomForestRegressor"
   ]
  },
  {
   "cell_type": "markdown",
   "metadata": {},
   "source": [
    "### Funções"
   ]
  },
  {
   "cell_type": "code",
   "execution_count": 2,
   "metadata": {},
   "outputs": [],
   "source": [
    "def read(path, open_ = False):\n",
    "    \n",
    "    df = pd.read_csv(path, index_col = 0)\n",
    "    \n",
    "    df.rename(columns={'Alvo':'Close 0'}, inplace=True)\n",
    "    df.rename(columns={'Abertura':'Open 0'}, inplace=True)\n",
    "    \n",
    "    if not(open_):\n",
    "        df.drop(columns='Open 0', inplace = True)\n",
    "    \n",
    "    return df"
   ]
  },
  {
   "cell_type": "code",
   "execution_count": 3,
   "metadata": {},
   "outputs": [],
   "source": [
    "def lag(df, size, open_ = False):\n",
    "    \n",
    "    for i in range(1, (int(size)+1)):\n",
    "        \n",
    "        df['Close '+str(i)] = df['Close '+str(i-1)].shift(1)\n",
    "        \n",
    "        if open_:\n",
    "            \n",
    "            df['Open '+str(i)] = df['Open '+str(i-1)].shift(1)\n",
    "            \n",
    "    df.rename(columns={'Close 0':'Target'}, inplace=True)\n",
    "    df.dropna(inplace=True)\n",
    "            \n",
    "    return df"
   ]
  },
  {
   "cell_type": "code",
   "execution_count": 4,
   "metadata": {},
   "outputs": [],
   "source": [
    "def X_Y(df):\n",
    "    \n",
    "    X = df.drop(columns = 'Target')\n",
    "    y = df.loc[:,'Target'].tolist()\n",
    "    \n",
    "    return X, y"
   ]
  },
  {
   "cell_type": "code",
   "execution_count": 5,
   "metadata": {},
   "outputs": [],
   "source": [
    "def training(df):\n",
    "    \n",
    "    X, y = X_Y(df)\n",
    "    \n",
    "    mod = SVR(kernel='linear', C=1)\n",
    "        \n",
    "    scores = cross_val_score(mod, X, y, cv=5)\n",
    "    \n",
    "    max_ = max(scores)\n",
    "    avg_ = (sum(scores)/len(scores))\n",
    "    print(\"MAX: \", max_)\n",
    "    print(\"AVG: \", avg_)\n",
    "    return  max_, avg_"
   ]
  },
  {
   "cell_type": "code",
   "execution_count": 6,
   "metadata": {},
   "outputs": [],
   "source": [
    "datasets = ['FB_1']\n",
    "\n",
    "size = [1,2,5,10]\n",
    "\n",
    "resultados = {}"
   ]
  },
  {
   "cell_type": "code",
   "execution_count": null,
   "metadata": {},
   "outputs": [],
   "source": [
    "for data in datasets:\n",
    "    for sz in size:\n",
    "        \n",
    "        file = 'Datasets/Acoes/'+str(data)+'.csv'\n",
    "        nome = str(data)+'-'+str(sz)\n",
    "        \n",
    "        df = read(file)\n",
    "        df = lag(df, sz)\n",
    "        max_, avg_ = training(df)\n",
    "        \n",
    "        resultados[nome] = {\n",
    "            'Max': max_,\n",
    "            'Avg': avg_\n",
    "        }\n",
    "        \n",
    "        print(nome)"
   ]
  },
  {
   "cell_type": "code",
   "execution_count": null,
   "metadata": {},
   "outputs": [],
   "source": [
    ",'FB_3','FB_5',\n",
    "           'PBR_1','PBR_3','PBR_5',\n",
    "           'AAPL_1','AAPL_3','AAPL_5',\n",
    "           'TSLA_1','TSLA_3','TSLA_5'"
   ]
  }
 ],
 "metadata": {
  "kernelspec": {
   "display_name": "Python 3",
   "language": "python",
   "name": "python3"
  },
  "language_info": {
   "codemirror_mode": {
    "name": "ipython",
    "version": 3
   },
   "file_extension": ".py",
   "mimetype": "text/x-python",
   "name": "python",
   "nbconvert_exporter": "python",
   "pygments_lexer": "ipython3",
   "version": "3.7.9"
  }
 },
 "nbformat": 4,
 "nbformat_minor": 4
}
