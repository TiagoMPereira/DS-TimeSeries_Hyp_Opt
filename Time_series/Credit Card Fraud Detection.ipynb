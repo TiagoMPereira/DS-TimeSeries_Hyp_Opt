{
 "cells": [
  {
   "cell_type": "markdown",
   "metadata": {},
   "source": [
    "Notebook para agrupar técnicas de otimização hiperparamétrica seguindo o seguinte artigo:\n",
    "\n",
    "https://www.kaggle.com/pavansanagapati/automated-hyperparameter-tuning"
   ]
  },
  {
   "cell_type": "code",
   "execution_count": 31,
   "metadata": {},
   "outputs": [
    {
     "name": "stderr",
     "output_type": "stream",
     "text": [
      "C:\\Users\\mpere\\AppData\\Local\\Programs\\Python\\Python37\\lib\\site-packages\\tpot\\builtins\\__init__.py:36: UserWarning: Warning: optional dependency `torch` is not available. - skipping import of NN models.\n",
      "  warnings.warn(\"Warning: optional dependency `torch` is not available. - skipping import of NN models.\")\n"
     ]
    }
   ],
   "source": [
    "import pandas as pd\n",
    "from sklearn.preprocessing import StandardScaler\n",
    "from sklearn.model_selection import train_test_split\n",
    "from sklearn.metrics import classification_report,confusion_matrix\n",
    "from sklearn.ensemble import RandomForestClassifier\n",
    "from sklearn.metrics import accuracy_score\n",
    "import numpy as np\n",
    "from sklearn.model_selection import RandomizedSearchCV, GridSearchCV\n",
    "from sklearn.model_selection import cross_val_score\n",
    "from hyperopt import hp, fmin, tpe, STATUS_OK, Trials\n",
    "from tpot import TPOTClassifier\n",
    "import matplotlib.pyplot as plt"
   ]
  },
  {
   "cell_type": "code",
   "execution_count": 12,
   "metadata": {},
   "outputs": [],
   "source": [
    "# importando dataset\n",
    "df = pd.read_csv('Datasets/Credit_card.csv',na_values = '#NAME?')\n",
    "\n",
    "#Separando variáveis dependentes e independentes\n",
    "X = df[['V17', 'V9', 'V6', 'V12']]\n",
    "y = df['Class']\n",
    "\n",
    "#Separando dados de treino e teste\n",
    "X_Train, X_Test, y_Train, y_Test = train_test_split(X, y, test_size = 0.30,random_state = 101)"
   ]
  },
  {
   "cell_type": "code",
   "execution_count": 15,
   "metadata": {},
   "outputs": [
    {
     "name": "stdout",
     "output_type": "stream",
     "text": [
      "[[85289    10]\n",
      " [   34   110]]\n"
     ]
    }
   ],
   "source": [
    "#o modelo base será Random Forest Classifier\n",
    "\n",
    "#criando, treinando e armazenando predições do modelo\n",
    "model = RandomForestClassifier(random_state= 101).fit(X_Train,y_Train)\n",
    "predictionforest = model.predict(X_Test)\n",
    "\n",
    "# Mostrando confusion matrix para análise dos resultados\n",
    "print(confusion_matrix(y_Test,predictionforest))\n",
    "\n",
    "#armazenando acurácia\n",
    "acc1 = accuracy_score(y_Test,predictionforest)"
   ]
  },
  {
   "cell_type": "markdown",
   "metadata": {},
   "source": [
    "##### Grid Search"
   ]
  },
  {
   "cell_type": "code",
   "execution_count": 17,
   "metadata": {},
   "outputs": [
    {
     "name": "stdout",
     "output_type": "stream",
     "text": [
      "Fitting 5 folds for each of 36 candidates, totalling 180 fits\n"
     ]
    },
    {
     "name": "stderr",
     "output_type": "stream",
     "text": [
      "[Parallel(n_jobs=-1)]: Using backend LokyBackend with 4 concurrent workers.\n",
      "[Parallel(n_jobs=-1)]: Done  10 tasks      | elapsed:   57.2s\n",
      "[Parallel(n_jobs=-1)]: Done  64 tasks      | elapsed:  2.0min\n",
      "[Parallel(n_jobs=-1)]: Done 154 tasks      | elapsed:  3.6min\n",
      "[Parallel(n_jobs=-1)]: Done 180 out of 180 | elapsed:  3.9min finished\n"
     ]
    },
    {
     "name": "stdout",
     "output_type": "stream",
     "text": [
      "[[85279    20]\n",
      " [   44   100]]\n"
     ]
    }
   ],
   "source": [
    "#Definindo grade de hiperparâmetros\n",
    "grid_search = {'criterion': ['entropy', 'gini'],\n",
    "               'max_depth': [2],\n",
    "               'max_features': ['auto', 'sqrt'],\n",
    "               'min_samples_leaf': [4, 6, 8],\n",
    "               'min_samples_split': [5, 7,10],\n",
    "               'n_estimators': [20]}\n",
    "\n",
    "#Criando random forest\n",
    "clf = RandomForestClassifier()\n",
    "\n",
    "#aplicando busca em grade e armazenando os melhores hp no novo modelo e treinando o novo modelo\n",
    "model = GridSearchCV(estimator = clf, param_grid = grid_search, cv = 5, verbose= 5, n_jobs = -1)\n",
    "model.fit(X_Train,y_Train)\n",
    "\n",
    "#armazenando predições\n",
    "predictionforest = model.best_estimator_.predict(X_Test)\n",
    "\n",
    "#printando confusion matrix\n",
    "print(confusion_matrix(y_Test,predictionforest))\n",
    "\n",
    "#armazenando acurácia\n",
    "acc_grid = accuracy_score(y_Test,predictionforest)"
   ]
  },
  {
   "cell_type": "markdown",
   "metadata": {},
   "source": [
    "##### Random search"
   ]
  },
  {
   "cell_type": "code",
   "execution_count": 20,
   "metadata": {},
   "outputs": [
    {
     "name": "stdout",
     "output_type": "stream",
     "text": [
      "Fitting 5 folds for each of 10 candidates, totalling 50 fits\n"
     ]
    },
    {
     "name": "stderr",
     "output_type": "stream",
     "text": [
      "[Parallel(n_jobs=-1)]: Using backend LokyBackend with 4 concurrent workers.\n",
      "[Parallel(n_jobs=-1)]: Done  42 tasks      | elapsed:  1.2min\n",
      "[Parallel(n_jobs=-1)]: Done  50 out of  50 | elapsed:  1.3min finished\n"
     ]
    },
    {
     "name": "stdout",
     "output_type": "stream",
     "text": [
      "[[85280    19]\n",
      " [   44   100]]\n"
     ]
    }
   ],
   "source": [
    "#Definindo grade de hiperparâmetros\n",
    "random_search = {'criterion': ['entropy', 'gini'],\n",
    "               'max_depth': [2],\n",
    "               'max_features': ['auto', 'sqrt'],\n",
    "               'min_samples_leaf': [4, 6, 8],\n",
    "               'min_samples_split': [5, 7,10],\n",
    "               'n_estimators': [20]}\n",
    "\n",
    "#aplicando busca aleatória e armazenando os melhores hp no novo modelo e treinando o novo modelo\n",
    "clf = RandomForestClassifier()\n",
    "model = RandomizedSearchCV(estimator = clf, param_distributions = random_search, n_iter = 10, cv = 5, verbose= 1, \n",
    "                           random_state= 101, n_jobs = -1)\n",
    "\n",
    "#Treinando modelo ajustado\n",
    "model.fit(X_Train,y_Train)\n",
    "\n",
    "#armazenando predições\n",
    "predictionforest = model.best_estimator_.predict(X_Test)\n",
    "\n",
    "#printando confusion matrix\n",
    "print(confusion_matrix(y_Test,predictionforest))\n",
    "\n",
    "#armazenando acurácia\n",
    "acc_random = accuracy_score(y_Test,predictionforest)"
   ]
  },
  {
   "cell_type": "markdown",
   "metadata": {},
   "source": [
    "##### Bayesian"
   ]
  },
  {
   "cell_type": "code",
   "execution_count": 26,
   "metadata": {},
   "outputs": [
    {
     "name": "stdout",
     "output_type": "stream",
     "text": [
      "100%|███████████████████████████████████████████████| 20/20 [04:00<00:00, 12.04s/trial, best loss: -0.9982544492235963]\n"
     ]
    },
    {
     "data": {
      "text/plain": [
       "{'criterion': 1,\n",
       " 'max_depth': 10.0,\n",
       " 'max_features': 2,\n",
       " 'min_samples_leaf': 0.42623733370143474,\n",
       " 'min_samples_split': 0.2165250363584751,\n",
       " 'n_estimators': 1}"
      ]
     },
     "execution_count": 26,
     "metadata": {},
     "output_type": "execute_result"
    }
   ],
   "source": [
    "#Criando espaço de hiperparâmetros\n",
    "space = {'criterion': hp.choice('criterion', ['entropy', 'gini']),\n",
    "        'max_depth': hp.quniform('max_depth', 10, 12, 10),\n",
    "        'max_features': hp.choice('max_features', ['auto', 'sqrt','log2', None]),\n",
    "        'min_samples_leaf': hp.uniform ('min_samples_leaf', 0, 0.5),\n",
    "        'min_samples_split' : hp.uniform ('min_samples_split', 0, 1),\n",
    "        'n_estimators' : hp.choice('n_estimators', [10, 50])\n",
    "    }\n",
    "\n",
    "# definindo função objetivo, será o modelo Random Forest com os hiperparâmetros do espaço amostral\n",
    "# o valor a ser maximizado é a acurácia do modelo, como o algoritmo de busca bayesiana minimiza o resultado, é passado o inverso\n",
    "# da acurácia\n",
    "def objective(space):\n",
    "    model = RandomForestClassifier(criterion = space['criterion'], \n",
    "                                   max_depth = space['max_depth'],\n",
    "                                   max_features = space['max_features'],\n",
    "                                   min_samples_leaf = space['min_samples_leaf'],\n",
    "                                   min_samples_split = space['min_samples_split'],\n",
    "                                   n_estimators = space['n_estimators'], \n",
    "                                 )\n",
    "    \n",
    "    accuracy = cross_val_score(model, X_Train, y_Train, cv = 5).mean()\n",
    "\n",
    "    return {'loss': -accuracy, 'status': STATUS_OK }\n",
    "    \n",
    "trials = Trials()\n",
    "\n",
    "#Chamando função para otimizar os hp\n",
    "best = fmin(fn= objective, space= space, algo= tpe.suggest, max_evals = 20, trials= trials)\n",
    "best"
   ]
  },
  {
   "cell_type": "code",
   "execution_count": 24,
   "metadata": {},
   "outputs": [
    {
     "name": "stdout",
     "output_type": "stream",
     "text": [
      "0 float\n",
      "1   hyperopt_param\n",
      "2     Literal{max_depth}\n",
      "3     uniform\n",
      "4       Literal{10}\n",
      "5       Literal{12}\n",
      "6       Literal{10}\n"
     ]
    }
   ],
   "source": [
    "print(hp.quniform('max_depth', 10, 12, 10))"
   ]
  },
  {
   "cell_type": "code",
   "execution_count": 28,
   "metadata": {},
   "outputs": [
    {
     "name": "stdout",
     "output_type": "stream",
     "text": [
      "[[85299     0]\n",
      " [  144     0]]\n"
     ]
    }
   ],
   "source": [
    "#Criando dicionário para converter retorno do função de otimização\n",
    "crit = {0: 'entropy', 1: 'gini'}\n",
    "feat = {0: 'auto', 1: 'sqrt', 2: 'log2', 3: None}\n",
    "est = {0: 10, 1: 50, 2: 75, 3: 100, 4: 125}\n",
    "\n",
    "#treinando Random Forest com os melhores valores\n",
    "trainedforest = RandomForestClassifier(criterion = crit[best['criterion']], \n",
    "                                       max_depth = best['max_depth'], \n",
    "                                       max_features = feat[best['max_features']], \n",
    "                                       min_samples_leaf = best['min_samples_leaf'], \n",
    "                                       min_samples_split = best['min_samples_split'], \n",
    "                                       n_estimators = est[best['n_estimators']]\n",
    "                                      ).fit(X_Train,y_Train)\n",
    "#Armazenando predições\n",
    "predictionforest = trainedforest.predict(X_Test)\n",
    "\n",
    "#Printando confusion matrix\n",
    "print(confusion_matrix(y_Test,predictionforest))\n",
    "\n",
    "#armazenando acurácia\n",
    "acc_bayesian = accuracy_score(y_Test,predictionforest)"
   ]
  },
  {
   "cell_type": "markdown",
   "metadata": {},
   "source": [
    "##### Genetic Algorithms"
   ]
  },
  {
   "cell_type": "code",
   "execution_count": 34,
   "metadata": {},
   "outputs": [
    {
     "name": "stdout",
     "output_type": "stream",
     "text": [
      "[[85279    20]\n",
      " [   36   108]]\n"
     ]
    }
   ],
   "source": [
    "#Definindo hiperparâmetros\n",
    "parameters = {'criterion': ['entropy', 'gini'],\n",
    "               'max_depth': [2],\n",
    "               'max_features': ['auto'],\n",
    "               'min_samples_leaf': [4, 12],\n",
    "               'min_samples_split': [5, 10],\n",
    "               'n_estimators': [10]}\n",
    "            \n",
    "#Invocando classificador genético\n",
    "tpot_classifier = TPOTClassifier(generations= 4, population_size= 24, offspring_size= 12,\n",
    "                                 verbosity= 2, early_stop= 12,\n",
    "                                 config_dict=\n",
    "                                 {'sklearn.ensemble.RandomForestClassifier': parameters}, \n",
    "                                 cv = 5, scoring = 'accuracy')\n",
    "\n",
    "#treinando classificador\n",
    "tpot_classifier.fit(X_Train,y_Train) \n",
    "\n",
    "#Armazenando predições\n",
    "predictiongenetic = tpot_classifier.predict(X_Test)\n",
    "\n",
    "#Printando confusion matrix\n",
    "print(confusion_matrix(y_Test,predictiongenetic))\n",
    "\n",
    "#Armazenando acurácia\n",
    "acc_ga = tpot_classifier.score(X_Test, y_Test)"
   ]
  },
  {
   "cell_type": "markdown",
   "metadata": {},
   "source": [
    "Gráfico das acurácias"
   ]
  },
  {
   "cell_type": "code",
   "execution_count": 45,
   "metadata": {},
   "outputs": [
    {
     "data": {
      "image/png": "[encoded data removed]",
      "text/plain": [
       "<Figure size 720x432 with 1 Axes>"
      ]
     },
     "metadata": {
      "needs_background": "light"
     },
     "output_type": "display_data"
    }
   ],
   "source": [
    "plt.figure(figsize=(10,6))\n",
    "plt.title(\"Acurácias\")\n",
    "plt.bar(0, acc1, label='Default')\n",
    "plt.bar(1, acc_grid, label='Grid search')\n",
    "plt.bar(2, acc_random, label='Random Search')\n",
    "plt.bar(3, acc_bayesian, label='Bayesian search')\n",
    "plt.bar(4, acc_ga, label='Genetic Algorithm')\n",
    "plt.ylim(0.997,1.0)\n",
    "plt.legend(loc='lower right')\n",
    "plt.show()"
   ]
  }
 ],
 "metadata": {
  "kernelspec": {
   "display_name": "Python 3",
   "language": "python",
   "name": "python3"
  },
  "language_info": {
   "codemirror_mode": {
    "name": "ipython",
    "version": 3
   },
   "file_extension": ".py",
   "mimetype": "text/x-python",
   "name": "python",
   "nbconvert_exporter": "python",
   "pygments_lexer": "ipython3",
   "version": "3.7.9"
  }
 },
 "nbformat": 4,
 "nbformat_minor": 4
}
