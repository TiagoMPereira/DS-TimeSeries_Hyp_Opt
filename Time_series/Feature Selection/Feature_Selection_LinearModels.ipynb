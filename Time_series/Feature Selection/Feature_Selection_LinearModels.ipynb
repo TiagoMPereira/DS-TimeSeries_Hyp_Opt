{
 "cells": [
  {
   "cell_type": "markdown",
   "metadata": {},
   "source": [
    "Este notebook tem por finalidade aplicar modelos de Machine Learning na seleção de features adequadas para um projeto\n",
    "\n",
    "https://scikit-learn.org/stable/auto_examples/feature_selection/plot_select_from_model_diabetes.html\n",
    "https://scikit-learn.org/stable/modules/feature_selection.html"
   ]
  },
  {
   "cell_type": "markdown",
   "metadata": {},
   "source": [
    "#### Criando regressão"
   ]
  },
  {
   "cell_type": "code",
   "execution_count": null,
   "metadata": {},
   "outputs": [],
   "source": [
    "from sklearn.datasets import make_regression"
   ]
  },
  {
   "cell_type": "code",
   "execution_count": 71,
   "metadata": {},
   "outputs": [],
   "source": [
    "X, y = make_regression(n_samples = 500, n_features = 10, n_informative = 5, n_targets = 1)"
   ]
  },
  {
   "cell_type": "markdown",
   "metadata": {},
   "source": [
    "#### Definindo modelo Lasso para a feature selection"
   ]
  },
  {
   "cell_type": "code",
   "execution_count": 72,
   "metadata": {},
   "outputs": [],
   "source": [
    "from sklearn.linear_model import LassoCV"
   ]
  },
  {
   "cell_type": "code",
   "execution_count": 73,
   "metadata": {},
   "outputs": [
    {
     "data": {
      "text/plain": [
       "LassoCV(cv=10)"
      ]
     },
     "execution_count": 73,
     "metadata": {},
     "output_type": "execute_result"
    }
   ],
   "source": [
    "lasso = LassoCV(cv = 10)\n",
    "lasso.fit(X, y)"
   ]
  },
  {
   "cell_type": "markdown",
   "metadata": {},
   "source": [
    "#### Resgatando coeficientes de importância das features"
   ]
  },
  {
   "cell_type": "code",
   "execution_count": 74,
   "metadata": {},
   "outputs": [
    {
     "name": "stdout",
     "output_type": "stream",
     "text": [
      "[-0.          0.          6.95681912  0.         -0.         92.12868221\n",
      " 34.87783788 68.40251392 56.82812848 -0.        ]\n"
     ]
    }
   ],
   "source": [
    "importance = lasso.coef_\n",
    "print(importance)"
   ]
  },
  {
   "cell_type": "code",
   "execution_count": 75,
   "metadata": {},
   "outputs": [
    {
     "data": {
      "image/png": "[encoded data removed]",
      "text/plain": [
       "<Figure size 864x576 with 1 Axes>"
      ]
     },
     "metadata": {
      "needs_background": "light"
     },
     "output_type": "display_data"
    }
   ],
   "source": [
    "#Demonstrando importância de cada feature\n",
    "\n",
    "from matplotlib import pyplot as plt\n",
    "import numpy as np\n",
    "\n",
    "label = []\n",
    "for i, l in enumerate (importance):\n",
    "    label.append(\"Feat \"+str(i))\n",
    "\n",
    "plt.figure(figsize=(12,8))\n",
    "\n",
    "plt.bar(height = importance, x = label)\n",
    "\n",
    "plt.title(\"Feature importance\")\n",
    "plt.show()"
   ]
  },
  {
   "cell_type": "markdown",
   "metadata": {},
   "source": [
    "#### Definindo limiar para seleção das features\n",
    "\n",
    "Serão selecionadas as 3 features mais importantes segundo seus coeficientes"
   ]
  },
  {
   "cell_type": "code",
   "execution_count": 27,
   "metadata": {},
   "outputs": [],
   "source": [
    "from sklearn.feature_selection import SelectFromModel"
   ]
  },
  {
   "cell_type": "code",
   "execution_count": 76,
   "metadata": {},
   "outputs": [
    {
     "name": "stdout",
     "output_type": "stream",
     "text": [
      "[False False  True False False  True  True  True  True False]\n"
     ]
    }
   ],
   "source": [
    "# Definindo o limiar acima do coeficiente do quarto colocado\n",
    "\n",
    "threshold = np.sort(importance)[-6] + 0.01\n",
    "\n",
    "sfm = SelectFromModel(lasso, threshold = threshold)\n",
    "sfm.fit(X, y)\n",
    "\n",
    "#print(feature_names[sfm.get_support()])\n",
    "print(sfm.get_support())"
   ]
  },
  {
   "cell_type": "markdown",
   "metadata": {},
   "source": [
    "#### Testando em dados de Boston"
   ]
  },
  {
   "cell_type": "code",
   "execution_count": 157,
   "metadata": {},
   "outputs": [],
   "source": [
    "from sklearn.datasets import load_boston\n",
    "\n",
    "X,y = load_boston(return_X_y = True)\n",
    "labels = load_boston().feature_names"
   ]
  },
  {
   "cell_type": "code",
   "execution_count": 158,
   "metadata": {},
   "outputs": [
    {
     "name": "stdout",
     "output_type": "stream",
     "text": [
      "[0.07426626 0.04945448 0.         0.         0.         1.804385\n",
      " 0.01133345 0.81324404 0.27228399 0.01542465 0.74287183 0.00892587\n",
      " 0.70365352]\n"
     ]
    }
   ],
   "source": [
    "#criando modelo e recebendo os coeficientes\n",
    "\n",
    "lasso = LassoCV(cv = 10)\n",
    "lasso.fit(X,y)\n",
    "\n",
    "importance = np.abs(lasso.coef_) #Valor em módulo\n",
    "print(importance)"
   ]
  },
  {
   "cell_type": "code",
   "execution_count": 159,
   "metadata": {},
   "outputs": [
    {
     "data": {
      "image/png": "[encoded data removed]",
      "text/plain": [
       "<Figure size 864x576 with 1 Axes>"
      ]
     },
     "metadata": {
      "needs_background": "light"
     },
     "output_type": "display_data"
    }
   ],
   "source": [
    "#plotando coeficientes\n",
    "\n",
    "plt.figure(figsize=(12,8))\n",
    "plt.title(\"Boston features coeficient\")\n",
    "\n",
    "plt.bar(height = importance, x = labels, color='green')\n",
    "\n",
    "plt.show()"
   ]
  },
  {
   "cell_type": "code",
   "execution_count": 160,
   "metadata": {},
   "outputs": [],
   "source": [
    "#definindo threshold como 0.70 e selecionando features\n",
    "threshold = 0.70\n",
    "sfm = SelectFromModel(lasso, threshold = threshold)\n",
    "sfm.fit(X, y)\n",
    "result_vector = sfm.get_support()"
   ]
  },
  {
   "cell_type": "code",
   "execution_count": 161,
   "metadata": {},
   "outputs": [
    {
     "name": "stdout",
     "output_type": "stream",
     "text": [
      "Best features:  ['RM', 'DIS', 'PTRATIO', 'LSTAT']\n",
      "Index best features:  [5, 7, 10, 12]\n"
     ]
    }
   ],
   "source": [
    "#Armazenando indices das melhores features\n",
    "selected_index = [i for i,z in enumerate(result_vector) if z]\n",
    "        \n",
    "#Armazenando labels das melhores features\n",
    "selected_labels = [labels[i] for i in selected_index]\n",
    "\n",
    "print(\"Best features: \",selected_labels)\n",
    "print(\"Index best features: \", selected_index)"
   ]
  },
  {
   "cell_type": "code",
   "execution_count": 162,
   "metadata": {},
   "outputs": [
    {
     "name": "stdout",
     "output_type": "stream",
     "text": [
      "0.5952936410793941\n"
     ]
    }
   ],
   "source": [
    "#Treinando modelo com todas features\n",
    "\n",
    "X_train, X_test, y_train, y_test = train_test_split(X, y, random_state = 10)\n",
    "\n",
    "lasso_def = LassoCV(cv=10)\n",
    "lasso_def.fit(X_train, y_train)\n",
    "score_def = lasso_def.score(X_test, y_test)\n",
    "\n",
    "print(score_def)"
   ]
  },
  {
   "cell_type": "code",
   "execution_count": 163,
   "metadata": {},
   "outputs": [
    {
     "name": "stdout",
     "output_type": "stream",
     "text": [
      "0.6663203940344121\n"
     ]
    }
   ],
   "source": [
    "#Treinando modelo apenas com as features selecionadas\n",
    "\n",
    "#dividindo X\n",
    "X_feat = X[:,selected_index]\n",
    "X_train_feat, X_test_feat, y_train_feat, y_test_feat = train_test_split(X_feat, y, random_state = 10)\n",
    "\n",
    "lasso_feat = LassoCV(cv=10)\n",
    "lasso_feat.fit(X_train_feat, y_train_feat)\n",
    "score_feat = lasso_feat.score(X_test_feat, y_test_feat)\n",
    "\n",
    "print(score_feat)"
   ]
  },
  {
   "cell_type": "code",
   "execution_count": 164,
   "metadata": {},
   "outputs": [
    {
     "data": {
      "image/png": "[encoded data removed]",
      "text/plain": [
       "<Figure size 288x288 with 1 Axes>"
      ]
     },
     "metadata": {
      "needs_background": "light"
     },
     "output_type": "display_data"
    }
   ],
   "source": [
    "plt.figure(figsize=(4,4))\n",
    "plt.title(\"All features x Features selected\")\n",
    "\n",
    "plt.bar(height = [score_def, score_feat], x = [\"All\", \"Selected\"], color=['red','green'])\n",
    "\n",
    "plt.show()"
   ]
  },
  {
   "cell_type": "markdown",
   "metadata": {},
   "source": [
    "#### Aplicando bases no modelo SVM"
   ]
  },
  {
   "cell_type": "code",
   "execution_count": 165,
   "metadata": {},
   "outputs": [],
   "source": [
    "from sklearn.svm import SVR"
   ]
  },
  {
   "cell_type": "code",
   "execution_count": 166,
   "metadata": {},
   "outputs": [
    {
     "name": "stdout",
     "output_type": "stream",
     "text": [
      "All features:  0.01880865797614728\n",
      "Selected features:  0.563162375984242\n"
     ]
    }
   ],
   "source": [
    "svm_def = SVR()\n",
    "svm_def.fit(X_train, y_train)\n",
    "svm_score_def = svm_def.score(X_test, y_test)\n",
    "\n",
    "svm_feat = SVR()\n",
    "svm_feat.fit(X_train_feat, y_train_feat)\n",
    "svm_score_feat = svm_feat.score(X_test_feat, y_test_feat)\n",
    "\n",
    "print(\"All features: \",svm_score_def)\n",
    "print(\"Selected features: \",svm_score_feat)"
   ]
  },
  {
   "cell_type": "code",
   "execution_count": 167,
   "metadata": {},
   "outputs": [
    {
     "data": {
      "image/png": "[encoded data removed]",
      "text/plain": [
       "<Figure size 288x288 with 1 Axes>"
      ]
     },
     "metadata": {
      "needs_background": "light"
     },
     "output_type": "display_data"
    }
   ],
   "source": [
    "plt.figure(figsize=(4,4))\n",
    "plt.title(\"All features x Features selected - SVM\")\n",
    "\n",
    "plt.bar(height = [svm_score_def, svm_score_feat], x = [\"All\", \"Selected\"], color=['red','green'])\n",
    "\n",
    "plt.show()"
   ]
  }
 ],
 "metadata": {
  "kernelspec": {
   "display_name": "Python 3",
   "language": "python",
   "name": "python3"
  },
  "language_info": {
   "codemirror_mode": {
    "name": "ipython",
    "version": 3
   },
   "file_extension": ".py",
   "mimetype": "text/x-python",
   "name": "python",
   "nbconvert_exporter": "python",
   "pygments_lexer": "ipython3",
   "version": "3.7.9"
  }
 },
 "nbformat": 4,
 "nbformat_minor": 4
}
