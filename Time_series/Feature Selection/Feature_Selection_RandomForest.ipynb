{
 "cells": [
  {
   "cell_type": "markdown",
   "metadata": {},
   "source": [
    "Este notebook tem como propósito aplicar o algoritmo Random Forest em conjuntos de dados de regressão para selecionar features adequadas para um projeto\n",
    "\n",
    "https://scikit-learn.org/stable/modules/feature_selection.html"
   ]
  },
  {
   "cell_type": "markdown",
   "metadata": {},
   "source": [
    "#### Criando regressão"
   ]
  },
  {
   "cell_type": "code",
   "execution_count": 1,
   "metadata": {},
   "outputs": [],
   "source": [
    "from sklearn.datasets import make_regression\n",
    "X, y = make_regression(n_samples = 500, n_features = 10, n_informative = 5, n_targets = 1)"
   ]
  },
  {
   "cell_type": "markdown",
   "metadata": {},
   "source": [
    "#### Definindo modelo RF para feature selection"
   ]
  },
  {
   "cell_type": "code",
   "execution_count": 2,
   "metadata": {},
   "outputs": [],
   "source": [
    "from sklearn.ensemble import RandomForestRegressor"
   ]
  },
  {
   "cell_type": "code",
   "execution_count": 3,
   "metadata": {},
   "outputs": [
    {
     "data": {
      "text/plain": [
       "RandomForestRegressor()"
      ]
     },
     "execution_count": 3,
     "metadata": {},
     "output_type": "execute_result"
    }
   ],
   "source": [
    "rf = RandomForestRegressor()\n",
    "rf.fit(X,y)"
   ]
  },
  {
   "cell_type": "markdown",
   "metadata": {},
   "source": [
    "#### Coeficientes de importância"
   ]
  },
  {
   "cell_type": "code",
   "execution_count": 5,
   "metadata": {},
   "outputs": [
    {
     "name": "stdout",
     "output_type": "stream",
     "text": [
      "[0.0092843  0.01131658 0.01031807 0.25058902 0.01262428 0.34540492\n",
      " 0.01137    0.01131276 0.13542568 0.20235437]\n"
     ]
    }
   ],
   "source": [
    "importance = rf.feature_importances_\n",
    "print(importance)"
   ]
  },
  {
   "cell_type": "code",
   "execution_count": 6,
   "metadata": {},
   "outputs": [
    {
     "data": {
      "image/png": "[encoded data removed]",
      "text/plain": [
       "<Figure size 864x576 with 1 Axes>"
      ]
     },
     "metadata": {
      "needs_background": "light"
     },
     "output_type": "display_data"
    }
   ],
   "source": [
    "#Demonstrando importância de cada feature\n",
    "\n",
    "from matplotlib import pyplot as plt\n",
    "import numpy as np\n",
    "\n",
    "label = []\n",
    "for i, l in enumerate (importance):\n",
    "    label.append(\"Feat \"+str(i))\n",
    "\n",
    "plt.figure(figsize=(12,8))\n",
    "\n",
    "plt.bar(height = importance, x = label)\n",
    "\n",
    "plt.title(\"Feature importance\")\n",
    "plt.show()"
   ]
  },
  {
   "cell_type": "markdown",
   "metadata": {},
   "source": [
    "#### Definindo limiar > 0.15"
   ]
  },
  {
   "cell_type": "code",
   "execution_count": 7,
   "metadata": {},
   "outputs": [],
   "source": [
    "from sklearn.feature_selection import SelectFromModel"
   ]
  },
  {
   "cell_type": "code",
   "execution_count": 8,
   "metadata": {},
   "outputs": [
    {
     "name": "stdout",
     "output_type": "stream",
     "text": [
      "[False False False  True False  True False False False  True]\n"
     ]
    }
   ],
   "source": [
    "# Definindo o limiar acima de 0.15\n",
    "\n",
    "threshold = 0.15\n",
    "\n",
    "sfm = SelectFromModel(rf, threshold = threshold)\n",
    "sfm.fit(X, y)\n",
    "\n",
    "print(sfm.get_support())"
   ]
  },
  {
   "cell_type": "markdown",
   "metadata": {},
   "source": [
    "#### Testando em dados de Boston"
   ]
  },
  {
   "cell_type": "code",
   "execution_count": 9,
   "metadata": {},
   "outputs": [],
   "source": [
    "from sklearn.datasets import load_boston\n",
    "\n",
    "X,y = load_boston(return_X_y = True)\n",
    "labels = load_boston().feature_names"
   ]
  },
  {
   "cell_type": "code",
   "execution_count": 11,
   "metadata": {},
   "outputs": [
    {
     "name": "stdout",
     "output_type": "stream",
     "text": [
      "[0.04026615 0.00121083 0.00581233 0.0012314  0.02399289 0.39143863\n",
      " 0.01383884 0.06667334 0.00280434 0.0146245  0.0172441  0.01255356\n",
      " 0.4083091 ]\n"
     ]
    }
   ],
   "source": [
    "#criando modelo e recebendo os coeficientes\n",
    "\n",
    "rf = RandomForestRegressor()\n",
    "rf.fit(X,y)\n",
    "\n",
    "importance = rf.feature_importances_ \n",
    "print(importance)"
   ]
  },
  {
   "cell_type": "code",
   "execution_count": 12,
   "metadata": {},
   "outputs": [
    {
     "data": {
      "image/png": "[encoded data removed]",
      "text/plain": [
       "<Figure size 864x576 with 1 Axes>"
      ]
     },
     "metadata": {
      "needs_background": "light"
     },
     "output_type": "display_data"
    }
   ],
   "source": [
    "#plotando coeficientes\n",
    "\n",
    "plt.figure(figsize=(12,8))\n",
    "plt.title(\"Boston features coeficient\")\n",
    "\n",
    "plt.bar(height = importance, x = labels, color='green')\n",
    "\n",
    "plt.show()"
   ]
  },
  {
   "cell_type": "code",
   "execution_count": 17,
   "metadata": {},
   "outputs": [],
   "source": [
    "#definindo threshold como 0.2 e selecionando features\n",
    "threshold = 0.20\n",
    "sfm = SelectFromModel(rf, threshold = threshold)\n",
    "sfm.fit(X, y)\n",
    "result_vector = sfm.get_support()"
   ]
  },
  {
   "cell_type": "code",
   "execution_count": 18,
   "metadata": {},
   "outputs": [
    {
     "name": "stdout",
     "output_type": "stream",
     "text": [
      "Best features:  ['RM', 'LSTAT']\n",
      "Index best features:  [5, 12]\n"
     ]
    }
   ],
   "source": [
    "#Armazenando indices das melhores features\n",
    "selected_index = [i for i,z in enumerate(result_vector) if z]\n",
    "        \n",
    "#Armazenando labels das melhores features\n",
    "selected_labels = [labels[i] for i in selected_index]\n",
    "\n",
    "print(\"Best features: \",selected_labels)\n",
    "print(\"Index best features: \", selected_index)"
   ]
  },
  {
   "cell_type": "code",
   "execution_count": 20,
   "metadata": {},
   "outputs": [],
   "source": [
    "from sklearn.model_selection import train_test_split"
   ]
  },
  {
   "cell_type": "code",
   "execution_count": 23,
   "metadata": {},
   "outputs": [
    {
     "name": "stdout",
     "output_type": "stream",
     "text": [
      "0.8677638709906095\n"
     ]
    }
   ],
   "source": [
    "#Treinando modelo com todas features\n",
    "\n",
    "X_train, X_test, y_train, y_test = train_test_split(X, y, random_state = 10)\n",
    "\n",
    "rf_def = RandomForestRegressor()\n",
    "rf_def.fit(X_train, y_train)\n",
    "score_def = rf_def.score(X_test, y_test)\n",
    "\n",
    "print(score_def)"
   ]
  },
  {
   "cell_type": "code",
   "execution_count": 25,
   "metadata": {},
   "outputs": [
    {
     "name": "stdout",
     "output_type": "stream",
     "text": [
      "0.6560974640324693\n"
     ]
    }
   ],
   "source": [
    "#Treinando modelo apenas com as features selecionadas\n",
    "\n",
    "#dividindo X\n",
    "X_feat = X[:,selected_index]\n",
    "X_train_feat, X_test_feat, y_train_feat, y_test_feat = train_test_split(X_feat, y, random_state = 10)\n",
    "\n",
    "rf_feat = RandomForestRegressor()\n",
    "rf_feat.fit(X_train_feat, y_train_feat)\n",
    "score_feat = rf_feat.score(X_test_feat, y_test_feat)\n",
    "\n",
    "print(score_feat)"
   ]
  },
  {
   "cell_type": "code",
   "execution_count": 26,
   "metadata": {},
   "outputs": [
    {
     "data": {
      "image/png": "[encoded data removed]",
      "text/plain": [
       "<Figure size 288x288 with 1 Axes>"
      ]
     },
     "metadata": {
      "needs_background": "light"
     },
     "output_type": "display_data"
    }
   ],
   "source": [
    "plt.figure(figsize=(4,4))\n",
    "plt.title(\"All features x Features selected\")\n",
    "\n",
    "plt.bar(height = [score_def, score_feat], x = [\"All\", \"Selected\"], color=['green','red'])\n",
    "\n",
    "plt.show()"
   ]
  },
  {
   "cell_type": "markdown",
   "metadata": {},
   "source": [
    "#### Aplicando bases no modelo SVM"
   ]
  },
  {
   "cell_type": "code",
   "execution_count": 27,
   "metadata": {},
   "outputs": [],
   "source": [
    "from sklearn.svm import SVR"
   ]
  },
  {
   "cell_type": "code",
   "execution_count": 28,
   "metadata": {},
   "outputs": [
    {
     "name": "stdout",
     "output_type": "stream",
     "text": [
      "All features:  0.01880865797614728\n",
      "Selected features:  0.5605915187692972\n"
     ]
    }
   ],
   "source": [
    "svm_def = SVR()\n",
    "svm_def.fit(X_train, y_train)\n",
    "svm_score_def = svm_def.score(X_test, y_test)\n",
    "\n",
    "svm_feat = SVR()\n",
    "svm_feat.fit(X_train_feat, y_train_feat)\n",
    "svm_score_feat = svm_feat.score(X_test_feat, y_test_feat)\n",
    "\n",
    "print(\"All features: \",svm_score_def)\n",
    "print(\"Selected features: \",svm_score_feat)"
   ]
  },
  {
   "cell_type": "code",
   "execution_count": 29,
   "metadata": {},
   "outputs": [
    {
     "data": {
      "image/png": "[encoded data removed]",
      "text/plain": [
       "<Figure size 288x288 with 1 Axes>"
      ]
     },
     "metadata": {
      "needs_background": "light"
     },
     "output_type": "display_data"
    }
   ],
   "source": [
    "plt.figure(figsize=(4,4))\n",
    "plt.title(\"All features x Features selected - SVM\")\n",
    "\n",
    "plt.bar(height = [svm_score_def, svm_score_feat], x = [\"All\", \"Selected\"], color=['red','green'])\n",
    "\n",
    "plt.show()"
   ]
  }
 ],
 "metadata": {
  "kernelspec": {
   "display_name": "Python 3",
   "language": "python",
   "name": "python3"
  },
  "language_info": {
   "codemirror_mode": {
    "name": "ipython",
    "version": 3
   },
   "file_extension": ".py",
   "mimetype": "text/x-python",
   "name": "python",
   "nbconvert_exporter": "python",
   "pygments_lexer": "ipython3",
   "version": "3.7.9"
  }
 },
 "nbformat": 4,
 "nbformat_minor": 4
}
