{
 "cells": [
  {
   "cell_type": "markdown",
   "metadata": {},
   "source": [
    "# Reducing Features with Lasso Regression"
   ]
  },
  {
   "cell_type": "code",
   "execution_count": 18,
   "metadata": {},
   "outputs": [],
   "source": [
    "from sklearn.linear_model import LinearRegression\n",
    "from sklearn.linear_model import LassoCV\n",
    "from sklearn.preprocessing import StandardScaler\n",
    "from sklearn.metrics import mean_squared_error\n",
    "from sklearn.datasets import make_regression\n",
    "import numpy as np\n",
    "import matplotlib.pyplot as plt\n",
    "import csv\n",
    "import pandas as pd"
   ]
  },
  {
   "cell_type": "code",
   "execution_count": 19,
   "metadata": {},
   "outputs": [],
   "source": [
    "seed = 0\n",
    "np.random.seed(seed)"
   ]
  },
  {
   "cell_type": "code",
   "execution_count": 20,
   "metadata": {},
   "outputs": [],
   "source": [
    "# Generate a random regression problem.\n",
    "# n_informative: The number of informative features, i.e., the number of features used to build the linear model used to generate the output.\n",
    "N = 1000\n",
    "n_features = 100\n",
    "X, y = make_regression(n_samples=N, n_features=n_features, n_informative=10, noise=1.0, random_state=seed)"
   ]
  },
  {
   "cell_type": "code",
   "execution_count": 21,
   "metadata": {},
   "outputs": [],
   "source": [
    "# Feature scaling.\n",
    "scaler = StandardScaler()\n",
    "X = scaler.fit_transform(X)"
   ]
  },
  {
   "cell_type": "code",
   "execution_count": 22,
   "metadata": {},
   "outputs": [],
   "source": [
    "f = open(\"./lasso_feature_selectionv2.csv\", 'w', newline='')\n",
    "writer = csv.writer(f, delimiter=',')\n",
    "for i in range(0,N):\n",
    "    row = np.append(X[i][:], y[i])\n",
    "    writer.writerow(row)\n",
    "f.close()"
   ]
  },
  {
   "cell_type": "code",
   "execution_count": 23,
   "metadata": {},
   "outputs": [],
   "source": [
    "df = pd.read_csv('./lasso_feature_selectionv2.csv', header=None)\n",
    "D = df.to_numpy()\n",
    "\n",
    "X = D[:,0:D.shape[1]-1]\n",
    "y = D[:,D.shape[1]-1]"
   ]
  },
  {
   "cell_type": "code",
   "execution_count": 24,
   "metadata": {},
   "outputs": [
    {
     "name": "stdout",
     "output_type": "stream",
     "text": [
      "alpha: 0.04001796159231847\n",
      "score: 0.9999622048336685\n",
      "MSE: 0.9738361939305389\n"
     ]
    }
   ],
   "source": [
    "# Lasso linear model with iterative fitting along a regularization path.\n",
    "reg = LassoCV(cv=5, alphas=np.linspace(0.00001,10.0,5000), random_state=seed)\n",
    "\n",
    "reg.fit(X, y)\n",
    "\n",
    "print('alpha:',reg.alpha_)\n",
    "print('score:',reg.score(X, y))\n",
    "print('MSE:',mean_squared_error(reg.predict(X),y))"
   ]
  },
  {
   "cell_type": "code",
   "execution_count": 25,
   "metadata": {},
   "outputs": [
    {
     "data": {
      "text/plain": [
       "array([-0.00000000e+00,  0.00000000e+00,  0.00000000e+00, -0.00000000e+00,\n",
       "        4.52462792e-03,  0.00000000e+00,  3.18453610e-02, -0.00000000e+00,\n",
       "       -0.00000000e+00,  2.71064195e-02,  0.00000000e+00,  0.00000000e+00,\n",
       "        0.00000000e+00,  0.00000000e+00,  0.00000000e+00, -0.00000000e+00,\n",
       "        3.59466251e-02, -0.00000000e+00,  1.44923080e+01, -3.13965130e-03,\n",
       "       -0.00000000e+00,  0.00000000e+00, -0.00000000e+00,  0.00000000e+00,\n",
       "        0.00000000e+00,  0.00000000e+00, -5.93893672e-03, -0.00000000e+00,\n",
       "       -2.10619284e-03,  0.00000000e+00,  7.85242161e+01, -0.00000000e+00,\n",
       "        0.00000000e+00, -0.00000000e+00, -0.00000000e+00,  0.00000000e+00,\n",
       "        1.78942791e-02,  0.00000000e+00, -0.00000000e+00,  6.58728682e-03,\n",
       "        0.00000000e+00, -0.00000000e+00,  2.22184729e+01, -1.94707830e-02,\n",
       "        0.00000000e+00, -0.00000000e+00, -0.00000000e+00, -0.00000000e+00,\n",
       "       -0.00000000e+00, -0.00000000e+00,  1.92200618e+01,  3.94900691e-02,\n",
       "       -0.00000000e+00,  0.00000000e+00, -4.54778326e-03, -0.00000000e+00,\n",
       "        0.00000000e+00,  8.78067067e+01,  0.00000000e+00,  2.04755719e+01,\n",
       "       -0.00000000e+00, -0.00000000e+00,  9.40703221e+01,  1.06035531e-03,\n",
       "        4.46505158e-02, -0.00000000e+00,  2.38193190e-03, -0.00000000e+00,\n",
       "        0.00000000e+00, -0.00000000e+00,  0.00000000e+00, -0.00000000e+00,\n",
       "        1.10647882e-03, -0.00000000e+00,  0.00000000e+00,  0.00000000e+00,\n",
       "       -0.00000000e+00,  2.23800846e+01, -0.00000000e+00,  0.00000000e+00,\n",
       "        0.00000000e+00,  0.00000000e+00,  0.00000000e+00,  8.88672822e+00,\n",
       "        0.00000000e+00, -0.00000000e+00,  1.87198036e-02, -0.00000000e+00,\n",
       "       -0.00000000e+00, -0.00000000e+00, -0.00000000e+00,  2.03900041e-02,\n",
       "       -0.00000000e+00,  0.00000000e+00,  0.00000000e+00, -0.00000000e+00,\n",
       "        3.96746326e+01, -0.00000000e+00,  0.00000000e+00,  0.00000000e+00])"
      ]
     },
     "execution_count": 25,
     "metadata": {},
     "output_type": "execute_result"
    }
   ],
   "source": [
    "reg.coef_"
   ]
  },
  {
   "cell_type": "markdown",
   "metadata": {},
   "source": [
    "### Feature importance from coefficients\n",
    "\n",
    "To get an idea of the importance of the features, we are going to use the LassoCV estimator. The features with the highest absolute coef_ value are considered the most important. We can observe the coefficients directly without needing to scale them (or scale the data) because from the description above, we know that the features were already standardized."
   ]
  },
  {
   "cell_type": "code",
   "execution_count": 26,
   "metadata": {},
   "outputs": [
    {
     "data": {
      "image/png": "[encoded data removed]",
      "text/plain": [
       "<Figure size 432x288 with 1 Axes>"
      ]
     },
     "metadata": {
      "needs_background": "light"
     },
     "output_type": "display_data"
    }
   ],
   "source": [
    "importance = np.abs(reg.coef_)\n",
    "plt.bar(height=importance, x=range(0,n_features))\n",
    "plt.title(\"Feature importance via coefficients\")\n",
    "plt.xlabel('Features')\n",
    "plt.ylabel('Importance')\n",
    "plt.yscale('log')\n",
    "plt.show()"
   ]
  },
  {
   "cell_type": "code",
   "execution_count": 27,
   "metadata": {},
   "outputs": [
    {
     "name": "stdout",
     "output_type": "stream",
     "text": [
      "shape: (1000, 10)\n"
     ]
    }
   ],
   "source": [
    "threshold = 0.1\n",
    "\n",
    "mask = np.abs(reg.coef_) >= threshold\n",
    "\n",
    "X = X[:,mask]\n",
    "\n",
    "print('shape:', X.shape)"
   ]
  },
  {
   "cell_type": "code",
   "execution_count": 28,
   "metadata": {},
   "outputs": [
    {
     "name": "stdout",
     "output_type": "stream",
     "text": [
      "alpha: 1e-15\n",
      "score: 0.9999617003546654\n",
      "MSE: 0.9868346791863092\n"
     ]
    }
   ],
   "source": [
    "alphas = np.logspace(-20,0,21)\n",
    "\n",
    "reg = LassoCV(cv=5, alphas=alphas, random_state=seed)\n",
    "\n",
    "reg.fit(X, y)\n",
    "\n",
    "print('alpha:',reg.alpha_)\n",
    "print('score:',reg.score(X, y))\n",
    "print('MSE:',mean_squared_error(reg.predict(X),y))"
   ]
  },
  {
   "cell_type": "code",
   "execution_count": 29,
   "metadata": {},
   "outputs": [
    {
     "name": "stdout",
     "output_type": "stream",
     "text": [
      "score: 0.9999617003564444\n",
      "MSE: 0.9868346333476338\n"
     ]
    }
   ],
   "source": [
    "reg = LinearRegression()\n",
    "\n",
    "reg.fit(X,y)\n",
    "\n",
    "print('score:',reg.score(X, y))\n",
    "print('MSE:',mean_squared_error(reg.predict(X),y))"
   ]
  },
  {
   "cell_type": "markdown",
   "metadata": {},
   "source": [
    "This output is immediately valuable. It's obvious that many of the weather features (either through not showing up sufficiently often or not telling us anything useful when they do) are adding nothing to our model and should be removed. In addition, we're not getting a lot of value from our traffic aggregates. While these can remain in for the moment (in the hope that gathering more data will improve their usefulness), for our next pass we'll rerun our model without the poorly-scoring features that our use of LASSO has revealed.\n",
    "\n",
    "We see that a number of features have coefficient 0. If we increase α further, the solution would be sparser and sparser, i.e. more and more features would have 0 as coefficients.\n",
    "\n",
    "Note however that L1 regularized regression is unstable in a similar way as unregularized linear models are, meaning that the coefficients (and thus feature ranks) can vary significantly even on small data changes when there are correlated features in the data. Which brings us to L2 regularization.\n",
    "\n",
    "The practical benefit of this effect is that it means that we could include 100 features in our feature matrix and then, through adjusting lasso’s α hyperparameter, produce a model that uses only 10 (for instance) of the most important features. This lets us reduce variance while improving the interpretability of our model (since fewer features is easier to explain)."
   ]
  },
  {
   "cell_type": "code",
   "execution_count": null,
   "metadata": {},
   "outputs": [],
   "source": []
  }
 ],
 "metadata": {
  "kernelspec": {
   "display_name": "Python 3",
   "language": "python",
   "name": "python3"
  },
  "language_info": {
   "codemirror_mode": {
    "name": "ipython",
    "version": 3
   },
   "file_extension": ".py",
   "mimetype": "text/x-python",
   "name": "python",
   "nbconvert_exporter": "python",
   "pygments_lexer": "ipython3",
   "version": "3.7.9"
  }
 },
 "nbformat": 4,
 "nbformat_minor": 4
}
