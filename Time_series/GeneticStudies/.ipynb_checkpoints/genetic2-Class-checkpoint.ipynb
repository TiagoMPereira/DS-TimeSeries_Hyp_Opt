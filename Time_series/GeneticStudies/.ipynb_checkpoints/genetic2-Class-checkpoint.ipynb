{
 "cells": [
  {
   "cell_type": "code",
   "execution_count": 1,
   "metadata": {},
   "outputs": [],
   "source": [
    "import numpy as np\n",
    "import math\n",
    "import random\n",
    "import matplotlib.pyplot as plt"
   ]
  },
  {
   "cell_type": "code",
   "execution_count": 351,
   "metadata": {},
   "outputs": [
    {
     "name": "stdout",
     "output_type": "stream",
     "text": [
      "[[4.43, 3.088, 4.195, 4.564], [4.514, 4.509, 3.292, 1.805], [3.09, 3.489, 4.061, 4.272], [4.019, 3.942, 2.639, 1.05], [2.223, 1.166, 2.403, 3.33], [2.872, 2.687, 3.921, 1.828], [4.924, 3.663, 2.4, 2.766], [3.146, 4.025, 2.17, 4.228], [3.548, 2.987, 1.599, 4.797], [4.56, 1.617, 4.352, 2.495]]\n"
     ]
    }
   ],
   "source": [
    "#Inicialização dos cromossomos\n",
    "#0 - 5\n",
    "cromoT = []\n",
    "populacao = 10\n",
    "genes = 4\n",
    "for i in range(populacao):\n",
    "    cromo = []\n",
    "    for j in range(genes):\n",
    "        cromo.append(round(random.uniform(1,5),3))\n",
    "    \n",
    "    cromoT.append(cromo)\n",
    "    \n",
    "print(cromoT)"
   ]
  },
  {
   "cell_type": "code",
   "execution_count": 352,
   "metadata": {},
   "outputs": [
    {
     "data": {
      "text/plain": [
       "[55.276, 29.247, 47.499, 19.86, 35.59, 22.724, 40.756, 48.238, 55.173, 35.219]"
      ]
     },
     "execution_count": 352,
     "metadata": {},
     "output_type": "execute_result"
    }
   ],
   "source": [
    "#Função objetivo\n",
    "max_pontos = 100\n",
    "def obj(cr):\n",
    "    result = []\n",
    "    for cromos in cr:\n",
    "        \n",
    "        a = cromos[0]\n",
    "        b = cromos[1]\n",
    "        c = cromos[2]\n",
    "        d = cromos[3]\n",
    "        \n",
    "        #Equação de bernoulli\n",
    "        res = (pow(a,2)/2) + (b/c) + 9.8 * d\n",
    "        \n",
    "        if res > max_pontos:\n",
    "            res = max_pontos - (res - max_pontos)\n",
    "        \n",
    "        #print(res)\n",
    "        res = round(res, 3)\n",
    "        result.append(res)\n",
    "        \n",
    "    return result\n",
    "\n",
    "obj(cromoT)"
   ]
  },
  {
   "cell_type": "code",
   "execution_count": 353,
   "metadata": {},
   "outputs": [],
   "source": [
    "#Ordenar pontos e cromossomos\n",
    "def ordena (pontos, cromo):\n",
    "    zipped = zip(pontos, cromo)\n",
    "\n",
    "    ordenados = sorted(zipped)\n",
    "\n",
    "    pontos_ord = []\n",
    "    cromo_ord = []\n",
    "    for p, c in ordenados:\n",
    "\n",
    "        pontos_ord.append(p)\n",
    "        cromo_ord.append(c)\n",
    "        \n",
    "    return pontos_ord, cromo_ord"
   ]
  },
  {
   "cell_type": "code",
   "execution_count": 354,
   "metadata": {},
   "outputs": [],
   "source": [
    "#Deletando valores com pontuações abaixo do índice\n",
    "def limiar (pontos_ordenados, cromo_ordenados, taxa):\n",
    "    #Último ponto abaixo do índice\n",
    "    limiar = max_pontos * taxa\n",
    "    ultimo = -1\n",
    "    for p in range(len(pontos_ordenados)):\n",
    "        if pontos_ordenados[p] < limiar:\n",
    "            ultimo = p\n",
    "        else:\n",
    "            break;\n",
    "            \n",
    "    #Se nenhum for maior que o limiar manter 20 % dos maiores\n",
    "    if ultimo == (len(pontos_ordenados)-1):\n",
    "        limite_superior = int(len(pontos_ordenados)*0.8)\n",
    "        del pontos_ordenados[0:limite_superior]\n",
    "        del cromo_ordenados[0:limite_superior]  \n",
    "        \n",
    "    #deletando valores abaixo do limiar\n",
    "    elif ultimo > -1: #Ao menos 1 valor abaixo do limiar\n",
    "        del pontos_ordenados[0:ultimo+1]\n",
    "        del cromo_ordenados[0:ultimo+1]  \n",
    "        \n",
    "    return pontos_ordenados, cromo_ordenados"
   ]
  },
  {
   "cell_type": "code",
   "execution_count": 360,
   "metadata": {},
   "outputs": [],
   "source": [
    "#Fazendo cruzamentos\n",
    "\n",
    "def crossover(cromo_, pesos, pop):\n",
    "    population = pop\n",
    "    nova_geracao = []\n",
    "    for c in range (population):\n",
    "\n",
    "        pai = random.choices(cromo_, weights=pesos)[0]\n",
    "        id_pai = cromo_.index(pai)\n",
    "        \n",
    "        #Se houver mais de 1 cromossomo para a reprodução os pais devem ser diferentes\n",
    "        if len(cromo_) > 1:\n",
    "            cromo_.pop(id_pai)\n",
    "            pesos.pop(id_pai)\n",
    "            \n",
    "        mae = random.choices(cromo_, weights=pesos)[0]\n",
    "\n",
    "        filho = []\n",
    "        for gene in range(len(pai)):\n",
    "            gp = pai[gene]\n",
    "            gm = mae[gene]\n",
    "            gf = random.choice([gp, gm])\n",
    "\n",
    "            #Adicionando mutação\n",
    "            gf = round(gf * random.uniform(0.7, 1.3), 3)\n",
    "            \n",
    "            #delimitando genes do filho entre 1 - 10\n",
    "            if gf > 10:\n",
    "                gf = 10\n",
    "                \n",
    "            elif gf<1:\n",
    "                gf = 1\n",
    "\n",
    "            filho.append(gf)\n",
    "\n",
    "        #print(\"Filho:\",filho)\n",
    "        nova_geracao.append(filho)\n",
    "        \n",
    "    return nova_geracao"
   ]
  },
  {
   "cell_type": "code",
   "execution_count": 361,
   "metadata": {},
   "outputs": [],
   "source": [
    "def stop(cromo_parar):\n",
    "    \n",
    "    pontos_parar = 90#pontuação máxima\n",
    "    \n",
    "    #maior ponto\n",
    "    max_ponto = max(obj(cromo_parar))\n",
    "    \n",
    "    if max_ponto >= pontos_parar:\n",
    "        return True\n",
    "    else:\n",
    "        return False"
   ]
  },
  {
   "cell_type": "code",
   "execution_count": 362,
   "metadata": {},
   "outputs": [],
   "source": [
    "geracoes = 10\n",
    "# Tamanho da população\n",
    "pop = 10\n",
    "final_pont_max = []\n",
    "\n",
    "def evolucao(cromo, geracoes =100):\n",
    "    parar = False\n",
    "    max_pontos = 100\n",
    "    taxa = 0.4\n",
    "    for ger in range(geracoes):\n",
    "        #Calculando pontuação\n",
    "        print(\"GERAÇÃO: \",ger)\n",
    "        print(\"Cromossomos: \",cromo)\n",
    "        pontos = obj(cromo)\n",
    "        print(\"Pontuações: \", pontos)\n",
    "\n",
    "        final_pont_max.append(max(pontos))\n",
    "\n",
    "        #Atualizando cromossomo vencedor\n",
    "        pontos_max = max(pontos)\n",
    "        id_max = pontos.index(pontos_max)\n",
    "        vencedor = cromo[id_max]\n",
    "\n",
    "        #Organizar listas de acordo com a pontuação\n",
    "        pontos_ord, cromo_ord = ordena(pontos, cromo)\n",
    "\n",
    "        #deletando valores abaixo do limiar\n",
    "        if taxa <=0.8:\n",
    "            taxa = taxa + 0.05\n",
    "\n",
    "        #print(taxa)\n",
    "        ponto_cut, cromo_cut = limiar(pontos_ord, cromo_ord, taxa)\n",
    "\n",
    "        #Guardando 20% dos melhores para, além de serem pais, serem utilizados na nova geração\n",
    "        master = cromo_cut[math.floor(len(cromo_cut)*0.8):]\n",
    "\n",
    "        #Definindo pesos para os cromossomos\n",
    "        pesos = [i/max_pontos for i in ponto_cut]\n",
    "\n",
    "        #Crossover\n",
    "        geracao = crossover(cromo_cut, pesos, pop)\n",
    "\n",
    "        #Adicionando melhores da geração anterior\n",
    "        for m in master:\n",
    "            geracao.append(m)\n",
    "            print(m)\n",
    "\n",
    "        cromo = geracao\n",
    "        print(\"--------\")\n",
    "        parar = stop(cromo)\n",
    "        if parar:\n",
    "            #Calculando pontuação\n",
    "            print(\"GERAÇÃO: \",(ger+1))\n",
    "            print(\"Cromossomos: \",cromo)\n",
    "            pontos = obj(cromo)\n",
    "            print(\"Pontuações: \", pontos)\n",
    "\n",
    "            final_pont_max.append(max(pontos))\n",
    "\n",
    "            #Atualizando cromossomo vencedor\n",
    "            pontos_max = max(pontos)\n",
    "            id_max = pontos.index(pontos_max)\n",
    "            vencedor = cromo[id_max]\n",
    "            break;\n",
    "        print(\"Não parou\")\n",
    "    \n",
    "    print(\"Melhor pontuação: \", pontos_max)\n",
    "    print(\"Melhor cromossomo: \", vencedor)\n",
    "    print(\"Numero de gerações: \", (ger+1))"
   ]
  },
  {
   "cell_type": "code",
   "execution_count": 363,
   "metadata": {},
   "outputs": [
    {
     "name": "stdout",
     "output_type": "stream",
     "text": [
      "GERAÇÃO:  0\n",
      "Cromossomos:  [[4.43, 3.088, 4.195, 4.564], [4.514, 4.509, 3.292, 1.805], [3.09, 3.489, 4.061, 4.272], [4.019, 3.942, 2.639, 1.05], [2.223, 1.166, 2.403, 3.33], [2.872, 2.687, 3.921, 1.828], [4.924, 3.663, 2.4, 2.766], [3.146, 4.025, 2.17, 4.228], [3.548, 2.987, 1.599, 4.797], [4.56, 1.617, 4.352, 2.495]]\n",
      "Pontuações:  [55.276, 29.247, 47.499, 19.86, 35.59, 22.724, 40.756, 48.238, 55.173, 35.219]\n",
      "[4.43, 3.088, 4.195, 4.564]\n",
      "--------\n",
      "Não parou\n",
      "GERAÇÃO:  1\n",
      "Cromossomos:  [[3.138, 2.516, 3.07, 4.608], [3.585, 4.474, 2.315, 3.471], [2.912, 3.32, 2.057, 5.349], [4.292, 3.467, 1.998, 3.399], [2.85, 2.64, 1.564, 4.037], [4.007, 2.945, 1.294, 3.769], [2.739, 3.665, 1.12, 3.517], [4.459, 2.88, 1.397, 4.198], [3.709, 2.822, 1.842, 3.649], [2.537, 3.023, 1.572, 3.746], [4.43, 3.088, 4.195, 4.564]]\n",
      "Pontuações:  [50.901, 42.375, 58.274, 44.256, 45.312, 47.24, 41.49, 53.143, 44.171, 41.852, 55.276]\n",
      "[2.912, 3.32, 2.057, 5.349]\n",
      "--------\n",
      "Não parou\n",
      "GERAÇÃO:  2\n",
      "Cromossomos:  [[3.139, 3.005, 2.404, 4.262], [3.811, 1.962, 2.243, 3.465], [3.632, 2.743, 3.872, 6.093], [3.751, 2.958, 3.966, 4.118], [3.294, 2.253, 3.808, 5.388], [2.832, 1.968, 2.23, 5.251], [3.5, 2.524, 2.223, 5.461], [2.732, 2.885, 3.036, 5.709], [3.488, 2.252, 2.56, 5.925], [3.411, 2.3, 3.493, 3.585], [2.912, 3.32, 2.057, 5.349]]\n",
      "Pontuações:  [47.944, 42.094, 67.016, 48.137, 58.819, 56.352, 60.778, 60.63, 65.028, 41.609, 58.274]\n",
      "[3.488, 2.252, 2.56, 5.925]\n",
      "[3.632, 2.743, 3.872, 6.093]\n",
      "--------\n",
      "Não parou\n",
      "GERAÇÃO:  3\n",
      "Cromossomos:  [[4.042, 2.159, 3.056, 4.243], [2.7, 2.021, 1.701, 6.005], [2.422, 2.814, 1.592, 4.869], [3.742, 3.657, 3.171, 3.881], [3.045, 2.109, 3.886, 4.368], [3.399, 2.458, 4.524, 4.299], [3.025, 2.079, 2.875, 6.89], [3.013, 2.344, 2.061, 6.102], [3.609, 2.768, 3.131, 6.755], [4.106, 2.701, 2.589, 5.515], [3.488, 2.252, 2.56, 5.925], [3.632, 2.743, 3.872, 6.093]]\n",
      "Pontuações:  [50.457, 63.682, 52.417, 46.188, 47.985, 48.45, 72.82, 65.476, 73.596, 63.52, 65.028, 67.016]\n",
      "[3.025, 2.079, 2.875, 6.89]\n",
      "[3.609, 2.768, 3.131, 6.755]\n",
      "--------\n",
      "Não parou\n",
      "GERAÇÃO:  4\n",
      "Cromossomos:  [[3.121, 2.641, 3.318, 6.611], [2.233, 2.909, 2.315, 6.391], [2.414, 1.968, 1.533, 4.371], [3.49, 2.299, 1.931, 6.925], [2.732, 2.898, 3.468, 4.304], [4.526, 3.481, 2.521, 6.879], [4.019, 2.429, 2.419, 4.726], [4.378, 2.028, 2.48, 5.158], [5.091, 2.38, 2.058, 6.367], [3.83, 2.43, 1.832, 4.283], [3.025, 2.079, 2.875, 6.89], [3.609, 2.768, 3.131, 6.755]]\n",
      "Pontuações:  [70.454, 66.382, 47.033, 75.146, 46.747, 79.037, 55.395, 60.95, 76.512, 50.634, 72.82, 73.596]\n",
      "[5.091, 2.38, 2.058, 6.367]\n",
      "[4.526, 3.481, 2.521, 6.879]\n",
      "--------\n",
      "GERAÇÃO:  5\n",
      "Cromossomos:  [[3.899, 2.575, 3.359, 7.56], [3.453, 2.689, 1.526, 5.467], [3.608, 2.53, 2.06, 8.48], [2.92, 2.91, 2.346, 6.135], [2.675, 4.293, 1.824, 6.309], [2.576, 4.291, 2.019, 7.227], [5.667, 4.374, 2.103, 5.709], [4.67, 3.198, 3.032, 6.579], [3.535, 3.777, 1.967, 8.657], [3.887, 2.542, 3.181, 6.997], [5.091, 2.38, 2.058, 6.367], [4.526, 3.481, 2.521, 6.879]]\n",
      "Pontuações:  [82.456, 61.3, 90.841, 65.627, 67.76, 76.268, 74.086, 76.433, 93.007, 76.924, 76.512, 79.037]\n",
      "Melhor pontuação:  93.007\n",
      "Melhor cromossomo:  [3.535, 3.777, 1.967, 8.657]\n",
      "Numero de gerações:  5\n"
     ]
    }
   ],
   "source": [
    "evolucao(cromoT)"
   ]
  },
  {
   "cell_type": "markdown",
   "metadata": {},
   "source": [
    "### Plotando resultados"
   ]
  },
  {
   "cell_type": "code",
   "execution_count": 364,
   "metadata": {},
   "outputs": [
    {
     "data": {
      "image/png": "[encoded data removed]",
      "text/plain": [
       "<Figure size 864x432 with 1 Axes>"
      ]
     },
     "metadata": {
      "needs_background": "light"
     },
     "output_type": "display_data"
    }
   ],
   "source": [
    "plt.figure(figsize = (12,6))\n",
    "plt.plot(final_pont_max, color = 'green', label = 'Max Value')\n",
    "\n",
    "plt.legend()\n",
    "plt.show()"
   ]
  },
  {
   "cell_type": "code",
   "execution_count": 347,
   "metadata": {},
   "outputs": [
    {
     "data": {
      "text/plain": [
       "3.13"
      ]
     },
     "execution_count": 347,
     "metadata": {},
     "output_type": "execute_result"
    }
   ],
   "source": [
    "round(3.129, 2)"
   ]
  },
  {
   "cell_type": "code",
   "execution_count": null,
   "metadata": {},
   "outputs": [],
   "source": []
  }
 ],
 "metadata": {
  "kernelspec": {
   "display_name": "Python 3",
   "language": "python",
   "name": "python3"
  },
  "language_info": {
   "codemirror_mode": {
    "name": "ipython",
    "version": 3
   },
   "file_extension": ".py",
   "mimetype": "text/x-python",
   "name": "python",
   "nbconvert_exporter": "python",
   "pygments_lexer": "ipython3",
   "version": "3.7.9"
  }
 },
 "nbformat": 4,
 "nbformat_minor": 4
}
