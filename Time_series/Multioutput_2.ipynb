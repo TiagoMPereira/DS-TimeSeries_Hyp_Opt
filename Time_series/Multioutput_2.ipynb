{
 "cells": [
  {
   "cell_type": "code",
   "execution_count": 1,
   "metadata": {},
   "outputs": [],
   "source": [
    "import numpy as np\n",
    "import matplotlib.pyplot as plt\n",
    "import pandas as pd\n",
    "from sklearn.svm import SVR\n",
    "from sklearn.model_selection import GridSearchCV, train_test_split, RandomizedSearchCV\n",
    "from sklearn.multioutput import MultiOutputRegressor \n",
    "import time"
   ]
  },
  {
   "cell_type": "code",
   "execution_count": 2,
   "metadata": {},
   "outputs": [
    {
     "data": {
      "text/html": [
       "<div>\n",
       "<style scoped>\n",
       "    .dataframe tbody tr th:only-of-type {\n",
       "        vertical-align: middle;\n",
       "    }\n",
       "\n",
       "    .dataframe tbody tr th {\n",
       "        vertical-align: top;\n",
       "    }\n",
       "\n",
       "    .dataframe thead th {\n",
       "        text-align: right;\n",
       "    }\n",
       "</style>\n",
       "<table border=\"1\" class=\"dataframe\">\n",
       "  <thead>\n",
       "    <tr style=\"text-align: right;\">\n",
       "      <th></th>\n",
       "      <th>+3</th>\n",
       "      <th>+2</th>\n",
       "      <th>+1</th>\n",
       "      <th>Today</th>\n",
       "      <th>-1</th>\n",
       "      <th>-2</th>\n",
       "      <th>-3</th>\n",
       "    </tr>\n",
       "  </thead>\n",
       "  <tbody>\n",
       "    <tr>\n",
       "      <th>6</th>\n",
       "      <td>187.839996</td>\n",
       "      <td>187.869995</td>\n",
       "      <td>188.279999</td>\n",
       "      <td>186.850006</td>\n",
       "      <td>184.330002</td>\n",
       "      <td>184.669998</td>\n",
       "      <td>181.419998</td>\n",
       "    </tr>\n",
       "    <tr>\n",
       "      <th>7</th>\n",
       "      <td>187.770004</td>\n",
       "      <td>187.839996</td>\n",
       "      <td>187.869995</td>\n",
       "      <td>188.279999</td>\n",
       "      <td>186.850006</td>\n",
       "      <td>184.330002</td>\n",
       "      <td>184.669998</td>\n",
       "    </tr>\n",
       "    <tr>\n",
       "      <th>8</th>\n",
       "      <td>179.369995</td>\n",
       "      <td>187.770004</td>\n",
       "      <td>187.839996</td>\n",
       "      <td>187.869995</td>\n",
       "      <td>188.279999</td>\n",
       "      <td>186.850006</td>\n",
       "      <td>184.330002</td>\n",
       "    </tr>\n",
       "    <tr>\n",
       "      <th>9</th>\n",
       "      <td>178.389999</td>\n",
       "      <td>179.369995</td>\n",
       "      <td>187.770004</td>\n",
       "      <td>187.839996</td>\n",
       "      <td>187.869995</td>\n",
       "      <td>188.279999</td>\n",
       "      <td>186.850006</td>\n",
       "    </tr>\n",
       "    <tr>\n",
       "      <th>10</th>\n",
       "      <td>177.600006</td>\n",
       "      <td>178.389999</td>\n",
       "      <td>179.369995</td>\n",
       "      <td>187.770004</td>\n",
       "      <td>187.839996</td>\n",
       "      <td>187.869995</td>\n",
       "      <td>188.279999</td>\n",
       "    </tr>\n",
       "  </tbody>\n",
       "</table>\n",
       "</div>"
      ],
      "text/plain": [
       "            +3          +2          +1       Today          -1          -2  \\\n",
       "6   187.839996  187.869995  188.279999  186.850006  184.330002  184.669998   \n",
       "7   187.770004  187.839996  187.869995  188.279999  186.850006  184.330002   \n",
       "8   179.369995  187.770004  187.839996  187.869995  188.279999  186.850006   \n",
       "9   178.389999  179.369995  187.770004  187.839996  187.869995  188.279999   \n",
       "10  177.600006  178.389999  179.369995  187.770004  187.839996  187.869995   \n",
       "\n",
       "            -3  \n",
       "6   181.419998  \n",
       "7   184.669998  \n",
       "8   184.330002  \n",
       "9   186.850006  \n",
       "10  188.279999  "
      ]
     },
     "execution_count": 2,
     "metadata": {},
     "output_type": "execute_result"
    }
   ],
   "source": [
    "#Recolhendo dados do facebook e preparando dataset\n",
    "import pandas_datareader.data as web\n",
    "import datetime as dt\n",
    "\n",
    "end = dt.datetime(2020, 12, 31)\n",
    "start = dt.datetime(2018, 1, 1)\n",
    "\n",
    "df = web.DataReader(\"FB\", 'yahoo', start, end)\n",
    "\n",
    "df = df.reset_index()\n",
    "df = df.drop(columns=['Open','Date','High','Low','Volume','Adj Close'])\n",
    "df = df.rename(columns={'Close': 'Close 0'})\n",
    "\n",
    "def window (df, w):\n",
    "    for i in range(1,w):\n",
    "        df['Close '+str(i)] = df['Close '+str(i-1)].shift(1)\n",
    "    return df\n",
    "        \n",
    "df = window(df,7)\n",
    "df = df.rename(columns={'Close 0': '+3',\n",
    "                       'Close 1': '+2',\n",
    "                       'Close 2': '+1',\n",
    "                       'Close 3': 'Today',\n",
    "                       'Close 4': '-1',\n",
    "                       'Close 5': '-2',\n",
    "                       'Close 6': '-3'})\n",
    "df.dropna(inplace=True)\n",
    "df.head()"
   ]
  },
  {
   "cell_type": "code",
   "execution_count": 4,
   "metadata": {},
   "outputs": [],
   "source": [
    "#Definindo X e y\n",
    "X = df.loc[:,['Today','-1','-2','-3']]\n",
    "y = df.loc[:,['+1','+2','+3']]\n",
    "\n",
    "X_train, X_test, y_train, y_test = train_test_split(X, y, test_size=0.2, random_state=10)"
   ]
  },
  {
   "cell_type": "code",
   "execution_count": 9,
   "metadata": {},
   "outputs": [],
   "source": [
    "modelo = SVR(C=1.0, epsilon=1e-3, kernel='linear')"
   ]
  },
  {
   "cell_type": "code",
   "execution_count": 11,
   "metadata": {},
   "outputs": [],
   "source": [
    "modelo_multi = MultiOutputRegressor(modelo)"
   ]
  },
  {
   "cell_type": "code",
   "execution_count": 12,
   "metadata": {},
   "outputs": [
    {
     "data": {
      "text/plain": [
       "MultiOutputRegressor(estimator=SVR(epsilon=0.001, kernel='linear'))"
      ]
     },
     "execution_count": 12,
     "metadata": {},
     "output_type": "execute_result"
    }
   ],
   "source": [
    "modelo_multi.fit(X_train, y_train)"
   ]
  },
  {
   "cell_type": "code",
   "execution_count": 13,
   "metadata": {},
   "outputs": [
    {
     "data": {
      "text/plain": [
       "0.9746900207433683"
      ]
     },
     "execution_count": 13,
     "metadata": {},
     "output_type": "execute_result"
    }
   ],
   "source": [
    "modelo_multi.score(X_test, y_test)"
   ]
  },
  {
   "cell_type": "code",
   "execution_count": 21,
   "metadata": {},
   "outputs": [],
   "source": [
    "a= X_train[:1]"
   ]
  },
  {
   "cell_type": "code",
   "execution_count": 24,
   "metadata": {},
   "outputs": [
    {
     "data": {
      "text/plain": [
       "array([[204.36036311, 205.13236215, 204.95084381]])"
      ]
     },
     "execution_count": 24,
     "metadata": {},
     "output_type": "execute_result"
    }
   ],
   "source": [
    "modelo_multi.predict(a)"
   ]
  },
  {
   "cell_type": "code",
   "execution_count": 27,
   "metadata": {},
   "outputs": [
    {
     "data": {
      "text/html": [
       "<div>\n",
       "<style scoped>\n",
       "    .dataframe tbody tr th:only-of-type {\n",
       "        vertical-align: middle;\n",
       "    }\n",
       "\n",
       "    .dataframe tbody tr th {\n",
       "        vertical-align: top;\n",
       "    }\n",
       "\n",
       "    .dataframe thead th {\n",
       "        text-align: right;\n",
       "    }\n",
       "</style>\n",
       "<table border=\"1\" class=\"dataframe\">\n",
       "  <thead>\n",
       "    <tr style=\"text-align: right;\">\n",
       "      <th></th>\n",
       "      <th>+1</th>\n",
       "      <th>+2</th>\n",
       "      <th>+3</th>\n",
       "    </tr>\n",
       "  </thead>\n",
       "  <tbody>\n",
       "    <tr>\n",
       "      <th>132</th>\n",
       "      <td>203.539993</td>\n",
       "      <td>202.539993</td>\n",
       "      <td>206.919998</td>\n",
       "    </tr>\n",
       "  </tbody>\n",
       "</table>\n",
       "</div>"
      ],
      "text/plain": [
       "             +1          +2          +3\n",
       "132  203.539993  202.539993  206.919998"
      ]
     },
     "execution_count": 27,
     "metadata": {},
     "output_type": "execute_result"
    }
   ],
   "source": [
    "y_train[:1]"
   ]
  },
  {
   "cell_type": "code",
   "execution_count": null,
   "metadata": {},
   "outputs": [],
   "source": []
  }
 ],
 "metadata": {
  "kernelspec": {
   "display_name": "Python 3",
   "language": "python",
   "name": "python3"
  },
  "language_info": {
   "codemirror_mode": {
    "name": "ipython",
    "version": 3
   },
   "file_extension": ".py",
   "mimetype": "text/x-python",
   "name": "python",
   "nbconvert_exporter": "python",
   "pygments_lexer": "ipython3",
   "version": "3.7.9"
  }
 },
 "nbformat": 4,
 "nbformat_minor": 4
}
