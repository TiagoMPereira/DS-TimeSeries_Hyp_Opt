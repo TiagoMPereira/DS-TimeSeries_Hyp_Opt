{
 "cells": [
  {
   "cell_type": "code",
   "execution_count": 225,
   "metadata": {},
   "outputs": [],
   "source": [
    "import numpy as np\n",
    "import math\n",
    "import statistics\n",
    "import random"
   ]
  },
  {
   "cell_type": "code",
   "execution_count": 363,
   "metadata": {},
   "outputs": [
    {
     "name": "stdout",
     "output_type": "stream",
     "text": [
      "[[5, 2, 0, 0], [4, 5, 0, 1], [3, 5, 3, 0], [1, 5, 1, 1], [3, 1, 4, 5], [4, 5, 2, 5], [0, 1, 3, 1], [2, 0, 1, 4]]\n"
     ]
    }
   ],
   "source": [
    "#0 - 5\n",
    "cromoT = []\n",
    "\n",
    "for i in range(8):\n",
    "    cromo = []\n",
    "    for j in range(4):\n",
    "        cromo.append(random.randint(0,5))\n",
    "    \n",
    "    cromoT.append(cromo)\n",
    "    \n",
    "print(cromoT)"
   ]
  },
  {
   "cell_type": "code",
   "execution_count": 376,
   "metadata": {},
   "outputs": [
    {
     "name": "stdout",
     "output_type": "stream",
     "text": [
      "12\n",
      "26\n",
      "23\n",
      "34\n",
      "12\n",
      "15\n",
      "12\n",
      "24\n",
      "24\n"
     ]
    },
    {
     "data": {
      "text/plain": [
       "[12, 26, 23, 34, 12, 15, 12, 24, 24]"
      ]
     },
     "execution_count": 376,
     "metadata": {},
     "output_type": "execute_result"
    }
   ],
   "source": [
    "#Função objetivo\n",
    "def obj(cr):\n",
    "    result = []\n",
    "    for cromos in cr:\n",
    "        \n",
    "        a = cromos[0]\n",
    "        b = cromos[1]\n",
    "        c = cromos[2]\n",
    "        d = cromos[3]\n",
    "        \n",
    "        res = a+b+c*d\n",
    "        if res > 35:\n",
    "            res = res - 35\n",
    "        \n",
    "        print(res)\n",
    "        result.append(res)\n",
    "        \n",
    "    return result\n",
    "\n",
    "obj(cromoT)"
   ]
  },
  {
   "cell_type": "code",
   "execution_count": 388,
   "metadata": {},
   "outputs": [
    {
     "name": "stdout",
     "output_type": "stream",
     "text": [
      "25\n",
      "9\n",
      "29\n",
      "15\n",
      "25\n",
      "19\n",
      "24\n",
      "33\n",
      "26\n",
      "34\n"
     ]
    }
   ],
   "source": [
    "#Calculando pontuação\n",
    "pontos = obj(cromoT)"
   ]
  },
  {
   "cell_type": "code",
   "execution_count": 389,
   "metadata": {},
   "outputs": [],
   "source": [
    "#Organizar listas de acordo com a pontuação\n",
    "\n",
    "zipped = zip(pontos, cromoT)\n",
    "\n",
    "ordenados = sorted(zipped)\n",
    "\n",
    "pontos_ord = []\n",
    "cromo_ord = []\n",
    "for p, c in ordenados:\n",
    "    \n",
    "    pontos_ord.append(p)\n",
    "    cromo_ord.append(c)"
   ]
  },
  {
   "cell_type": "code",
   "execution_count": 390,
   "metadata": {},
   "outputs": [
    {
     "name": "stdout",
     "output_type": "stream",
     "text": [
      "0\n"
     ]
    }
   ],
   "source": [
    "#Último ponto abaixo do índice\n",
    "limiar = 35 * 0.4\n",
    "ultimo = -1\n",
    "for p in range(len(pontos_ord)):\n",
    "    if pontos_ord[p] < limiar:\n",
    "        ultimo = p\n",
    "    else:\n",
    "        break;\n",
    "        \n",
    "print(ultimo)"
   ]
  },
  {
   "cell_type": "code",
   "execution_count": 391,
   "metadata": {},
   "outputs": [],
   "source": [
    "#deletando valores abaixo do limiar\n",
    "if ultimo > -1:\n",
    "    del pontos_ord[0:ultimo+1]\n",
    "    del cromo_ord[0:ultimo+1]\n",
    "    \n",
    "\n",
    "#Guardando 20% dos melhores para, além de serem pais, serem utilizados na nova geração\n",
    "master = cromo_ord[math.floor(len(cromo_ord)*0.8):]"
   ]
  },
  {
   "cell_type": "code",
   "execution_count": 392,
   "metadata": {},
   "outputs": [
    {
     "name": "stdout",
     "output_type": "stream",
     "text": [
      "[15, 19, 24, 25, 25, 26, 29, 33, 34]\n",
      "[[3, 8, 1, 4], [3, 1, 3, 5], [3, 1, 5, 4], [3, 6, 4, 4], [4, 1, 5, 4], [5, 6, 3, 5], [4, 1, 6, 4], [3, 6, 6, 4], [5, 5, 4, 6]]\n",
      "[[3, 6, 6, 4], [5, 5, 4, 6]]\n"
     ]
    }
   ],
   "source": [
    "print(pontos_ord)\n",
    "print(cromo_ord)\n",
    "print(master)"
   ]
  },
  {
   "cell_type": "code",
   "execution_count": 393,
   "metadata": {},
   "outputs": [
    {
     "name": "stdout",
     "output_type": "stream",
     "text": [
      "[15, 19, 24, 25, 25, 26, 29, 33, 34]\n",
      "[[3, 8, 1, 4], [3, 1, 3, 5], [3, 1, 5, 4], [3, 6, 4, 4], [4, 1, 5, 4], [5, 6, 3, 5], [4, 1, 6, 4], [3, 6, 6, 4], [5, 5, 4, 6]]\n"
     ]
    }
   ],
   "source": [
    "pontos = pontos_ord.copy()\n",
    "cromoT = cromo_ord.copy()\n",
    "\n",
    "print(pontos)\n",
    "print(cromoT)"
   ]
  },
  {
   "cell_type": "markdown",
   "metadata": {},
   "source": [
    "#### Crossovers"
   ]
  },
  {
   "cell_type": "code",
   "execution_count": 394,
   "metadata": {},
   "outputs": [
    {
     "name": "stdout",
     "output_type": "stream",
     "text": [
      "[0.42857142857142855, 0.5428571428571428, 0.6857142857142857, 0.7142857142857143, 0.7142857142857143, 0.7428571428571429, 0.8285714285714286, 0.9428571428571428, 0.9714285714285714]\n"
     ]
    }
   ],
   "source": [
    "#Definindo pesos para os cromossomos\n",
    "max_pontos = 35\n",
    "pesos = [i/max_pontos for i in pontos]\n",
    "print(pesos)"
   ]
  },
  {
   "cell_type": "code",
   "execution_count": 395,
   "metadata": {},
   "outputs": [
    {
     "name": "stdout",
     "output_type": "stream",
     "text": [
      "Pai: [3, 6, 4, 4] - Mae: [5, 5, 4, 6]\n",
      "Filho: [3, 6, 3, 3]\n",
      "Pai: [4, 1, 6, 4] - Mae: [3, 6, 6, 4]\n",
      "Filho: [4, 1, 8, 4]\n",
      "Pai: [3, 6, 6, 4] - Mae: [4, 1, 5, 4]\n",
      "Filho: [3, 1, 4, 5]\n",
      "Pai: [4, 1, 6, 4] - Mae: [3, 1, 5, 4]\n",
      "Filho: [4, 1, 4, 3]\n",
      "Pai: [5, 5, 4, 6] - Mae: [3, 6, 4, 4]\n",
      "Filho: [3, 4, 4, 7]\n",
      "Pai: [4, 1, 6, 4] - Mae: [3, 6, 4, 4]\n",
      "Filho: [2, 8, 5, 3]\n",
      "Pai: [3, 1, 5, 4] - Mae: [3, 6, 6, 4]\n",
      "Filho: [4, 1, 5, 3]\n",
      "Pai: [3, 1, 5, 4] - Mae: [3, 6, 6, 4]\n",
      "Filho: [4, 5, 5, 5]\n"
     ]
    }
   ],
   "source": [
    "population = 8\n",
    "geracao = []\n",
    "for c in range (population):\n",
    "    \n",
    "    pai = random.choices(cromoT, weights=pesos)[0]\n",
    "    mae = random.choices(cromoT, weights=pesos)[0]\n",
    "    \n",
    "    #mae e pai devem ser diferentes\n",
    "    while(mae == pai):\n",
    "        mae = random.choices(cromoT, weights=pesos)[0]\n",
    "    \n",
    "    print(\"Pai:\",pai,\"- Mae:\",mae)\n",
    "    \n",
    "    filho = []\n",
    "    for gene in range(len(pai)):\n",
    "        gp = pai[gene]\n",
    "        gm = mae[gene]\n",
    "        gf = random.choice([gp, gm])\n",
    "        \n",
    "        #Adicionando mutação\n",
    "        gf = round(gf * random.uniform(0.7, 1.3))\n",
    "        \n",
    "        filho.append(gf)\n",
    "        \n",
    "    print(\"Filho:\",filho)\n",
    "    geracao.append(filho)"
   ]
  },
  {
   "cell_type": "code",
   "execution_count": 396,
   "metadata": {},
   "outputs": [],
   "source": [
    "for m in master:\n",
    "    geracao.append(m)"
   ]
  },
  {
   "cell_type": "code",
   "execution_count": 397,
   "metadata": {},
   "outputs": [
    {
     "name": "stdout",
     "output_type": "stream",
     "text": [
      "18\n",
      "-2\n",
      "24\n",
      "17\n",
      "35\n",
      "25\n",
      "20\n",
      "34\n",
      "33\n",
      "34\n"
     ]
    },
    {
     "data": {
      "text/plain": [
       "[18, -2, 24, 17, 35, 25, 20, 34, 33, 34]"
      ]
     },
     "execution_count": 397,
     "metadata": {},
     "output_type": "execute_result"
    }
   ],
   "source": [
    "obj(geracao)"
   ]
  },
  {
   "cell_type": "code",
   "execution_count": 387,
   "metadata": {},
   "outputs": [],
   "source": [
    "cromoT = geracao.copy()"
   ]
  },
  {
   "cell_type": "code",
   "execution_count": null,
   "metadata": {},
   "outputs": [],
   "source": []
  }
 ],
 "metadata": {
  "kernelspec": {
   "display_name": "Python 3",
   "language": "python",
   "name": "python3"
  },
  "language_info": {
   "codemirror_mode": {
    "name": "ipython",
    "version": 3
   },
   "file_extension": ".py",
   "mimetype": "text/x-python",
   "name": "python",
   "nbconvert_exporter": "python",
   "pygments_lexer": "ipython3",
   "version": "3.7.9"
  }
 },
 "nbformat": 4,
 "nbformat_minor": 4
}
