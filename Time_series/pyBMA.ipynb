{
 "cells": [
  {
   "cell_type": "code",
   "execution_count": 1,
   "metadata": {},
   "outputs": [
    {
     "name": "stdout",
     "output_type": "stream",
     "text": [
      "Collecting pyBMA"
     ]
    },
    {
     "name": "stderr",
     "output_type": "stream",
     "text": [
      "WARNING: You are using pip version 20.1.1; however, version 20.2.4 is available.\n",
      "You should consider upgrading via the 'c:\\users\\mpere\\appdata\\local\\programs\\python\\python37\\python.exe -m pip install --upgrade pip' command.\n"
     ]
    },
    {
     "name": "stdout",
     "output_type": "stream",
     "text": [
      "\n",
      "  Downloading pyBMA-0.1.1.zip (5.3 kB)\n",
      "Collecting lifelines\n",
      "  Downloading lifelines-0.25.6-py3-none-any.whl (347 kB)\n",
      "Requirement already satisfied: pandas in c:\\users\\mpere\\appdata\\local\\programs\\python\\python37\\lib\\site-packages (from pyBMA) (1.1.2)\n",
      "Requirement already satisfied: numpy in c:\\users\\mpere\\appdata\\local\\programs\\python\\python37\\lib\\site-packages (from pyBMA) (1.18.5)\n",
      "Requirement already satisfied: matplotlib>=3.0 in c:\\users\\mpere\\appdata\\local\\programs\\python\\python37\\lib\\site-packages (from lifelines->pyBMA) (3.3.2)\n",
      "Requirement already satisfied: scipy>=1.2.0 in c:\\users\\mpere\\appdata\\local\\programs\\python\\python37\\lib\\site-packages (from lifelines->pyBMA) (1.4.1)\n",
      "Collecting autograd-gamma>=0.3\n",
      "  Downloading autograd-gamma-0.5.0.tar.gz (4.0 kB)\n",
      "Requirement already satisfied: patsy>=0.5.0 in c:\\users\\mpere\\appdata\\local\\programs\\python\\python37\\lib\\site-packages (from lifelines->pyBMA) (0.5.1)\n",
      "Collecting autograd>=1.3\n",
      "  Downloading autograd-1.3.tar.gz (38 kB)\n",
      "Requirement already satisfied: python-dateutil>=2.7.3 in c:\\users\\mpere\\appdata\\local\\programs\\python\\python37\\lib\\site-packages (from pandas->pyBMA) (2.8.1)\n",
      "Requirement already satisfied: pytz>=2017.2 in c:\\users\\mpere\\appdata\\local\\programs\\python\\python37\\lib\\site-packages (from pandas->pyBMA) (2020.1)\n",
      "Requirement already satisfied: pyparsing!=2.0.4,!=2.1.2,!=2.1.6,>=2.0.3 in c:\\users\\mpere\\appdata\\local\\programs\\python\\python37\\lib\\site-packages (from matplotlib>=3.0->lifelines->pyBMA) (2.4.7)\n",
      "Requirement already satisfied: certifi>=2020.06.20 in c:\\users\\mpere\\appdata\\local\\programs\\python\\python37\\lib\\site-packages (from matplotlib>=3.0->lifelines->pyBMA) (2020.6.20)\n",
      "Requirement already satisfied: cycler>=0.10 in c:\\users\\mpere\\appdata\\local\\programs\\python\\python37\\lib\\site-packages (from matplotlib>=3.0->lifelines->pyBMA) (0.10.0)\n",
      "Requirement already satisfied: kiwisolver>=1.0.1 in c:\\users\\mpere\\appdata\\local\\programs\\python\\python37\\lib\\site-packages (from matplotlib>=3.0->lifelines->pyBMA) (1.2.0)\n",
      "Requirement already satisfied: pillow>=6.2.0 in c:\\users\\mpere\\appdata\\local\\programs\\python\\python37\\lib\\site-packages (from matplotlib>=3.0->lifelines->pyBMA) (7.2.0)\n",
      "Requirement already satisfied: six in c:\\users\\mpere\\appdata\\roaming\\python\\python37\\site-packages (from patsy>=0.5.0->lifelines->pyBMA) (1.12.0)\n",
      "Collecting future>=0.15.2\n",
      "  Using cached future-0.18.2.tar.gz (829 kB)\n",
      "Building wheels for collected packages: pyBMA, autograd-gamma, autograd, future\n",
      "  Building wheel for pyBMA (setup.py): started\n",
      "  Building wheel for pyBMA (setup.py): finished with status 'done'\n",
      "  Created wheel for pyBMA: filename=pyBMA-0.1.1-py3-none-any.whl size=4399 sha256=ad7345557082bbaf82bd340329352078f476e1e1a60fd146660bb321e993b92c\n",
      "  Stored in directory: c:\\users\\mpere\\appdata\\local\\pip\\cache\\wheels\\9c\\59\\22\\25f2e49f73ef81fb452591f8e0370180c7d01616d3a116b24d\n",
      "  Building wheel for autograd-gamma (setup.py): started\n",
      "  Building wheel for autograd-gamma (setup.py): finished with status 'done'\n",
      "  Created wheel for autograd-gamma: filename=autograd_gamma-0.5.0-py3-none-any.whl size=4039 sha256=47ead2cb9302a796c06d65d656e6b6252e8a6becea89537f8b979d310edaf72a\n",
      "  Stored in directory: c:\\users\\mpere\\appdata\\local\\pip\\cache\\wheels\\9f\\01\\ee\\1331593abb5725ff7d8c1333aee93a50a1c29d6ddda9665c9f\n",
      "  Building wheel for autograd (setup.py): started\n",
      "  Building wheel for autograd (setup.py): finished with status 'done'\n",
      "  Created wheel for autograd: filename=autograd-1.3-py3-none-any.whl size=47994 sha256=94b206e4419b0e66c61de30d88e9a3d1a345f5b34ce776d3e3cfb649fdc65478\n",
      "  Stored in directory: c:\\users\\mpere\\appdata\\local\\pip\\cache\\wheels\\ef\\32\\31\\0e87227cd0ca1d99ad51fbe4b54c6fa02afccf7e483d045e04\n",
      "  Building wheel for future (setup.py): started\n",
      "  Building wheel for future (setup.py): finished with status 'done'\n",
      "  Created wheel for future: filename=future-0.18.2-py3-none-any.whl size=491062 sha256=16558f0ce43eea151b551280c554975e5e3a6c9a3f795bd67c3881f1e76b3f4f\n",
      "  Stored in directory: c:\\users\\mpere\\appdata\\local\\pip\\cache\\wheels\\56\\b0\\fe\\4410d17b32f1f0c3cf54cdfb2bc04d7b4b8f4ae377e2229ba0\n",
      "Successfully built pyBMA autograd-gamma autograd future\n",
      "Installing collected packages: future, autograd, autograd-gamma, lifelines, pyBMA\n",
      "Successfully installed autograd-1.3 autograd-gamma-0.5.0 future-0.18.2 lifelines-0.25.6 pyBMA-0.1.1\n"
     ]
    }
   ],
   "source": [
    "!pip install pyBMA"
   ]
  },
  {
   "cell_type": "code",
   "execution_count": 44,
   "metadata": {},
   "outputs": [
    {
     "ename": "TypeError",
     "evalue": "fit() got an unexpected keyword argument 'include_likelihood'",
     "output_type": "error",
     "traceback": [
      "\u001b[1;31m---------------------------------------------------------------------------\u001b[0m",
      "\u001b[1;31mTypeError\u001b[0m                                 Traceback (most recent call last)",
      "\u001b[1;32m<ipython-input-44-a3a616b7aafa>\u001b[0m in \u001b[0;36m<module>\u001b[1;34m\u001b[0m\n\u001b[0;32m      1\u001b[0m \u001b[0mbma_cf\u001b[0m \u001b[1;33m=\u001b[0m \u001b[0mcp\u001b[0m\u001b[1;33m.\u001b[0m\u001b[0mCoxPHFitter\u001b[0m\u001b[1;33m(\u001b[0m\u001b[1;33m)\u001b[0m\u001b[1;33m\u001b[0m\u001b[1;33m\u001b[0m\u001b[0m\n\u001b[1;32m----> 2\u001b[1;33m \u001b[0mbma_cf\u001b[0m\u001b[1;33m.\u001b[0m\u001b[0mfit\u001b[0m\u001b[1;33m(\u001b[0m\u001b[0mdf\u001b[0m\u001b[1;33m,\u001b[0m \u001b[1;34m'Index'\u001b[0m\u001b[1;33m,\u001b[0m \u001b[0mevent_col\u001b[0m\u001b[1;33m=\u001b[0m\u001b[1;34m'Target'\u001b[0m\u001b[1;33m)\u001b[0m\u001b[1;33m\u001b[0m\u001b[1;33m\u001b[0m\u001b[0m\n\u001b[0m",
      "\u001b[1;32m~\\AppData\\Local\\Programs\\Python\\Python37\\lib\\site-packages\\pyBMA\\CoxPHFitter.py\u001b[0m in \u001b[0;36mfit\u001b[1;34m(self, df, duration_col, event_col, priors)\u001b[0m\n\u001b[0;32m     57\u001b[0m \u001b[1;33m\u001b[0m\u001b[0m\n\u001b[0;32m     58\u001b[0m         \u001b[1;31m# Create a baseline model using all covariates.\u001b[0m\u001b[1;33m\u001b[0m\u001b[1;33m\u001b[0m\u001b[1;33m\u001b[0m\u001b[0m\n\u001b[1;32m---> 59\u001b[1;33m         \u001b[0mself\u001b[0m\u001b[1;33m.\u001b[0m\u001b[0mfull_model\u001b[0m \u001b[1;33m=\u001b[0m \u001b[0mself\u001b[0m\u001b[1;33m.\u001b[0m\u001b[0m_create_model\u001b[0m\u001b[1;33m(\u001b[0m\u001b[1;32mNone\u001b[0m\u001b[1;33m)\u001b[0m\u001b[1;33m\u001b[0m\u001b[1;33m\u001b[0m\u001b[0m\n\u001b[0m\u001b[0;32m     60\u001b[0m         \u001b[0mself\u001b[0m\u001b[1;33m.\u001b[0m\u001b[0m_set_reference_loglik\u001b[0m\u001b[1;33m(\u001b[0m\u001b[1;33m)\u001b[0m\u001b[1;33m\u001b[0m\u001b[1;33m\u001b[0m\u001b[0m\n\u001b[0;32m     61\u001b[0m \u001b[1;33m\u001b[0m\u001b[0m\n",
      "\u001b[1;32m~\\AppData\\Local\\Programs\\Python\\Python37\\lib\\site-packages\\pyBMA\\CoxPHFitter.py\u001b[0m in \u001b[0;36m_create_model\u001b[1;34m(self, covariate_names)\u001b[0m\n\u001b[0;32m     89\u001b[0m     \u001b[1;32mdef\u001b[0m \u001b[0m_create_model\u001b[0m\u001b[1;33m(\u001b[0m\u001b[0mself\u001b[0m\u001b[1;33m,\u001b[0m \u001b[0mcovariate_names\u001b[0m\u001b[1;33m)\u001b[0m\u001b[1;33m:\u001b[0m\u001b[1;33m\u001b[0m\u001b[1;33m\u001b[0m\u001b[0m\n\u001b[0;32m     90\u001b[0m         return CoxPHModel.CoxPHModel(self.df, self.duration_col, self.event_col, self.priors, self.reference_loglik,\n\u001b[1;32m---> 91\u001b[1;33m                                      covariate_names)\n\u001b[0m\u001b[0;32m     92\u001b[0m \u001b[1;33m\u001b[0m\u001b[0m\n\u001b[0;32m     93\u001b[0m     \u001b[1;32mdef\u001b[0m \u001b[0m_set_reference_loglik\u001b[0m\u001b[1;33m(\u001b[0m\u001b[0mself\u001b[0m\u001b[1;33m)\u001b[0m\u001b[1;33m:\u001b[0m\u001b[1;33m\u001b[0m\u001b[1;33m\u001b[0m\u001b[0m\n",
      "\u001b[1;32m~\\AppData\\Local\\Programs\\Python\\Python37\\lib\\site-packages\\pyBMA\\CoxPHModel.py\u001b[0m in \u001b[0;36m__init__\u001b[1;34m(self, df, survival_col, cens_col, prior_params, reference_loglik, covariate_names)\u001b[0m\n\u001b[0;32m     20\u001b[0m         \u001b[0mself\u001b[0m\u001b[1;33m.\u001b[0m\u001b[0m_cf\u001b[0m \u001b[1;33m=\u001b[0m \u001b[1;32mNone\u001b[0m\u001b[1;33m\u001b[0m\u001b[1;33m\u001b[0m\u001b[0m\n\u001b[0;32m     21\u001b[0m         \u001b[1;32mif\u001b[0m \u001b[0mreference_loglik\u001b[0m \u001b[1;33m==\u001b[0m \u001b[1;32mNone\u001b[0m\u001b[1;33m:\u001b[0m\u001b[1;33m\u001b[0m\u001b[1;33m\u001b[0m\u001b[0m\n\u001b[1;32m---> 22\u001b[1;33m             \u001b[0mreference_loglik\u001b[0m \u001b[1;33m=\u001b[0m \u001b[0mself\u001b[0m\u001b[1;33m.\u001b[0m\u001b[0mloglik\u001b[0m\u001b[1;33m(\u001b[0m\u001b[1;33m)\u001b[0m\u001b[1;33m\u001b[0m\u001b[1;33m\u001b[0m\u001b[0m\n\u001b[0m\u001b[0;32m     23\u001b[0m         \u001b[0mself\u001b[0m\u001b[1;33m.\u001b[0m\u001b[0mreference_loglik\u001b[0m \u001b[1;33m=\u001b[0m \u001b[0mreference_loglik\u001b[0m\u001b[1;33m\u001b[0m\u001b[1;33m\u001b[0m\u001b[0m\n\u001b[0;32m     24\u001b[0m \u001b[1;33m\u001b[0m\u001b[0m\n",
      "\u001b[1;32m~\\AppData\\Local\\Programs\\Python\\Python37\\lib\\site-packages\\pyBMA\\CoxPHModel.py\u001b[0m in \u001b[0;36mloglik\u001b[1;34m(self)\u001b[0m\n\u001b[0;32m     33\u001b[0m     \u001b[1;32mdef\u001b[0m \u001b[0mloglik\u001b[0m\u001b[1;33m(\u001b[0m\u001b[0mself\u001b[0m\u001b[1;33m)\u001b[0m\u001b[1;33m:\u001b[0m\u001b[1;33m\u001b[0m\u001b[1;33m\u001b[0m\u001b[0m\n\u001b[0;32m     34\u001b[0m         \u001b[1;32mif\u001b[0m \u001b[0mself\u001b[0m\u001b[1;33m.\u001b[0m\u001b[0m_cf\u001b[0m \u001b[1;32mis\u001b[0m \u001b[1;32mNone\u001b[0m\u001b[1;33m:\u001b[0m\u001b[1;33m\u001b[0m\u001b[1;33m\u001b[0m\u001b[0m\n\u001b[1;32m---> 35\u001b[1;33m             \u001b[0mself\u001b[0m\u001b[1;33m.\u001b[0m\u001b[0m_run\u001b[0m\u001b[1;33m(\u001b[0m\u001b[1;33m)\u001b[0m\u001b[1;33m\u001b[0m\u001b[1;33m\u001b[0m\u001b[0m\n\u001b[0m\u001b[0;32m     36\u001b[0m         \u001b[1;32mreturn\u001b[0m \u001b[0mself\u001b[0m\u001b[1;33m.\u001b[0m\u001b[0m_cf\u001b[0m\u001b[1;33m.\u001b[0m\u001b[0m_log_likelihood\u001b[0m\u001b[1;33m\u001b[0m\u001b[1;33m\u001b[0m\u001b[0m\n\u001b[0;32m     37\u001b[0m \u001b[1;33m\u001b[0m\u001b[0m\n",
      "\u001b[1;32m~\\AppData\\Local\\Programs\\Python\\Python37\\lib\\site-packages\\pyBMA\\CoxPHModel.py\u001b[0m in \u001b[0;36m_run\u001b[1;34m(self)\u001b[0m\n\u001b[0;32m     29\u001b[0m     \u001b[1;32mdef\u001b[0m \u001b[0m_run\u001b[0m\u001b[1;33m(\u001b[0m\u001b[0mself\u001b[0m\u001b[1;33m)\u001b[0m\u001b[1;33m:\u001b[0m\u001b[1;33m\u001b[0m\u001b[1;33m\u001b[0m\u001b[0m\n\u001b[0;32m     30\u001b[0m         \u001b[0mself\u001b[0m\u001b[1;33m.\u001b[0m\u001b[0m_cf\u001b[0m \u001b[1;33m=\u001b[0m \u001b[0mlifelines\u001b[0m\u001b[1;33m.\u001b[0m\u001b[0mCoxPHFitter\u001b[0m\u001b[1;33m(\u001b[0m\u001b[1;33m)\u001b[0m\u001b[1;33m\u001b[0m\u001b[1;33m\u001b[0m\u001b[0m\n\u001b[1;32m---> 31\u001b[1;33m         \u001b[0mself\u001b[0m\u001b[1;33m.\u001b[0m\u001b[0m_cf\u001b[0m\u001b[1;33m.\u001b[0m\u001b[0mfit\u001b[0m\u001b[1;33m(\u001b[0m\u001b[0mself\u001b[0m\u001b[1;33m.\u001b[0m\u001b[0mdf\u001b[0m\u001b[1;33m,\u001b[0m \u001b[0mself\u001b[0m\u001b[1;33m.\u001b[0m\u001b[0msurvival_col\u001b[0m\u001b[1;33m,\u001b[0m \u001b[0mevent_col\u001b[0m\u001b[1;33m=\u001b[0m\u001b[0mself\u001b[0m\u001b[1;33m.\u001b[0m\u001b[0mcens_col\u001b[0m\u001b[1;33m,\u001b[0m \u001b[0minclude_likelihood\u001b[0m\u001b[1;33m=\u001b[0m\u001b[1;32mTrue\u001b[0m\u001b[1;33m)\u001b[0m\u001b[1;33m\u001b[0m\u001b[1;33m\u001b[0m\u001b[0m\n\u001b[0m\u001b[0;32m     32\u001b[0m \u001b[1;33m\u001b[0m\u001b[0m\n\u001b[0;32m     33\u001b[0m     \u001b[1;32mdef\u001b[0m \u001b[0mloglik\u001b[0m\u001b[1;33m(\u001b[0m\u001b[0mself\u001b[0m\u001b[1;33m)\u001b[0m\u001b[1;33m:\u001b[0m\u001b[1;33m\u001b[0m\u001b[1;33m\u001b[0m\u001b[0m\n",
      "\u001b[1;32m~\\AppData\\Local\\Programs\\Python\\Python37\\lib\\site-packages\\lifelines\\utils\\__init__.py\u001b[0m in \u001b[0;36mf\u001b[1;34m(model, *args, **kwargs)\u001b[0m\n\u001b[0;32m     52\u001b[0m         \u001b[1;32mdef\u001b[0m \u001b[0mf\u001b[0m\u001b[1;33m(\u001b[0m\u001b[0mmodel\u001b[0m\u001b[1;33m,\u001b[0m \u001b[1;33m*\u001b[0m\u001b[0margs\u001b[0m\u001b[1;33m,\u001b[0m \u001b[1;33m**\u001b[0m\u001b[0mkwargs\u001b[0m\u001b[1;33m)\u001b[0m\u001b[1;33m:\u001b[0m\u001b[1;33m\u001b[0m\u001b[1;33m\u001b[0m\u001b[0m\n\u001b[0;32m     53\u001b[0m             \u001b[0mcls\u001b[0m\u001b[1;33m.\u001b[0m\u001b[0mset_censoring_type\u001b[0m\u001b[1;33m(\u001b[0m\u001b[0mmodel\u001b[0m\u001b[1;33m,\u001b[0m \u001b[0mcls\u001b[0m\u001b[1;33m.\u001b[0m\u001b[0mRIGHT\u001b[0m\u001b[1;33m)\u001b[0m\u001b[1;33m\u001b[0m\u001b[1;33m\u001b[0m\u001b[0m\n\u001b[1;32m---> 54\u001b[1;33m             \u001b[1;32mreturn\u001b[0m \u001b[0mfunction\u001b[0m\u001b[1;33m(\u001b[0m\u001b[0mmodel\u001b[0m\u001b[1;33m,\u001b[0m \u001b[1;33m*\u001b[0m\u001b[0margs\u001b[0m\u001b[1;33m,\u001b[0m \u001b[1;33m**\u001b[0m\u001b[0mkwargs\u001b[0m\u001b[1;33m)\u001b[0m\u001b[1;33m\u001b[0m\u001b[1;33m\u001b[0m\u001b[0m\n\u001b[0m\u001b[0;32m     55\u001b[0m \u001b[1;33m\u001b[0m\u001b[0m\n\u001b[0;32m     56\u001b[0m         \u001b[1;32mreturn\u001b[0m \u001b[0mf\u001b[0m\u001b[1;33m\u001b[0m\u001b[1;33m\u001b[0m\u001b[0m\n",
      "\u001b[1;31mTypeError\u001b[0m: fit() got an unexpected keyword argument 'include_likelihood'"
     ]
    }
   ],
   "source": [
    "bma_cf = cp.CoxPHFitter()\n",
    "bma_cf.fit(df, 'Index', event_col='Target')"
   ]
  },
  {
   "cell_type": "code",
   "execution_count": 9,
   "metadata": {},
   "outputs": [],
   "source": [
    "import pyBMA.CoxPHFitter as cp"
   ]
  },
  {
   "cell_type": "code",
   "execution_count": 15,
   "metadata": {},
   "outputs": [
    {
     "name": "stdout",
     "output_type": "stream",
     "text": [
      "Help on method fit in module pyBMA.CoxPHFitter:\n",
      "\n",
      "fit(df, duration_col, event_col, priors=None) method of pyBMA.CoxPHFitter.CoxPHFitter instance\n",
      "    Average across models to produce the BMA estimate for coefficients\n",
      "    Parameters:\n",
      "      df: a Pandas dataframe.\n",
      "    \n",
      "          Required columns: duration_col and event_col\n",
      "    \n",
      "          Other columns: covariates to model\n",
      "    \n",
      "          duration_col: lifetime of subject in an arbitrary unit.\n",
      "          event_col: indicator for whether a death event was observerd.\n",
      "                        1: Death observed\n",
      "                        0: Censored\n",
      "    \n",
      "      duration_col: name of column holding duration info\n",
      "      event_col: name of column holding event info\n",
      "    \n",
      "      priors: A list of length = number of covariates.  Indexed by the ordering of covariates in df\n",
      "              Each element of the list is the probability of the respective variable being included in a correct model\n",
      "                e.g. if you are certain a variable should be included, set this to 1\n",
      "                if you wish to encourage parsimonious models set the value for all variables to be < 0.5\n",
      "                if you want to encourage complex models, set all values to > 0.5\n",
      "    \n",
      "              Values should be restricted to [0 -> 1]\n",
      "    \n",
      "              default: [0.5] * number covariates:\n",
      "                       completely uninformative, all models considered as likely\n",
      "    Returns:\n",
      "        self\n",
      "\n"
     ]
    }
   ],
   "source": [
    "help(bma_cf.fit)"
   ]
  },
  {
   "cell_type": "code",
   "execution_count": 21,
   "metadata": {},
   "outputs": [],
   "source": [
    "import numpy as np\n",
    "import matplotlib.pyplot as plt\n",
    "import pandas as pd"
   ]
  },
  {
   "cell_type": "code",
   "execution_count": 22,
   "metadata": {},
   "outputs": [
    {
     "data": {
      "text/html": [
       "<div>\n",
       "<style scoped>\n",
       "    .dataframe tbody tr th:only-of-type {\n",
       "        vertical-align: middle;\n",
       "    }\n",
       "\n",
       "    .dataframe tbody tr th {\n",
       "        vertical-align: top;\n",
       "    }\n",
       "\n",
       "    .dataframe thead th {\n",
       "        text-align: right;\n",
       "    }\n",
       "</style>\n",
       "<table border=\"1\" class=\"dataframe\">\n",
       "  <thead>\n",
       "    <tr style=\"text-align: right;\">\n",
       "      <th></th>\n",
       "      <th>Target</th>\n",
       "      <th>Close 1</th>\n",
       "      <th>Close 2</th>\n",
       "      <th>Close 3</th>\n",
       "      <th>Close 4</th>\n",
       "      <th>Close 5</th>\n",
       "    </tr>\n",
       "  </thead>\n",
       "  <tbody>\n",
       "    <tr>\n",
       "      <th>5</th>\n",
       "      <td>187.869995</td>\n",
       "      <td>188.279999</td>\n",
       "      <td>186.850006</td>\n",
       "      <td>184.330002</td>\n",
       "      <td>184.669998</td>\n",
       "      <td>181.419998</td>\n",
       "    </tr>\n",
       "    <tr>\n",
       "      <th>6</th>\n",
       "      <td>187.839996</td>\n",
       "      <td>187.869995</td>\n",
       "      <td>188.279999</td>\n",
       "      <td>186.850006</td>\n",
       "      <td>184.330002</td>\n",
       "      <td>184.669998</td>\n",
       "    </tr>\n",
       "    <tr>\n",
       "      <th>7</th>\n",
       "      <td>187.770004</td>\n",
       "      <td>187.839996</td>\n",
       "      <td>187.869995</td>\n",
       "      <td>188.279999</td>\n",
       "      <td>186.850006</td>\n",
       "      <td>184.330002</td>\n",
       "    </tr>\n",
       "    <tr>\n",
       "      <th>8</th>\n",
       "      <td>179.369995</td>\n",
       "      <td>187.770004</td>\n",
       "      <td>187.839996</td>\n",
       "      <td>187.869995</td>\n",
       "      <td>188.279999</td>\n",
       "      <td>186.850006</td>\n",
       "    </tr>\n",
       "    <tr>\n",
       "      <th>9</th>\n",
       "      <td>178.389999</td>\n",
       "      <td>179.369995</td>\n",
       "      <td>187.770004</td>\n",
       "      <td>187.839996</td>\n",
       "      <td>187.869995</td>\n",
       "      <td>188.279999</td>\n",
       "    </tr>\n",
       "  </tbody>\n",
       "</table>\n",
       "</div>"
      ],
      "text/plain": [
       "       Target     Close 1     Close 2     Close 3     Close 4     Close 5\n",
       "5  187.869995  188.279999  186.850006  184.330002  184.669998  181.419998\n",
       "6  187.839996  187.869995  188.279999  186.850006  184.330002  184.669998\n",
       "7  187.770004  187.839996  187.869995  188.279999  186.850006  184.330002\n",
       "8  179.369995  187.770004  187.839996  187.869995  188.279999  186.850006\n",
       "9  178.389999  179.369995  187.770004  187.839996  187.869995  188.279999"
      ]
     },
     "execution_count": 22,
     "metadata": {},
     "output_type": "execute_result"
    }
   ],
   "source": [
    "import pandas_datareader.data as web\n",
    "import datetime as dt\n",
    "\n",
    "end = dt.datetime(2020, 1, 1)\n",
    "start = dt.datetime(2018, 1, 1)\n",
    "\n",
    "df = web.DataReader(\"FB\", 'yahoo', start, end)\n",
    "\n",
    "df = df.reset_index()\n",
    "df = df.drop(columns=['Open','Date','High','Low','Volume','Adj Close'])\n",
    "df = df.rename(columns={'Close': 'Close 0'})\n",
    "def window (df, w):\n",
    "    for i in range(1,w):\n",
    "        df['Close '+str(i)] = df['Close '+str(i-1)].shift(1)\n",
    "    return df\n",
    "        \n",
    "df = window(df,6)\n",
    "df = df.rename(columns={'Close 0': 'Target'})\n",
    "df.dropna(inplace=True)\n",
    "df.head()"
   ]
  },
  {
   "cell_type": "code",
   "execution_count": 41,
   "metadata": {},
   "outputs": [],
   "source": [
    "df['Index'] = df.index"
   ]
  },
  {
   "cell_type": "code",
   "execution_count": 43,
   "metadata": {},
   "outputs": [
    {
     "data": {
      "text/html": [
       "<div>\n",
       "<style scoped>\n",
       "    .dataframe tbody tr th:only-of-type {\n",
       "        vertical-align: middle;\n",
       "    }\n",
       "\n",
       "    .dataframe tbody tr th {\n",
       "        vertical-align: top;\n",
       "    }\n",
       "\n",
       "    .dataframe thead th {\n",
       "        text-align: right;\n",
       "    }\n",
       "</style>\n",
       "<table border=\"1\" class=\"dataframe\">\n",
       "  <thead>\n",
       "    <tr style=\"text-align: right;\">\n",
       "      <th></th>\n",
       "      <th>Target</th>\n",
       "      <th>Close 1</th>\n",
       "      <th>Close 2</th>\n",
       "      <th>Close 3</th>\n",
       "      <th>Close 4</th>\n",
       "      <th>Close 5</th>\n",
       "      <th>Index</th>\n",
       "    </tr>\n",
       "  </thead>\n",
       "  <tbody>\n",
       "    <tr>\n",
       "      <th>5</th>\n",
       "      <td>187.869995</td>\n",
       "      <td>188.279999</td>\n",
       "      <td>186.850006</td>\n",
       "      <td>184.330002</td>\n",
       "      <td>184.669998</td>\n",
       "      <td>181.419998</td>\n",
       "      <td>5</td>\n",
       "    </tr>\n",
       "    <tr>\n",
       "      <th>6</th>\n",
       "      <td>187.839996</td>\n",
       "      <td>187.869995</td>\n",
       "      <td>188.279999</td>\n",
       "      <td>186.850006</td>\n",
       "      <td>184.330002</td>\n",
       "      <td>184.669998</td>\n",
       "      <td>6</td>\n",
       "    </tr>\n",
       "    <tr>\n",
       "      <th>7</th>\n",
       "      <td>187.770004</td>\n",
       "      <td>187.839996</td>\n",
       "      <td>187.869995</td>\n",
       "      <td>188.279999</td>\n",
       "      <td>186.850006</td>\n",
       "      <td>184.330002</td>\n",
       "      <td>7</td>\n",
       "    </tr>\n",
       "    <tr>\n",
       "      <th>8</th>\n",
       "      <td>179.369995</td>\n",
       "      <td>187.770004</td>\n",
       "      <td>187.839996</td>\n",
       "      <td>187.869995</td>\n",
       "      <td>188.279999</td>\n",
       "      <td>186.850006</td>\n",
       "      <td>8</td>\n",
       "    </tr>\n",
       "    <tr>\n",
       "      <th>9</th>\n",
       "      <td>178.389999</td>\n",
       "      <td>179.369995</td>\n",
       "      <td>187.770004</td>\n",
       "      <td>187.839996</td>\n",
       "      <td>187.869995</td>\n",
       "      <td>188.279999</td>\n",
       "      <td>9</td>\n",
       "    </tr>\n",
       "  </tbody>\n",
       "</table>\n",
       "</div>"
      ],
      "text/plain": [
       "       Target     Close 1     Close 2     Close 3     Close 4     Close 5  \\\n",
       "5  187.869995  188.279999  186.850006  184.330002  184.669998  181.419998   \n",
       "6  187.839996  187.869995  188.279999  186.850006  184.330002  184.669998   \n",
       "7  187.770004  187.839996  187.869995  188.279999  186.850006  184.330002   \n",
       "8  179.369995  187.770004  187.839996  187.869995  188.279999  186.850006   \n",
       "9  178.389999  179.369995  187.770004  187.839996  187.869995  188.279999   \n",
       "\n",
       "   Index  \n",
       "5      5  \n",
       "6      6  \n",
       "7      7  \n",
       "8      8  \n",
       "9      9  "
      ]
     },
     "execution_count": 43,
     "metadata": {},
     "output_type": "execute_result"
    }
   ],
   "source": [
    "df.head()"
   ]
  },
  {
   "cell_type": "code",
   "execution_count": null,
   "metadata": {},
   "outputs": [],
   "source": []
  }
 ],
 "metadata": {
  "kernelspec": {
   "display_name": "Python 3",
   "language": "python",
   "name": "python3"
  },
  "language_info": {
   "codemirror_mode": {
    "name": "ipython",
    "version": 3
   },
   "file_extension": ".py",
   "mimetype": "text/x-python",
   "name": "python",
   "nbconvert_exporter": "python",
   "pygments_lexer": "ipython3",
   "version": "3.7.9"
  }
 },
 "nbformat": 4,
 "nbformat_minor": 4
}
